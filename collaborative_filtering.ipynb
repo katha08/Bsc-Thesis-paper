{
  "nbformat": 4,
  "nbformat_minor": 0,
  "metadata": {
    "colab": {
      "name": "collaborative filtering",
      "provenance": [],
      "collapsed_sections": [],
      "include_colab_link": true
    },
    "kernelspec": {
      "name": "python3",
      "display_name": "Python 3"
    }
  },
  "cells": [
    {
      "cell_type": "markdown",
      "metadata": {
        "id": "view-in-github",
        "colab_type": "text"
      },
      "source": [
        "<a href=\"https://colab.research.google.com/github/katha08/Bsc-Thesis-paper/blob/master/collaborative_filtering.ipynb\" target=\"_parent\"><img src=\"https://colab.research.google.com/assets/colab-badge.svg\" alt=\"Open In Colab\"/></a>"
      ]
    },
    {
      "cell_type": "code",
      "metadata": {
        "id": "u4RBlUOD7XvW",
        "colab_type": "code",
        "outputId": "04b3f12c-63e8-456a-9f5e-11cfc5c41c13",
        "colab": {
          "base_uri": "https://localhost:8080/",
          "height": 289
        }
      },
      "source": [
        "import scipy\n",
        "import pandas as pd\n",
        "\n",
        "df=pd.read_csv('data_final_modified.csv')\n",
        "df.head()"
      ],
      "execution_count": 0,
      "outputs": [
        {
          "output_type": "execute_result",
          "data": {
            "text/html": [
              "<div>\n",
              "<style scoped>\n",
              "    .dataframe tbody tr th:only-of-type {\n",
              "        vertical-align: middle;\n",
              "    }\n",
              "\n",
              "    .dataframe tbody tr th {\n",
              "        vertical-align: top;\n",
              "    }\n",
              "\n",
              "    .dataframe thead th {\n",
              "        text-align: right;\n",
              "    }\n",
              "</style>\n",
              "<table border=\"1\" class=\"dataframe\">\n",
              "  <thead>\n",
              "    <tr style=\"text-align: right;\">\n",
              "      <th></th>\n",
              "      <th>State_Name</th>\n",
              "      <th>District_Name</th>\n",
              "      <th>Crop_Year</th>\n",
              "      <th>Season</th>\n",
              "      <th>Area</th>\n",
              "      <th>Rainfall</th>\n",
              "      <th>Humidity</th>\n",
              "      <th>Temperature</th>\n",
              "      <th>prevYearsRainfall</th>\n",
              "      <th>prevYearsTemperature</th>\n",
              "      <th>prevYearsHumidity</th>\n",
              "      <th>Crop</th>\n",
              "    </tr>\n",
              "  </thead>\n",
              "  <tbody>\n",
              "    <tr>\n",
              "      <th>0</th>\n",
              "      <td>Andhra Pradesh</td>\n",
              "      <td>ANANTAPUR</td>\n",
              "      <td>2008</td>\n",
              "      <td>Autum</td>\n",
              "      <td>34067</td>\n",
              "      <td>0.0</td>\n",
              "      <td>0.41</td>\n",
              "      <td>33</td>\n",
              "      <td>NaN</td>\n",
              "      <td>NaN</td>\n",
              "      <td>NaN</td>\n",
              "      <td>Arhar/Tur</td>\n",
              "    </tr>\n",
              "    <tr>\n",
              "      <th>1</th>\n",
              "      <td>Andhra Pradesh</td>\n",
              "      <td>ANANTAPUR</td>\n",
              "      <td>2008</td>\n",
              "      <td>Autum</td>\n",
              "      <td>743</td>\n",
              "      <td>0.0</td>\n",
              "      <td>0.41</td>\n",
              "      <td>33</td>\n",
              "      <td>NaN</td>\n",
              "      <td>NaN</td>\n",
              "      <td>NaN</td>\n",
              "      <td>Bajra</td>\n",
              "    </tr>\n",
              "    <tr>\n",
              "      <th>2</th>\n",
              "      <td>Andhra Pradesh</td>\n",
              "      <td>ANANTAPUR</td>\n",
              "      <td>2008</td>\n",
              "      <td>Autum</td>\n",
              "      <td>886</td>\n",
              "      <td>0.0</td>\n",
              "      <td>0.41</td>\n",
              "      <td>33</td>\n",
              "      <td>NaN</td>\n",
              "      <td>NaN</td>\n",
              "      <td>NaN</td>\n",
              "      <td>Castor seed</td>\n",
              "    </tr>\n",
              "    <tr>\n",
              "      <th>3</th>\n",
              "      <td>Andhra Pradesh</td>\n",
              "      <td>ANANTAPUR</td>\n",
              "      <td>2008</td>\n",
              "      <td>Autum</td>\n",
              "      <td>1611</td>\n",
              "      <td>0.0</td>\n",
              "      <td>0.41</td>\n",
              "      <td>33</td>\n",
              "      <td>NaN</td>\n",
              "      <td>NaN</td>\n",
              "      <td>NaN</td>\n",
              "      <td>Cotton(lint)</td>\n",
              "    </tr>\n",
              "    <tr>\n",
              "      <th>4</th>\n",
              "      <td>Andhra Pradesh</td>\n",
              "      <td>ANANTAPUR</td>\n",
              "      <td>2008</td>\n",
              "      <td>Autum</td>\n",
              "      <td>1574</td>\n",
              "      <td>0.0</td>\n",
              "      <td>0.41</td>\n",
              "      <td>33</td>\n",
              "      <td>NaN</td>\n",
              "      <td>NaN</td>\n",
              "      <td>NaN</td>\n",
              "      <td>Dry chillies</td>\n",
              "    </tr>\n",
              "  </tbody>\n",
              "</table>\n",
              "</div>"
            ],
            "text/plain": [
              "       State_Name District_Name  ...  prevYearsHumidity          Crop\n",
              "0  Andhra Pradesh     ANANTAPUR  ...                NaN     Arhar/Tur\n",
              "1  Andhra Pradesh     ANANTAPUR  ...                NaN         Bajra\n",
              "2  Andhra Pradesh     ANANTAPUR  ...                NaN   Castor seed\n",
              "3  Andhra Pradesh     ANANTAPUR  ...                NaN  Cotton(lint)\n",
              "4  Andhra Pradesh     ANANTAPUR  ...                NaN  Dry chillies\n",
              "\n",
              "[5 rows x 12 columns]"
            ]
          },
          "metadata": {
            "tags": []
          },
          "execution_count": 1
        }
      ]
    },
    {
      "cell_type": "code",
      "metadata": {
        "id": "y6mt0dcu_e9Y",
        "colab_type": "code",
        "outputId": "1fff2480-3ab7-452b-8a62-27b3b12853b8",
        "colab": {
          "base_uri": "https://localhost:8080/",
          "height": 204
        }
      },
      "source": [
        "df.drop(['State_Name','District_Name','Crop_Year','Season','prevYearsRainfall','prevYearsTemperature','prevYearsHumidity'],axis='columns',inplace=True)\n",
        "df.head()"
      ],
      "execution_count": 0,
      "outputs": [
        {
          "output_type": "execute_result",
          "data": {
            "text/html": [
              "<div>\n",
              "<style scoped>\n",
              "    .dataframe tbody tr th:only-of-type {\n",
              "        vertical-align: middle;\n",
              "    }\n",
              "\n",
              "    .dataframe tbody tr th {\n",
              "        vertical-align: top;\n",
              "    }\n",
              "\n",
              "    .dataframe thead th {\n",
              "        text-align: right;\n",
              "    }\n",
              "</style>\n",
              "<table border=\"1\" class=\"dataframe\">\n",
              "  <thead>\n",
              "    <tr style=\"text-align: right;\">\n",
              "      <th></th>\n",
              "      <th>Area</th>\n",
              "      <th>Rainfall</th>\n",
              "      <th>Humidity</th>\n",
              "      <th>Temperature</th>\n",
              "      <th>Crop</th>\n",
              "    </tr>\n",
              "  </thead>\n",
              "  <tbody>\n",
              "    <tr>\n",
              "      <th>0</th>\n",
              "      <td>34067</td>\n",
              "      <td>0.0</td>\n",
              "      <td>0.41</td>\n",
              "      <td>33</td>\n",
              "      <td>Arhar/Tur</td>\n",
              "    </tr>\n",
              "    <tr>\n",
              "      <th>1</th>\n",
              "      <td>743</td>\n",
              "      <td>0.0</td>\n",
              "      <td>0.41</td>\n",
              "      <td>33</td>\n",
              "      <td>Bajra</td>\n",
              "    </tr>\n",
              "    <tr>\n",
              "      <th>2</th>\n",
              "      <td>886</td>\n",
              "      <td>0.0</td>\n",
              "      <td>0.41</td>\n",
              "      <td>33</td>\n",
              "      <td>Castor seed</td>\n",
              "    </tr>\n",
              "    <tr>\n",
              "      <th>3</th>\n",
              "      <td>1611</td>\n",
              "      <td>0.0</td>\n",
              "      <td>0.41</td>\n",
              "      <td>33</td>\n",
              "      <td>Cotton(lint)</td>\n",
              "    </tr>\n",
              "    <tr>\n",
              "      <th>4</th>\n",
              "      <td>1574</td>\n",
              "      <td>0.0</td>\n",
              "      <td>0.41</td>\n",
              "      <td>33</td>\n",
              "      <td>Dry chillies</td>\n",
              "    </tr>\n",
              "  </tbody>\n",
              "</table>\n",
              "</div>"
            ],
            "text/plain": [
              "    Area  Rainfall  Humidity  Temperature           Crop\n",
              "0  34067       0.0      0.41            33     Arhar/Tur\n",
              "1    743       0.0      0.41            33         Bajra\n",
              "2    886       0.0      0.41            33   Castor seed\n",
              "3   1611       0.0      0.41            33  Cotton(lint)\n",
              "4   1574       0.0      0.41            33  Dry chillies"
            ]
          },
          "metadata": {
            "tags": []
          },
          "execution_count": 80
        }
      ]
    },
    {
      "cell_type": "code",
      "metadata": {
        "id": "c0A__H78_me3",
        "colab_type": "code",
        "outputId": "f52db443-c46d-4b52-de7d-a1a5fdebf48b",
        "colab": {
          "base_uri": "https://localhost:8080/",
          "height": 34
        }
      },
      "source": [
        "df.columns[df.isna().any()]"
      ],
      "execution_count": 0,
      "outputs": [
        {
          "output_type": "execute_result",
          "data": {
            "text/plain": [
              "Index([], dtype='object')"
            ]
          },
          "metadata": {
            "tags": []
          },
          "execution_count": 81
        }
      ]
    },
    {
      "cell_type": "code",
      "metadata": {
        "id": "Z_7ObWEn_x9-",
        "colab_type": "code",
        "outputId": "336caea8-bd4f-4658-e55b-7a6fa9566ef2",
        "colab": {
          "base_uri": "https://localhost:8080/",
          "height": 119
        }
      },
      "source": [
        "df.max()"
      ],
      "execution_count": 0,
      "outputs": [
        {
          "output_type": "execute_result",
          "data": {
            "text/plain": [
              "Area                    853577\n",
              "Rainfall                   107\n",
              "Humidity                 16.85\n",
              "Temperature                 83\n",
              "Crop            other oilseeds\n",
              "dtype: object"
            ]
          },
          "metadata": {
            "tags": []
          },
          "execution_count": 82
        }
      ]
    },
    {
      "cell_type": "code",
      "metadata": {
        "id": "6Fuwe7ZQAAng",
        "colab_type": "code",
        "outputId": "5479fe99-6994-4602-8d36-78c7b4c874d9",
        "colab": {
          "base_uri": "https://localhost:8080/",
          "height": 419
        }
      },
      "source": [
        " df.drop(['Area'], axis=1)\n"
      ],
      "execution_count": 0,
      "outputs": [
        {
          "output_type": "execute_result",
          "data": {
            "text/html": [
              "<div>\n",
              "<style scoped>\n",
              "    .dataframe tbody tr th:only-of-type {\n",
              "        vertical-align: middle;\n",
              "    }\n",
              "\n",
              "    .dataframe tbody tr th {\n",
              "        vertical-align: top;\n",
              "    }\n",
              "\n",
              "    .dataframe thead th {\n",
              "        text-align: right;\n",
              "    }\n",
              "</style>\n",
              "<table border=\"1\" class=\"dataframe\">\n",
              "  <thead>\n",
              "    <tr style=\"text-align: right;\">\n",
              "      <th></th>\n",
              "      <th>Rainfall</th>\n",
              "      <th>Humidity</th>\n",
              "      <th>Temperature</th>\n",
              "      <th>Crop</th>\n",
              "    </tr>\n",
              "  </thead>\n",
              "  <tbody>\n",
              "    <tr>\n",
              "      <th>0</th>\n",
              "      <td>0.0</td>\n",
              "      <td>0.41</td>\n",
              "      <td>33</td>\n",
              "      <td>Arhar/Tur</td>\n",
              "    </tr>\n",
              "    <tr>\n",
              "      <th>1</th>\n",
              "      <td>0.0</td>\n",
              "      <td>0.41</td>\n",
              "      <td>33</td>\n",
              "      <td>Bajra</td>\n",
              "    </tr>\n",
              "    <tr>\n",
              "      <th>2</th>\n",
              "      <td>0.0</td>\n",
              "      <td>0.41</td>\n",
              "      <td>33</td>\n",
              "      <td>Castor seed</td>\n",
              "    </tr>\n",
              "    <tr>\n",
              "      <th>3</th>\n",
              "      <td>0.0</td>\n",
              "      <td>0.41</td>\n",
              "      <td>33</td>\n",
              "      <td>Cotton(lint)</td>\n",
              "    </tr>\n",
              "    <tr>\n",
              "      <th>4</th>\n",
              "      <td>0.0</td>\n",
              "      <td>0.41</td>\n",
              "      <td>33</td>\n",
              "      <td>Dry chillies</td>\n",
              "    </tr>\n",
              "    <tr>\n",
              "      <th>...</th>\n",
              "      <td>...</td>\n",
              "      <td>...</td>\n",
              "      <td>...</td>\n",
              "      <td>...</td>\n",
              "    </tr>\n",
              "    <tr>\n",
              "      <th>11685</th>\n",
              "      <td>14.0</td>\n",
              "      <td>0.74</td>\n",
              "      <td>27</td>\n",
              "      <td>Moong(Green Gram)</td>\n",
              "    </tr>\n",
              "    <tr>\n",
              "      <th>11686</th>\n",
              "      <td>14.0</td>\n",
              "      <td>0.74</td>\n",
              "      <td>27</td>\n",
              "      <td>Ragi</td>\n",
              "    </tr>\n",
              "    <tr>\n",
              "      <th>11687</th>\n",
              "      <td>14.0</td>\n",
              "      <td>0.74</td>\n",
              "      <td>27</td>\n",
              "      <td>Rice</td>\n",
              "    </tr>\n",
              "    <tr>\n",
              "      <th>11688</th>\n",
              "      <td>14.0</td>\n",
              "      <td>0.74</td>\n",
              "      <td>27</td>\n",
              "      <td>Sesamum</td>\n",
              "    </tr>\n",
              "    <tr>\n",
              "      <th>11689</th>\n",
              "      <td>14.0</td>\n",
              "      <td>0.74</td>\n",
              "      <td>27</td>\n",
              "      <td>Urad</td>\n",
              "    </tr>\n",
              "  </tbody>\n",
              "</table>\n",
              "<p>11690 rows × 4 columns</p>\n",
              "</div>"
            ],
            "text/plain": [
              "       Rainfall  Humidity  Temperature                Crop\n",
              "0           0.0      0.41            33          Arhar/Tur\n",
              "1           0.0      0.41            33              Bajra\n",
              "2           0.0      0.41            33        Castor seed\n",
              "3           0.0      0.41            33       Cotton(lint)\n",
              "4           0.0      0.41            33       Dry chillies\n",
              "...         ...       ...           ...                ...\n",
              "11685      14.0      0.74            27  Moong(Green Gram)\n",
              "11686      14.0      0.74            27               Ragi\n",
              "11687      14.0      0.74            27               Rice\n",
              "11688      14.0      0.74            27            Sesamum\n",
              "11689      14.0      0.74            27               Urad\n",
              "\n",
              "[11690 rows x 4 columns]"
            ]
          },
          "metadata": {
            "tags": []
          },
          "execution_count": 83
        }
      ]
    },
    {
      "cell_type": "code",
      "metadata": {
        "id": "QKVAgD4zRy6Q",
        "colab_type": "code",
        "outputId": "73cd2bec-8185-46dc-9c41-2752115de415",
        "colab": {
          "base_uri": "https://localhost:8080/",
          "height": 238
        }
      },
      "source": [
        "print (df.Crop)"
      ],
      "execution_count": 0,
      "outputs": [
        {
          "output_type": "stream",
          "text": [
            "0                Arhar/Tur\n",
            "1                    Bajra\n",
            "2              Castor seed\n",
            "3             Cotton(lint)\n",
            "4             Dry chillies\n",
            "               ...        \n",
            "11685    Moong(Green Gram)\n",
            "11686                 Ragi\n",
            "11687                 Rice\n",
            "11688              Sesamum\n",
            "11689                 Urad\n",
            "Name: Crop, Length: 11690, dtype: object\n",
            "ERROR! Session/line number was not unique in database. History logging moved to new session 72\n"
          ],
          "name": "stdout"
        }
      ]
    },
    {
      "cell_type": "code",
      "metadata": {
        "id": "ukvEP5OUWA6_",
        "colab_type": "code",
        "outputId": "bf371aac-eee3-4a0a-8e1b-1f0fa3f9214a",
        "colab": {
          "base_uri": "https://localhost:8080/",
          "height": 527
        }
      },
      "source": [
        "rslt_df = df[df['Crop'] == 'Groundnut'] \n",
        "print(rslt_df)\n",
        "  \n",
        "print('\\nResult dataframe :\\n', rslt_df) "
      ],
      "execution_count": 0,
      "outputs": [
        {
          "output_type": "stream",
          "text": [
            "         Area  Rainfall  Humidity  Temperature        Crop\n",
            "5      853577       0.0      0.41            33  Groundnut\n",
            "18      16879       0.2      0.94            24  Groundnut\n",
            "33     510874       1.1      0.60            30  Groundnut\n",
            "48      19507      18.0      0.72            27  Groundnut\n",
            "65     814077      22.0      0.51            32  Groundnut\n",
            "...       ...       ...       ...           ...        ...\n",
            "11630     320      21.0      0.73            26  Groundnut\n",
            "11643      26      21.0      0.73            26  Groundnut\n",
            "11659       8       6.0      0.63            31  Groundnut\n",
            "11672     335      14.0      0.74            27  Groundnut\n",
            "11684      14      14.0      0.74            27  Groundnut\n",
            "\n",
            "[241 rows x 5 columns]\n",
            "\n",
            "Result dataframe :\n",
            "          Area  Rainfall  Humidity  Temperature        Crop\n",
            "5      853577       0.0      0.41            33  Groundnut\n",
            "18      16879       0.2      0.94            24  Groundnut\n",
            "33     510874       1.1      0.60            30  Groundnut\n",
            "48      19507      18.0      0.72            27  Groundnut\n",
            "65     814077      22.0      0.51            32  Groundnut\n",
            "...       ...       ...       ...           ...        ...\n",
            "11630     320      21.0      0.73            26  Groundnut\n",
            "11643      26      21.0      0.73            26  Groundnut\n",
            "11659       8       6.0      0.63            31  Groundnut\n",
            "11672     335      14.0      0.74            27  Groundnut\n",
            "11684      14      14.0      0.74            27  Groundnut\n",
            "\n",
            "[241 rows x 5 columns]\n"
          ],
          "name": "stdout"
        }
      ]
    },
    {
      "cell_type": "code",
      "metadata": {
        "id": "c_CDKT2DfVfz",
        "colab_type": "code",
        "outputId": "9a5d8eb5-47cb-40d3-c109-cf42fc7fd3bf",
        "colab": {
          "base_uri": "https://localhost:8080/",
          "height": 255
        }
      },
      "source": [
        "rslt_df = df[df['Crop'] == 'Arhar/Tur'] \n",
        "print(rslt_df)"
      ],
      "execution_count": 0,
      "outputs": [
        {
          "output_type": "stream",
          "text": [
            "        Area  Rainfall  Humidity  Temperature        Crop\n",
            "0      34067       0.0      0.41            33  Arhar/Tur\n",
            "28     20269       1.1      0.60            30  Arhar/Tur\n",
            "45       316      18.0      0.72            27  Arhar/Tur\n",
            "60     66013      22.0      0.51            32  Arhar/Tur\n",
            "91     51728       0.7      0.70            27  Arhar/Tur\n",
            "...      ...       ...       ...           ...        ...\n",
            "11252    280      15.0      0.83            30  Arhar/Tur\n",
            "11283    270       6.9      0.79            31  Arhar/Tur\n",
            "11315    310       3.0      0.74            30  Arhar/Tur\n",
            "11347    310      13.0      0.92            33  Arhar/Tur\n",
            "11383    310       4.0      0.78            31  Arhar/Tur\n",
            "\n",
            "[478 rows x 5 columns]\n"
          ],
          "name": "stdout"
        }
      ]
    },
    {
      "cell_type": "code",
      "metadata": {
        "id": "oRH0C7j4S4Eq",
        "colab_type": "code",
        "outputId": "a73ba660-31cc-4124-f21c-d9b7e47a6c29",
        "colab": {
          "base_uri": "https://localhost:8080/",
          "height": 131
        }
      },
      "source": [
        "gapminder_2002 = df['Groundnut']\n",
        ">print(gapminder_2002.shape)"
      ],
      "execution_count": 0,
      "outputs": [
        {
          "output_type": "error",
          "ename": "SyntaxError",
          "evalue": "ignored",
          "traceback": [
            "\u001b[0;36m  File \u001b[0;32m\"<ipython-input-86-1eaf54e0d5ca>\"\u001b[0;36m, line \u001b[0;32m2\u001b[0m\n\u001b[0;31m    >print(gapminder_2002.shape)\u001b[0m\n\u001b[0m    ^\u001b[0m\n\u001b[0;31mSyntaxError\u001b[0m\u001b[0;31m:\u001b[0m invalid syntax\n"
          ]
        }
      ]
    },
    {
      "cell_type": "code",
      "metadata": {
        "id": "E0-7ULQODsqS",
        "colab_type": "code",
        "colab": {}
      },
      "source": [
        "y=df.Crop\n",
        "x=df.drop('Crop',axis=1)\n"
      ],
      "execution_count": 0,
      "outputs": []
    },
    {
      "cell_type": "code",
      "metadata": {
        "id": "2gER-7IgNflV",
        "colab_type": "code",
        "outputId": "17d3297e-a5f0-4e68-9c8d-1367ca89ea28",
        "colab": {
          "base_uri": "https://localhost:8080/",
          "height": 255
        }
      },
      "source": [
        "print(x)"
      ],
      "execution_count": 0,
      "outputs": [
        {
          "output_type": "stream",
          "text": [
            "        Area  Rainfall  Humidity  Temperature \n",
            "0      34067       0.0      0.41            33\n",
            "1        743       0.0      0.41            33\n",
            "2        886       0.0      0.41            33\n",
            "3       1611       0.0      0.41            33\n",
            "4       1574       0.0      0.41            33\n",
            "...      ...       ...       ...           ...\n",
            "11685    107      14.0      0.74            27\n",
            "11686     32      14.0      0.74            27\n",
            "11687   4005      14.0      0.74            27\n",
            "11688    125      14.0      0.74            27\n",
            "11689     31      14.0      0.74            27\n",
            "\n",
            "[11690 rows x 4 columns]\n"
          ],
          "name": "stdout"
        }
      ]
    },
    {
      "cell_type": "code",
      "metadata": {
        "id": "SACInlqhRLE-",
        "colab_type": "code",
        "colab": {}
      },
      "source": [
        "y=df.Crop\n",
        "x=df.drop(['Area', 'Crop'], axis = 1)"
      ],
      "execution_count": 0,
      "outputs": []
    },
    {
      "cell_type": "code",
      "metadata": {
        "id": "DuwgpuHPRc0h",
        "colab_type": "code",
        "outputId": "470c86b0-1498-4223-f432-c034e6dec1f3",
        "colab": {
          "base_uri": "https://localhost:8080/",
          "height": 255
        }
      },
      "source": [
        "print (x)"
      ],
      "execution_count": 0,
      "outputs": [
        {
          "output_type": "stream",
          "text": [
            "       Rainfall  Humidity  Temperature \n",
            "0           0.0      0.41            33\n",
            "1           0.0      0.41            33\n",
            "2           0.0      0.41            33\n",
            "3           0.0      0.41            33\n",
            "4           0.0      0.41            33\n",
            "...         ...       ...           ...\n",
            "11685      14.0      0.74            27\n",
            "11686      14.0      0.74            27\n",
            "11687      14.0      0.74            27\n",
            "11688      14.0      0.74            27\n",
            "11689      14.0      0.74            27\n",
            "\n",
            "[11690 rows x 3 columns]\n"
          ],
          "name": "stdout"
        }
      ]
    },
    {
      "cell_type": "code",
      "metadata": {
        "id": "vblo6E9bSbM8",
        "colab_type": "code",
        "outputId": "a7c306cc-5e1b-4774-89ed-f9d66d72a545",
        "colab": {
          "base_uri": "https://localhost:8080/",
          "height": 221
        }
      },
      "source": [
        "print(y)"
      ],
      "execution_count": 0,
      "outputs": [
        {
          "output_type": "stream",
          "text": [
            "0                Arhar/Tur\n",
            "1                    Bajra\n",
            "2              Castor seed\n",
            "3             Cotton(lint)\n",
            "4             Dry chillies\n",
            "               ...        \n",
            "11685    Moong(Green Gram)\n",
            "11686                 Ragi\n",
            "11687                 Rice\n",
            "11688              Sesamum\n",
            "11689                 Urad\n",
            "Name: Crop, Length: 11690, dtype: object\n"
          ],
          "name": "stdout"
        }
      ]
    },
    {
      "cell_type": "code",
      "metadata": {
        "id": "7Cs5SjVySiei",
        "colab_type": "code",
        "outputId": "5b59f131-3cb9-49f6-e746-ec4819c94161",
        "colab": {
          "base_uri": "https://localhost:8080/",
          "height": 204
        }
      },
      "source": [
        "x_train,x_test,y_train,y_test=train_test_split(x,y,test_size=0.5)\n",
        "x_train.head()"
      ],
      "execution_count": 0,
      "outputs": [
        {
          "output_type": "execute_result",
          "data": {
            "text/html": [
              "<div>\n",
              "<style scoped>\n",
              "    .dataframe tbody tr th:only-of-type {\n",
              "        vertical-align: middle;\n",
              "    }\n",
              "\n",
              "    .dataframe tbody tr th {\n",
              "        vertical-align: top;\n",
              "    }\n",
              "\n",
              "    .dataframe thead th {\n",
              "        text-align: right;\n",
              "    }\n",
              "</style>\n",
              "<table border=\"1\" class=\"dataframe\">\n",
              "  <thead>\n",
              "    <tr style=\"text-align: right;\">\n",
              "      <th></th>\n",
              "      <th>Rainfall</th>\n",
              "      <th>Humidity</th>\n",
              "      <th>Temperature</th>\n",
              "    </tr>\n",
              "  </thead>\n",
              "  <tbody>\n",
              "    <tr>\n",
              "      <th>3992</th>\n",
              "      <td>11.2</td>\n",
              "      <td>0.80</td>\n",
              "      <td>30</td>\n",
              "    </tr>\n",
              "    <tr>\n",
              "      <th>4971</th>\n",
              "      <td>39.6</td>\n",
              "      <td>0.90</td>\n",
              "      <td>28</td>\n",
              "    </tr>\n",
              "    <tr>\n",
              "      <th>1650</th>\n",
              "      <td>0.0</td>\n",
              "      <td>0.64</td>\n",
              "      <td>25</td>\n",
              "    </tr>\n",
              "    <tr>\n",
              "      <th>4565</th>\n",
              "      <td>3.0</td>\n",
              "      <td>0.88</td>\n",
              "      <td>25</td>\n",
              "    </tr>\n",
              "    <tr>\n",
              "      <th>6451</th>\n",
              "      <td>3.5</td>\n",
              "      <td>0.65</td>\n",
              "      <td>30</td>\n",
              "    </tr>\n",
              "  </tbody>\n",
              "</table>\n",
              "</div>"
            ],
            "text/plain": [
              "      Rainfall  Humidity  Temperature \n",
              "3992      11.2      0.80            30\n",
              "4971      39.6      0.90            28\n",
              "1650       0.0      0.64            25\n",
              "4565       3.0      0.88            25\n",
              "6451       3.5      0.65            30"
            ]
          },
          "metadata": {
            "tags": []
          },
          "execution_count": 96
        }
      ]
    },
    {
      "cell_type": "code",
      "metadata": {
        "id": "oWDNQityTiZK",
        "colab_type": "code",
        "outputId": "22b74c6d-2367-42f1-b638-f26e3bc476f5",
        "colab": {
          "base_uri": "https://localhost:8080/",
          "height": 221
        }
      },
      "source": [
        "print(y_test)"
      ],
      "execution_count": 0,
      "outputs": [
        {
          "output_type": "stream",
          "text": [
            "6865                  Rice\n",
            "4591                 Wheat\n",
            "1315                 Maize\n",
            "8965                  Rice\n",
            "3445                  Urad\n",
            "               ...        \n",
            "3394             Arhar/Tur\n",
            "1208          Dry chillies\n",
            "10057    Rapeseed &Mustard\n",
            "9555             Arhar/Tur\n",
            "2911                 Paddy\n",
            "Name: Crop, Length: 5845, dtype: object\n"
          ],
          "name": "stdout"
        }
      ]
    },
    {
      "cell_type": "code",
      "metadata": {
        "id": "B0VpI7wuaILr",
        "colab_type": "code",
        "outputId": "5e0dc9c1-ee6e-4b98-eb08-02abc4228e0a",
        "colab": {
          "base_uri": "https://localhost:8080/",
          "height": 136
        }
      },
      "source": [
        "a=x_train.to_numpy()\n",
        "print(a)"
      ],
      "execution_count": 0,
      "outputs": [
        {
          "output_type": "stream",
          "text": [
            "[[11.2   0.8  30.  ]\n",
            " [39.6   0.9  28.  ]\n",
            " [ 0.    0.64 25.  ]\n",
            " ...\n",
            " [ 0.    0.79 25.  ]\n",
            " [ 0.    0.75 25.  ]\n",
            " [ 2.6   0.9  30.  ]]\n"
          ],
          "name": "stdout"
        }
      ]
    },
    {
      "cell_type": "code",
      "metadata": {
        "id": "J7Y4YaXvcUzk",
        "colab_type": "code",
        "outputId": "0e68a5f5-5c70-4740-cd67-eb447ea9a54c",
        "colab": {
          "base_uri": "https://localhost:8080/",
          "height": 34
        }
      },
      "source": [
        "a.size"
      ],
      "execution_count": 0,
      "outputs": [
        {
          "output_type": "execute_result",
          "data": {
            "text/plain": [
              "17535"
            ]
          },
          "metadata": {
            "tags": []
          },
          "execution_count": 99
        }
      ]
    },
    {
      "cell_type": "code",
      "metadata": {
        "id": "X8c9WyPhcCAX",
        "colab_type": "code",
        "outputId": "22ca9f0d-8ca1-4b8a-82fa-097f39c0bb63",
        "colab": {
          "base_uri": "https://localhost:8080/",
          "height": 136
        }
      },
      "source": [
        "b=x_test.to_numpy()\n",
        "print(b)"
      ],
      "execution_count": 0,
      "outputs": [
        {
          "output_type": "stream",
          "text": [
            "[[ 0.    0.75 27.  ]\n",
            " [ 0.    0.65 25.  ]\n",
            " [ 5.    0.6  26.  ]\n",
            " ...\n",
            " [ 1.3   0.96 23.  ]\n",
            " [ 8.    0.64 31.  ]\n",
            " [ 8.1   0.83 32.  ]]\n"
          ],
          "name": "stdout"
        }
      ]
    },
    {
      "cell_type": "code",
      "metadata": {
        "id": "3WvXQlZOcbLz",
        "colab_type": "code",
        "outputId": "20e584a1-440a-4594-f5ba-409403fc477f",
        "colab": {
          "base_uri": "https://localhost:8080/",
          "height": 34
        }
      },
      "source": [
        "b.size"
      ],
      "execution_count": 0,
      "outputs": [
        {
          "output_type": "execute_result",
          "data": {
            "text/plain": [
              "17535"
            ]
          },
          "metadata": {
            "tags": []
          },
          "execution_count": 101
        }
      ]
    },
    {
      "cell_type": "code",
      "metadata": {
        "id": "GkmWXhGYeJZJ",
        "colab_type": "code",
        "outputId": "00416605-8be6-4d51-d2b6-4b015198bf82",
        "colab": {
          "base_uri": "https://localhost:8080/",
          "height": 34
        }
      },
      "source": [
        "a.shape"
      ],
      "execution_count": 0,
      "outputs": [
        {
          "output_type": "execute_result",
          "data": {
            "text/plain": [
              "(5845, 3)"
            ]
          },
          "metadata": {
            "tags": []
          },
          "execution_count": 102
        }
      ]
    },
    {
      "cell_type": "code",
      "metadata": {
        "id": "7An2r0jQegHK",
        "colab_type": "code",
        "outputId": "1abc875c-9efe-4438-97ef-b920f9797681",
        "colab": {
          "base_uri": "https://localhost:8080/",
          "height": 34
        }
      },
      "source": [
        "b.shape"
      ],
      "execution_count": 0,
      "outputs": [
        {
          "output_type": "execute_result",
          "data": {
            "text/plain": [
              "(5845, 3)"
            ]
          },
          "metadata": {
            "tags": []
          },
          "execution_count": 103
        }
      ]
    },
    {
      "cell_type": "code",
      "metadata": {
        "id": "Z4CbsKajepwk",
        "colab_type": "code",
        "outputId": "5322b761-2cad-40c9-c7f3-88c0eb539596",
        "colab": {
          "base_uri": "https://localhost:8080/",
          "height": 34
        }
      },
      "source": [
        "len (a)"
      ],
      "execution_count": 0,
      "outputs": [
        {
          "output_type": "execute_result",
          "data": {
            "text/plain": [
              "5845"
            ]
          },
          "metadata": {
            "tags": []
          },
          "execution_count": 18
        }
      ]
    },
    {
      "cell_type": "code",
      "metadata": {
        "id": "Tlk-Au2Oe1Tf",
        "colab_type": "code",
        "outputId": "fe362814-94e6-42b5-c3f6-514fec848b15",
        "colab": {
          "base_uri": "https://localhost:8080/",
          "height": 34
        }
      },
      "source": [
        "len(b)"
      ],
      "execution_count": 0,
      "outputs": [
        {
          "output_type": "execute_result",
          "data": {
            "text/plain": [
              "5845"
            ]
          },
          "metadata": {
            "tags": []
          },
          "execution_count": 19
        }
      ]
    },
    {
      "cell_type": "code",
      "metadata": {
        "id": "_gcWTezAfa75",
        "colab_type": "code",
        "outputId": "9c7ba56d-aa01-448b-fcdb-26e65eea4181",
        "colab": {
          "base_uri": "https://localhost:8080/",
          "height": 34
        }
      },
      "source": [
        "a.ndim"
      ],
      "execution_count": 0,
      "outputs": [
        {
          "output_type": "execute_result",
          "data": {
            "text/plain": [
              "2"
            ]
          },
          "metadata": {
            "tags": []
          },
          "execution_count": 20
        }
      ]
    },
    {
      "cell_type": "code",
      "metadata": {
        "id": "i5l_zuVjf1Ka",
        "colab_type": "code",
        "outputId": "864d1c97-6ef1-4496-b713-323e334c0a52",
        "colab": {
          "base_uri": "https://localhost:8080/",
          "height": 34
        }
      },
      "source": [
        "b.ndim"
      ],
      "execution_count": 0,
      "outputs": [
        {
          "output_type": "execute_result",
          "data": {
            "text/plain": [
              "2"
            ]
          },
          "metadata": {
            "tags": []
          },
          "execution_count": 21
        }
      ]
    },
    {
      "cell_type": "code",
      "metadata": {
        "id": "AmQNQDoSH7zM",
        "colab_type": "code",
        "colab": {}
      },
      "source": [
        "\n",
        "import numpy as np\n"
      ],
      "execution_count": 0,
      "outputs": []
    },
    {
      "cell_type": "code",
      "metadata": {
        "id": "Ba_ebvoPdo_x",
        "colab_type": "code",
        "colab": {}
      },
      "source": [
        "from sklearn.metrics.pairwise import cosine_similarity as cosine\n",
        "\n",
        "results = []\n",
        "for i in range(a.shape[0]):\n",
        "     results.append(np.max(cosine(b[None,i,:], a)))"
      ],
      "execution_count": 0,
      "outputs": []
    },
    {
      "cell_type": "code",
      "metadata": {
        "id": "owX40BPmjVdy",
        "colab_type": "code",
        "outputId": "5da0fb73-4645-40cc-803a-2b436243170b",
        "colab": {
          "base_uri": "https://localhost:8080/",
          "height": 54
        }
      },
      "source": [
        "print (results)"
      ],
      "execution_count": 0,
      "outputs": [
        {
          "output_type": "stream",
          "text": [
            "[1.0, 1.0, 0.9999999999999999, 0.9999999999999998, 1.0, 1.0, 0.9999999999999999, 0.9999999999999999, 0.9999999999999999, 1.0, 1.0, 1.0, 1.0000000000000002, 1.0, 0.9999999999999999, 1.0, 1.0, 1.0, 1.0000000000000002, 1.0, 0.9999999999999999, 1.0, 1.0000000000000002, 0.9999999999999999, 1.0000000000000002, 0.9999999999999999, 1.0, 1.0, 1.0, 1.0000000000000002, 1.0000000000000002, 0.9999999999999998, 0.9999999999999999, 0.9999999999999999, 0.9999999999999999, 0.9999999999999999, 0.9999999999999998, 0.9999999999999998, 0.9999999999999999, 1.0000000000000002, 1.0000000000000002, 1.0000000000000002, 0.9999999999999998, 0.9999999999999997, 1.0, 1.0, 1.0, 1.0, 1.0, 1.0, 0.9999999999999999, 0.9999999999999999, 1.0, 1.0, 1.0, 1.0, 0.9999999999999999, 1.0000000000000002, 1.0, 1.0, 0.9999999999999999, 0.9999999999999999, 0.9999999999999999, 1.0, 0.9999999999999998, 0.9999999999999999, 1.0000000000000002, 1.0, 0.9999999999999999, 1.0, 0.9999999999999999, 1.0, 0.9999999999999999, 1.0000000000000002, 1.0, 1.0, 0.9999999999999999, 0.9999999999999997, 1.0, 0.9999999999999998, 1.0, 1.0, 1.0000000000000002, 1.0, 0.9999999999999999, 1.0, 1.0000000000000002, 1.0, 1.0, 1.0, 1.0000000000000002, 1.0, 1.0000000000000002, 1.0, 0.9999999999999999, 0.9999999999999999, 1.0000000000000002, 1.0, 1.0, 1.0000000000000002, 1.0, 0.9999999999999999, 0.9999999999999999, 1.0, 1.0000000000000002, 1.0, 0.9999999999999999, 1.0000000000000002, 0.9999999999999999, 1.0, 1.0, 1.0, 1.0, 1.0, 1.0, 1.0, 1.0, 1.0000000000000002, 1.0, 1.0, 0.9999999999999999, 1.0, 1.0, 1.0, 1.0, 0.9999999999999999, 1.0, 1.0, 1.0, 1.0, 0.9999999999999999, 1.0000000000000002, 0.9999999999999999, 1.0, 1.0, 1.0, 0.9999999999999999, 1.0000000000000002, 1.0, 1.0, 1.0000000000000002, 0.9999999999999999, 0.9999999999999999, 1.0, 1.0, 1.0, 1.0, 1.0000000000000002, 0.9999999999999999, 1.0000000000000002, 1.0, 1.0, 0.9999999999999999, 1.0000000000000002, 0.9999999999999999, 1.0, 1.0000000000000002, 1.0, 0.9999999999999999, 1.0, 1.0, 0.9999999999999999, 1.0, 1.0, 1.0, 0.9999999999999998, 0.9999999999999999, 1.0000000000000002, 1.0, 0.9999999999999998, 0.9999999999999998, 0.9999999999999999, 0.9999999999999998, 1.0, 1.0, 1.0, 1.0, 0.9999999999999998, 0.9999999999999999, 0.9999999999999998, 1.0, 0.9999999999999999, 0.9999999999999999, 0.9999999999999998, 1.0, 1.0, 0.9999999999999999, 1.0, 1.0000000000000002, 1.0000000000000002, 1.0000000000000002, 0.9999999999999999, 1.0000000000000002, 1.0, 1.0, 0.9999999999999999, 0.9999999999999999, 1.0, 1.0000000000000002, 1.0, 1.0, 1.0000000000000002, 1.0000000000000002, 0.9999999999999999, 1.0, 0.9999999999999999, 1.0000000000000002, 1.0, 1.0000000000000002, 1.0000000000000002, 0.9999999999999998, 0.9999999999999999, 0.9999999999999999, 1.0, 1.0, 1.0, 1.0, 0.9999999999999998, 0.9999999999999998, 1.0, 0.9999999999999999, 1.0000000000000002, 1.0, 1.0, 1.0, 1.0, 1.0, 1.0, 1.0000000000000002, 0.9999999999999999, 1.0000000000000002, 1.0, 1.0, 1.0000000000000002, 1.0, 1.0, 1.0, 1.0, 1.0, 1.0, 1.0, 0.9999999999999998, 1.0, 0.9999999999999999, 1.0, 0.9999999999999999, 1.0, 1.0, 1.0, 0.9999999999999999, 1.0, 0.9999999999999999, 1.0000000000000002, 1.0, 0.9999999999999998, 0.9999999999999998, 1.0000000000000002, 0.9999999999999999, 1.0, 0.9999999999999998, 1.0, 1.0, 0.9999999999999999, 0.9999999999999999, 1.0, 1.0, 1.0, 0.9999999999999998, 0.9999999999999999, 1.0, 1.0000000000000002, 1.0000000000000002, 1.0000000000000002, 1.0, 1.0, 1.0000000000000002, 1.0, 1.0000000000000002, 1.0, 1.0, 0.9999999999999999, 0.9999999999999999, 0.9999999999999999, 0.9999999999999998, 1.0, 1.0, 1.0, 0.9999999999999999, 1.0000000000000002, 0.9999994231751493, 0.9999999999999998, 1.0000000000000002, 1.0, 1.0, 1.0, 1.0, 1.0, 0.9999999999999999, 0.9999999999999999, 0.9999999999999999, 1.0, 1.0000000000000002, 1.0000000000000002, 1.0, 0.9999999999999999, 0.9999999999999999, 0.9999999999999999, 1.0000000000000002, 1.0000000000000002, 0.9999999999999998, 1.0000000000000002, 0.9999999999999999, 1.0, 0.9999999999999999, 1.0, 0.9999999999999998, 0.9999999999999999, 1.0, 1.0, 0.9999999999999999, 1.0000000000000002, 1.0000000000000002, 1.0, 0.9999999999999998, 0.9999999999999998, 1.0, 1.0, 1.0000000000000002, 1.0, 1.0, 0.9999999999999999, 0.9999999999999999, 1.0, 1.0000000000000002, 1.0000000000000002, 1.0, 1.0000000000000002, 1.0000000000000002, 1.0, 0.9999999999999999, 0.9999999999999999, 1.0000000000000002, 1.0000000000000002, 1.0, 1.0, 1.0, 0.9999999999999999, 1.0, 1.0000000000000002, 0.9999999999999998, 0.9999999999999999, 1.0, 0.9999999999999999, 1.0, 1.0, 0.9999999999999999, 1.0, 1.0, 1.0, 1.0, 1.0000000000000002, 1.0, 1.0, 1.0000000000000002, 1.0, 1.0, 1.0000000000000002, 1.0, 1.0, 1.0, 1.0, 0.9999999999999999, 0.9999999999999999, 0.9999999999999999, 0.9999999999999999, 0.9999999999999999, 0.9999999999999999, 1.0, 1.0, 0.9999999999999999, 0.9999999999999999, 0.9999999999999999, 1.0, 1.0, 0.9999999999999999, 1.0000000000000002, 0.9999999999999998, 1.0, 0.9999999999999999, 1.0000000000000002, 1.0, 0.9999999999999999, 1.0000000000000002, 1.0, 0.9999999999999999, 1.0000000000000002, 0.9999999999999999, 0.9999999999999999, 0.9999999999999999, 1.0000000000000002, 0.9999999999999998, 1.0, 0.9999999999999998, 0.9999999999999999, 0.9999999999999999, 1.0000000000000002, 0.9999999999999999, 1.0, 1.0000000000000002, 1.0, 1.0, 1.0, 1.0, 1.0, 1.0, 1.0, 1.0000000000000002, 1.0000000000000002, 1.0, 1.0, 1.0000000000000002, 1.0000000000000002, 0.9999999999999998, 1.0, 1.0, 0.9999999999999999, 1.0, 0.9999999999999998, 1.0000000000000002, 1.0, 1.0000000000000002, 1.0000000000000002, 0.9999999999999999, 0.9999999999999999, 1.0, 1.0, 1.0000000000000002, 1.0, 1.0, 1.0, 1.0000000000000002, 0.9999999999999998, 1.0, 0.9999999999999999, 1.0, 1.0000000000000002, 1.0, 1.0, 1.0, 1.0, 1.0, 0.9999999999999998, 0.9999999999999998, 1.0000000000000002, 0.9999999999999998, 1.0, 1.0, 1.0, 1.0000000000000002, 1.0, 1.0, 1.0, 0.9999999999999998, 1.0, 1.0, 0.9999999999999999, 1.0000000000000002, 0.9999999115422239, 1.0, 0.9999999999999999, 1.0, 1.0, 0.9999999999999999, 1.0000000000000002, 1.0, 0.9999999999999999, 1.0, 0.9999999999999999, 1.0, 1.0, 1.0, 0.9999999999999999, 0.9999999999999999, 1.0, 1.0000000000000002, 0.9999999999999998, 1.0000000000000002, 0.9999999999999999, 1.0000000000000002, 1.0, 1.0, 0.9999999999999999, 1.0, 1.0000000000000002, 1.0, 0.9999999999999999, 1.0, 0.9999999999999999, 1.0000000000000002, 0.9999999999999999, 0.9999999999999999, 0.9999999999999998, 0.9999999999999999, 1.0, 1.0, 0.9999999999999999, 1.0000000000000002, 0.9999999999999998, 0.9999999999999999, 1.0000000000000002, 1.0, 1.0000000000000002, 0.9999999999999999, 1.0000000000000002, 1.0000000000000002, 1.0000000000000002, 1.0000000000000002, 1.0, 0.9999999999999999, 1.0, 1.0, 0.9999999999999999, 0.9999999999999999, 1.0000000000000002, 1.0, 1.0000000000000002, 0.9999999999999999, 0.9999999999999999, 1.0, 1.0, 1.0, 1.0000000000000002, 1.0, 1.0, 1.0000000000000002, 1.0, 1.0, 1.0000000000000002, 0.9999999999999999, 0.9999999999999999, 1.0, 1.0, 0.9999999999999998, 1.0000000000000002, 0.9999999999999999, 0.9999999999999998, 0.9999999999999999, 0.9999999999999998, 1.0000000000000002, 0.9999999999999998, 1.0, 1.0, 0.9999999999999999, 1.0000000000000002, 1.0000000000000002, 0.9999999999999998, 0.9999999999999999, 0.9999999999999999, 1.0, 1.0, 1.0, 1.0, 0.9999999999999998, 1.0, 0.9999999999999999, 0.9999999999999999, 1.0000000000000002, 1.0, 1.0000000000000002, 1.0, 1.0000000000000002, 1.0000000000000002, 1.0, 0.9999999999999999, 1.0, 0.9999999999999998, 0.9999999999999999, 0.9999999999999999, 0.9999999999999999, 1.0, 0.9999999999999997, 0.9999999999999999, 1.0000000000000002, 1.0, 1.0000000000000002, 0.9999999999999999, 1.0, 1.0, 0.9999999999999998, 0.9999999999999999, 1.0, 1.0000000000000002, 1.0, 1.0000000000000002, 1.0000000000000002, 1.0000000000000002, 1.0, 1.0, 1.0, 0.9999999999999998, 0.9999999999999998, 1.0, 1.0000000000000002, 1.0, 0.9999999999999998, 1.0000000000000002, 1.0, 1.0000000000000002, 1.0, 0.9999999999999999, 1.0, 1.0, 1.0, 0.9999999999999999, 0.9999999999999998, 1.0, 0.9999999999999999, 0.9999999999999999, 1.0, 0.9999999999999998, 0.9999999999999998, 1.0000000000000002, 1.0, 1.0, 0.9999999999999999, 0.9999999999999999, 1.0, 1.0, 1.0000000000000002, 1.0000000000000002, 1.0, 0.9999999999999998, 0.9999999999999999, 1.0, 1.0000000000000002, 1.0, 0.9999999999999999, 0.9999999999999999, 0.9999999999999998, 1.0000000000000002, 0.9999999999999998, 0.9999999999999999, 0.9999999999999998, 0.9999999999999998, 0.9999999999999998, 0.9999999999999999, 0.9999999999999999, 1.0000000000000002, 1.0000000000000002, 0.9999999999999998, 1.0000000000000002, 1.0, 1.0, 1.0, 1.0, 1.0, 1.0, 1.0, 1.0, 0.9999999999999998, 0.9999999999999999, 1.0, 1.0, 1.0000000000000002, 0.9999999999999999, 1.0, 1.0, 1.0, 0.9999999999999999, 1.0000000000000002, 1.0, 1.0, 1.0, 0.9999999999999999, 1.0, 0.9999999999999998, 0.9999999999999999, 1.0, 1.0, 1.0, 0.9999999999999999, 0.9999999999999999, 1.0, 0.9999999999999999, 1.0, 1.0, 0.9999999999999998, 1.0000000000000002, 0.9999999999999999, 0.9999999999999999, 0.9999999999999999, 1.0, 1.0, 1.0000000000000002, 1.0, 1.0, 0.9999999999999999, 1.0, 1.0, 1.0, 1.0, 1.0000000000000002, 1.0, 0.9999999999999999, 1.0, 1.0, 0.9999999999999999, 1.0, 0.9999999999999999, 1.0, 1.0, 1.0, 1.0, 1.0000000000000002, 0.9999999999999999, 1.0, 1.0000000000000002, 1.0000000000000002, 1.0, 0.9999999999999998, 0.9999999999999999, 1.0, 1.0, 1.0, 1.0000000000000002, 1.0, 1.0000000000000002, 0.9999999999999999, 0.9999999999999999, 0.9999999999999999, 0.9999999999999998, 1.0, 1.0, 0.9999999999999998, 0.9999999999999998, 1.0, 0.9999999999999999, 1.0, 0.9999999999999999, 1.0, 1.0, 1.0, 0.9999999999999998, 0.9999999999999999, 1.0, 0.9999999999999999, 1.0, 1.0, 0.9999999999999999, 1.0, 1.0, 1.0, 1.0000000000000002, 1.0, 1.0, 0.9999999999999998, 1.0000000000000002, 1.0, 1.0000000000000002, 0.9999999999999998, 1.0000000000000002, 1.0, 1.0, 1.0, 1.0, 0.9999999999999999, 1.0, 0.9999999999999999, 0.9999999999999999, 0.9999999999999999, 0.9999999999999999, 1.0, 1.0, 0.9999999999999998, 1.0, 1.0, 0.9999999999999999, 1.0, 1.0000000000000002, 0.9999999999999999, 1.0, 1.0, 0.9999999999999998, 0.9999999999999999, 1.0, 0.9999999999999999, 1.0, 1.0, 1.0000000000000002, 1.0, 1.0, 1.0000000000000002, 0.9999999999999999, 0.9999999999999999, 0.9999999999999999, 1.0, 0.9999999999999999, 1.0000000000000002, 1.0000000000000002, 0.9999999999999998, 1.0, 0.9999999999999999, 1.0, 0.9999993297656892, 0.9999999999999999, 0.9999999999999998, 1.0, 1.0000000000000002, 1.0000000000000002, 1.0000000000000002, 1.0, 1.0, 1.0, 1.0, 0.9999999999999998, 0.9999999999999999, 1.0000000000000002, 0.9999999999999998, 1.0, 1.0, 1.0, 1.0, 1.0, 1.0000000000000002, 1.0, 0.9999999999999999, 1.0000000000000002, 0.9999999999999999, 1.0, 0.9999999999999998, 1.0, 0.9999999999999999, 1.0, 0.9999999999999998, 1.0, 0.9999999999999998, 0.9999999999999998, 1.0, 0.9999999999999999, 1.0, 0.9999999999999999, 1.0000000000000002, 0.9999999999999999, 1.0000000000000002, 1.0000000000000002, 1.0000000000000002, 1.0, 1.0000000000000002, 1.0, 1.0000000000000002, 1.0000000000000002, 1.0, 1.0, 1.0, 0.9999999999999999, 1.0, 1.0, 1.0, 1.0, 1.0, 1.0, 0.9999999999999999, 1.0, 1.0, 1.0, 0.9999999999999999, 1.0000000000000002, 1.0000000000000002, 1.0000000000000002, 1.0, 1.0000000000000002, 1.0, 1.0, 0.9999999999999999, 1.0, 0.9999999999999999, 0.9999999999999998, 1.0000000000000002, 0.9999999999999999, 1.0, 1.0000000000000002, 1.0000000000000002, 1.0, 0.9999999999999999, 0.9999999999999999, 0.9999999999999999, 1.0, 0.9999999999999999, 1.0000000000000002, 0.9999999999999999, 1.0, 0.9999999999999998, 1.0, 1.0, 1.0, 1.0000000000000002, 0.9999999999999999, 1.0, 0.9999999999999999, 1.0000000000000002, 0.9999999999999999, 1.0, 1.0, 1.0, 1.0, 0.9999999999999999, 1.0000000000000002, 1.0, 1.0, 1.0, 0.9999999999999999, 1.0, 1.0, 0.9999999999999998, 0.9999999999999999, 1.0, 1.0, 1.0, 0.9999999999999998, 1.0, 1.0, 1.0, 1.0, 1.0000000000000002, 1.0, 1.0, 1.0, 1.0, 1.0000000000000002, 1.0, 0.9999999999999999, 1.0, 1.0000000000000002, 1.0, 1.0, 1.0000000000000002, 1.0, 1.0000000000000002, 0.9999999999999998, 1.0, 0.9999999999999999, 1.0, 1.0, 1.0, 1.0, 1.0, 1.0000000000000002, 0.9999999999999999, 1.0, 1.0, 0.9999999999999999, 1.0, 1.0, 0.9999999999999997, 1.0000000000000002, 0.9999999999999998, 0.9999999999999999, 0.9999999999999999, 1.0000000000000002, 1.0000000000000002, 0.9999999999999999, 0.9999999999999999, 1.0, 0.9999999999999999, 1.0, 1.0, 0.9999999999999999, 1.0, 1.0, 1.0000000000000002, 0.9999999999999998, 1.0, 0.9999999999999999, 0.9999999999999998, 1.0000000000000002, 1.0, 0.9999999999999999, 1.0, 1.0, 1.0, 1.0, 0.9999999999999998, 1.0000000000000002, 1.0, 1.0000000000000002, 1.0, 1.0, 1.0, 1.0, 0.9999999999999998, 1.0000000000000002, 0.9999999999999999, 1.0, 1.0, 1.0000000000000002, 0.9999999999999999, 0.9999999999999999, 1.0, 1.0, 1.0, 1.0, 1.0, 1.0, 1.0, 1.0000000000000002, 1.0, 1.0, 1.0, 0.9999999999999998, 1.0, 0.9999999999999998, 1.0, 0.9999999999999999, 1.0, 1.0000000000000002, 1.0000000000000002, 1.0, 1.0, 1.0, 1.0000000000000002, 1.0, 1.0, 1.0, 0.9999999999999999, 1.0, 1.0, 1.0, 1.0000000000000002, 1.0, 1.0, 0.9999999999999998, 1.0, 1.0000000000000002, 1.0000000000000002, 1.0000000000000002, 1.0, 0.9999999999999998, 1.0, 0.9999999999999999, 1.0, 0.9999999999999999, 1.0000000000000002, 1.0, 0.9999999999999999, 1.0000000000000002, 0.9999999999999999, 1.0000000000000002, 1.0, 1.0, 1.0, 1.0, 1.0, 0.9999999999999999, 1.0, 1.0000000000000002, 0.9999999999999999, 1.0, 0.9999999999999999, 0.9999999999999997, 1.0, 1.0, 0.9999999999999999, 1.0, 1.0, 1.0, 1.0000000000000002, 1.0, 1.0, 1.0, 0.9999999999999999, 1.0, 1.0, 0.9999999999999999, 1.0000000000000002, 1.0, 1.0, 1.0, 1.0, 1.0, 0.9999999999999999, 0.9999999999999999, 0.9999999999999999, 1.0000000000000002, 1.0, 0.9999999999999999, 0.9999999999999999, 1.0, 0.9999999999999999, 1.0000000000000002, 1.0, 1.0, 0.9999999999999998, 1.0, 0.9999999999999999, 1.0, 1.0000000000000002, 0.9999999999999998, 1.0000000000000002, 0.9999999999999999, 0.9999999999999998, 1.0, 1.0, 0.9999999999999999, 1.0000000000000002, 1.0, 0.9999999999999998, 1.0, 0.9999999999999999, 1.0, 0.9999999999999999, 1.0, 0.9999999999999999, 1.0, 1.0, 0.9999999999999999, 1.0, 0.9999999999999999, 1.0, 0.9999999999999999, 1.0, 1.0, 1.0, 1.0, 1.0, 1.0000000000000002, 1.0000000000000002, 1.0, 0.9999999999999998, 0.9999999999999999, 0.9999999999999999, 1.0, 0.9999999999999999, 1.0, 0.9999999999999999, 1.0000000000000002, 1.0, 0.9999999999999999, 1.0, 1.0, 1.0000000000000002, 1.0000000000000002, 0.9999999999999999, 0.9999999999999999, 1.0, 0.9999999999999999, 0.9999999999999999, 0.9999999999999999, 1.0, 1.0, 1.0, 1.0, 1.0, 1.0, 0.9999999999999999, 1.0, 1.0, 1.0000000000000002, 1.0, 0.9999999999999999, 1.0, 1.0, 0.9999999999999998, 1.0, 1.0, 1.0, 0.9999999999999999, 0.9999999999999998, 1.0, 1.0, 1.0000000000000002, 1.0, 1.0, 1.0000000000000002, 0.9999999999999999, 0.9999999999999998, 1.0000000000000002, 0.9999999999999999, 1.0, 1.0, 1.0000000000000002, 0.9999999999999998, 1.0000000000000002, 1.0, 0.9999999999999999, 1.0, 1.0, 0.9999999999999999, 1.0, 1.0, 1.0, 0.9999999999999998, 1.0, 1.0000000000000002, 1.0, 1.0, 1.0, 0.9999999999999999, 1.0000000000000002, 0.9999999999999999, 1.0, 0.9999999999999998, 1.0, 1.0, 0.9999999999999999, 0.9999999999999998, 1.0, 0.9999999999999999, 1.0, 0.9999999999999998, 1.0, 0.9999999999999999, 0.9999999999999998, 1.0000000000000002, 1.0, 1.0, 1.0, 1.0, 1.0000000000000002, 0.9999999999999998, 0.9999999999999998, 0.9999999999999999, 1.0, 1.0, 1.0000000000000002, 1.0, 1.0, 1.0000000000000002, 1.0, 1.0, 1.0, 0.9999999999999999, 0.9999999999999999, 0.9999999999999999, 1.0, 0.9999999999999998, 0.9999999999999998, 1.0, 0.9999999999999999, 1.0, 1.0, 1.0, 1.0000000000000002, 0.9999999999999999, 1.0, 1.0, 1.0, 1.0, 1.0000000000000002, 0.9999999999999999, 0.9999999999999998, 1.0, 1.0, 1.0, 0.9999999999999999, 1.0, 1.0, 1.0, 1.0, 0.9999999999999999, 1.0, 1.0, 0.9999999999999999, 1.0000000000000002, 1.0000000000000002, 0.9999999999999999, 1.0, 0.9999999999999998, 1.0, 1.0, 0.9999999999999999, 1.0, 1.0, 0.9999999999999998, 1.0, 1.0, 1.0, 1.0, 1.0000000000000002, 1.0000000000000002, 0.9999999999999998, 1.0, 1.0, 1.0000000000000002, 1.0, 1.0000000000000002, 1.0, 1.0, 1.0, 1.0, 1.0000000000000002, 1.0000000000000002, 0.9999999999999998, 1.0000000000000002, 0.9999999999999999, 1.0, 1.0, 0.9999999999999999, 0.9999999999999999, 1.0, 1.0000000000000002, 1.0000000000000002, 1.0, 1.0, 1.0, 0.9999999999999999, 0.9999999999999999, 0.9999999999999998, 0.9999999999999999, 1.0000000000000002, 1.0, 1.0000000000000002, 1.0, 1.0000000000000002, 1.0000000000000002, 1.0, 0.9999999999999999, 0.9999999999999999, 0.9999999999999999, 1.0, 1.0, 1.0000000000000002, 1.0, 1.0, 0.9999999999999999, 1.0, 1.0, 1.0, 1.0, 1.0000000000000002, 1.0, 1.0, 1.0000000000000002, 0.9999999999999999, 0.9999999999999999, 1.0, 1.0000000000000002, 1.0, 0.9999999999999999, 1.0, 0.9999999999999999, 1.0, 1.0000000000000002, 0.9999999999999999, 1.0000000000000002, 1.0, 1.0, 1.0000000000000002, 1.0, 0.9999999999999999, 0.9999999999999998, 1.0, 1.0, 1.0, 1.0, 1.0, 1.0, 0.9999999999999999, 0.9999999999999999, 1.0000000000000002, 1.0, 0.9999999999999999, 1.0000000000000002, 0.9999999999999999, 1.0, 1.0, 1.0, 0.9999999999999999, 1.0, 0.9999999999999999, 1.0, 1.0, 1.0, 1.0, 0.9999999999999999, 1.0, 0.9999999999999998, 1.0, 0.9999999999999999, 0.9999999999999999, 1.0000000000000002, 1.0, 1.0, 1.0, 1.0, 1.0000000000000002, 0.9999999999999999, 0.9999999999999998, 0.9999999999999999, 1.0, 1.0000000000000002, 1.0000000000000002, 1.0, 0.9999999999999998, 0.9999999999999998, 0.9999999999999999, 1.0, 1.0, 0.9999999999999999, 1.0, 1.0, 1.0, 1.0, 0.9999999999999998, 0.9999999999999998, 1.0, 1.0, 1.0000000000000002, 1.0, 1.0, 1.0000000000000002, 0.9999999999999999, 1.0000000000000002, 1.0, 1.0, 1.0, 0.9999999999999999, 0.9999999999999999, 1.0, 0.9999999999999999, 0.9999999999999998, 1.0, 0.9999999999999998, 1.0, 0.9999999999999999, 1.0, 1.0, 1.0, 1.0000000000000002, 0.9999999999999999, 0.9999999999999999, 1.0, 1.0, 1.0000000000000002, 1.0000000000000002, 1.0000000000000002, 1.0, 0.9999999999999998, 0.9999999999999999, 1.0, 1.0, 1.0, 1.0, 0.9999999999999999, 1.0, 1.0000000000000002, 1.0000000000000002, 1.0, 1.0, 0.9999999999999999, 1.0000000000000002, 1.0, 1.0, 1.0, 0.9999999999999998, 1.0, 0.9999999999999999, 1.0, 0.9999999999999999, 1.0000000000000002, 0.9999999999999999, 1.0, 0.9999999999999999, 0.9999999999999999, 0.9999999999999999, 1.0, 1.0, 1.0, 1.0, 1.0, 0.9999999999999999, 1.0, 1.0, 1.0000000000000002, 0.9999906292522823, 0.9999999999999999, 0.9999999999999998, 0.9999999999999999, 1.0, 1.0000000000000002, 0.9999999999999999, 0.9999999999999999, 1.0, 1.0, 1.0, 1.0, 0.9999999999999999, 1.0, 1.0000000000000002, 1.0000000000000002, 1.0, 1.0000000000000002, 0.9999999999999998, 1.0, 1.0000000000000002, 1.0, 0.9999999999999999, 1.0, 0.9999999999999999, 1.0, 1.0000000000000002, 1.0000000000000002, 0.9999999999999998, 0.9999999999999999, 0.9999999999999999, 1.0, 0.9999999999999999, 0.9999999999999998, 1.0, 1.0000000000000002, 1.0, 1.0, 1.0, 1.0000000000000002, 0.9999999999999999, 0.9999375510035453, 0.9999999999999999, 1.0000000000000002, 1.0, 1.0, 0.9999999999999998, 0.9999999999999998, 0.9999999999999999, 1.0, 0.9999999999999998, 1.0, 0.9999999999999998, 1.0000000000000002, 1.0, 1.0, 1.0000000000000002, 1.0000000000000002, 1.0000000000000002, 1.0, 1.0, 0.9999999999999999, 0.9999999999999998, 1.0, 0.9999999999999999, 1.0000000000000002, 1.0, 1.0000000000000002, 0.9999999999999998, 0.9999999999999999, 1.0000000000000002, 1.0, 1.0000000000000002, 1.0, 1.0, 0.9999999999999998, 1.0, 0.9999999999999999, 1.0000000000000002, 1.0000000000000002, 1.0, 1.0, 1.0, 1.0, 1.0, 1.0, 1.0, 1.0, 1.0, 1.0000000000000002, 1.0, 1.0000000000000002, 0.9999999999999998, 1.0000000000000002, 1.0000000000000002, 0.9999999999999999, 1.0, 1.0, 1.0, 1.0, 1.0000000000000002, 0.9999999999999999, 0.9999999999999998, 1.0000000000000002, 1.0000000000000002, 1.0, 1.0, 1.0, 0.9999999999999999, 1.0, 1.0, 1.0, 1.0, 0.9999999999999999, 1.0, 1.0, 1.0, 1.0, 0.9999999999999998, 0.9999999999999998, 0.9999999999999999, 1.0, 1.0, 0.9999999999999999, 1.0, 0.9999999999999999, 1.0000000000000002, 1.0, 0.9999999999999999, 1.0, 0.9999999999999999, 1.0, 0.9999999999999998, 0.9999999999999999, 1.0, 1.0, 1.0000000000000002, 0.9999999999999998, 1.0000000000000002, 0.9999999999999998, 1.0000000000000002, 0.9999999999999999, 0.9999999999999999, 1.0000000000000002, 1.0, 0.9999999999999998, 1.0, 1.0000000000000002, 1.0000000000000002, 1.0, 1.0, 0.9999999999999998, 0.9999999999999999, 0.9999999999999999, 1.0000000000000002, 1.0, 1.0, 1.0, 0.9999999999999999, 0.9999999999999999, 0.9995076962233348, 0.9999999999999999, 1.0, 1.0000000000000002, 0.9999999999999999, 0.9999999999999999, 1.0, 0.9999999999999998, 1.0, 1.0000000000000002, 0.9999999999999999, 1.0, 0.9999999999999999, 1.0, 0.9999999999999999, 1.0, 0.9999999999999998, 1.0, 0.9999999999999998, 0.9999999999999999, 1.0, 0.9999999999999999, 0.9999999999999999, 1.0000000000000002, 1.0000000000000002, 1.0000000000000002, 1.0, 1.0, 1.0000000000000002, 0.9999999999999999, 0.9999999999999999, 1.0, 1.0, 0.9999999999999999, 1.0, 0.9999999999999999, 1.0, 1.0, 0.9999999999999999, 1.0, 1.0000000000000002, 1.0, 1.0000000000000002, 1.0, 1.0000000000000002, 1.0, 1.0, 0.9999999999999998, 1.0, 1.0000000000000002, 0.9999999999999998, 1.0, 1.0000000000000002, 1.0, 1.0, 1.0, 0.9999999999999998, 1.0, 1.0000000000000002, 0.9999999999999999, 1.0000000000000002, 1.0, 1.0, 1.0, 0.9999999999999998, 1.0, 1.0, 0.9999999999999999, 0.9999999999999999, 0.9999999999999999, 0.9999999999999998, 1.0000000000000002, 1.0, 0.9999999999999999, 0.9999999999999999, 1.0, 1.0, 1.0, 1.0, 1.0, 0.9999999999999999, 1.0, 1.0, 0.9999999999999999, 1.0, 0.9999999999999998, 0.9999999999999999, 1.0, 1.0000000000000002, 1.0, 1.0, 1.0000000000000002, 1.0000000000000002, 1.0, 0.9999999999999999, 1.0000000000000002, 1.0, 1.0, 1.0, 1.0, 1.0, 1.0, 1.0, 0.9999999999999998, 1.0, 0.9999999999999998, 0.9999999999999999, 1.0, 1.0, 0.9999999999999999, 1.0, 0.9999999999999999, 1.0000000000000002, 0.9999999999999999, 0.9999999999999999, 1.0, 1.0, 1.0000000000000002, 0.9999999999999998, 1.0000000000000002, 1.0, 1.0000000000000002, 1.0, 0.9999999999999998, 0.9999999999999999, 1.0000000000000002, 1.0000000000000002, 1.0, 1.0, 1.0, 1.0, 1.0, 0.9999999999999999, 0.9999999999999999, 1.0, 1.0000000000000002, 1.0, 1.0, 1.0000000000000002, 0.9999999999999999, 1.0, 1.0, 1.0, 0.9999999999999998, 1.0000000000000002, 1.0, 1.0, 1.0000000000000002, 1.0000000000000002, 0.9999999999999999, 1.0000000000000002, 1.0, 0.9999999999999999, 1.0, 1.0, 1.0, 1.0, 0.9999999999999999, 1.0, 0.9999999999999998, 1.0, 1.0, 1.0, 1.0000000000000002, 0.9999999999999999, 1.0, 1.0, 0.9999999999999998, 1.0, 1.0000000000000002, 1.0, 0.9999999999999999, 1.0, 1.0, 1.0, 1.0, 0.9999999999999999, 1.0, 0.9999999999999999, 1.0, 0.9999999999999999, 1.0, 1.0, 0.9999999999999998, 1.0, 1.0, 1.0, 0.9999999999999998, 1.0, 1.0, 1.0000000000000002, 1.0, 1.0, 1.0, 0.9999999999999999, 0.9999999999999999, 0.9999999999999999, 1.0000000000000002, 0.9999999999999999, 0.9999999999999999, 0.9999999999999999, 1.0, 1.0, 0.9999999999999999, 1.0000000000000002, 1.0, 0.9999999999999998, 0.9999999999999998, 1.0, 1.0, 1.0, 0.9999999999999999, 0.9999999999999999, 1.0000000000000002, 1.0, 0.9999999999999999, 1.0, 0.9999999999999999, 1.0, 0.9999999999999998, 0.9999999999999998, 1.0000000000000002, 1.0, 1.0, 1.0, 1.0, 1.0, 1.0, 1.0000000000000002, 1.0, 1.0, 1.0, 0.9999999999999999, 0.9999999999999999, 1.0, 0.9999999999999999, 1.0, 1.0, 1.0, 1.0, 0.9999999999999999, 1.0, 0.9999999999999998, 1.0, 0.9999999999999999, 1.0, 1.0, 0.9999999999999999, 1.0000000000000002, 0.9999999999999999, 1.0, 1.0, 0.9999999999999999, 1.0, 0.9999999999999999, 1.0, 1.0000000000000002, 1.0, 1.0, 0.9999999999999998, 0.9999999999999999, 0.9999999999999998, 1.0, 1.0, 1.0, 0.9999999999999999, 1.0, 1.0, 1.0000000000000002, 1.0000000000000002, 0.9999999999999999, 1.0, 0.9999999999999999, 1.0, 0.9999999999999998, 1.0, 1.0, 1.0, 1.0, 0.9999999999999999, 0.9999999999999998, 0.9999999999999999, 1.0000000000000002, 1.0, 1.0000000000000002, 1.0, 1.0000000000000002, 1.0000000000000002, 1.0, 1.0, 1.0000000000000002, 1.0, 1.0, 0.9999999999999998, 1.0, 1.0000000000000002, 1.0, 1.0, 1.0, 1.0000000000000002, 1.0, 1.0, 0.9999999999999999, 1.0000000000000002, 1.0, 0.9999999999999999, 1.0, 0.9999999999999999, 1.0, 1.0, 1.0000000000000002, 1.0, 1.0, 1.0, 1.0000000000000002, 1.0, 1.0000000000000002, 0.9999999999999999, 1.0, 0.9999999999999999, 0.9999999999999998, 1.0000000000000002, 0.9999999999999999, 1.0, 0.9999999999999998, 0.9999999999999998, 0.9999999999999999, 1.0000000000000002, 1.0, 1.0, 1.0, 0.9999999999999999, 0.9999999999999999, 0.9999999999999999, 1.0000000000000002, 0.9999999999999999, 1.0, 1.0, 0.9999999999999998, 0.9999999999999999, 1.0, 0.9999999999999999, 1.0000000000000002, 1.0, 0.9999999999999998, 0.9999999999999999, 0.9999999999999999, 1.0, 1.0, 1.0, 1.0, 1.0, 1.0, 1.0000000000000002, 1.0000000000000002, 1.0, 1.0, 1.0000000000000002, 1.0, 1.0, 0.9999999999999998, 1.0000000000000002, 1.0, 1.0000000000000002, 1.0, 1.0000000000000002, 1.0, 0.9999999999999999, 1.0, 1.0000000000000002, 1.0, 1.0, 0.9999999999999999, 1.0, 1.0, 0.9999999999999998, 1.0000000000000002, 0.9999999999999999, 1.0000000000000002, 0.9999999999999999, 0.9999999999999998, 1.0000000000000002, 1.0, 1.0, 1.0000000000000002, 1.0000000000000002, 1.0, 1.0, 0.9999999999999999, 1.0, 0.9999999999999999, 0.9999999999999999, 0.9999999999999999, 0.9999999999999999, 1.0, 0.9999999999999999, 0.9999999999999999, 1.0, 1.0, 0.9999999999999999, 0.9999999999999999, 1.0, 1.0, 1.0, 1.0, 1.0, 1.0, 1.0000000000000002, 1.0, 1.0, 1.0, 0.9999999999999999, 1.0, 0.9999999999999999, 1.0, 1.0, 0.9999999999999999, 1.0, 0.9999999999999999, 0.9999999999999998, 1.0, 1.0000000000000002, 0.9999999999999999, 1.0, 1.0, 0.9999999999999998, 1.0, 0.9999999999999999, 1.0000000000000002, 0.9999999999999998, 1.0000000000000002, 1.0000000000000002, 0.9999999999999998, 1.0, 0.9999999999999998, 1.0000000000000002, 1.0000000000000002, 1.0, 1.0, 0.9999999999999999, 0.9999999999999998, 0.9999999999999999, 0.9999999999999999, 1.0, 1.0, 1.0, 0.9999999999999999, 1.0000000000000002, 1.0, 1.0, 1.0, 1.0, 1.0, 1.0, 0.9999994231751493, 1.0000000000000002, 1.0, 1.0, 1.0, 1.0000000000000002, 0.9999999999999998, 0.9999999999999999, 1.0, 1.0, 1.0, 1.0, 0.9999999999999999, 1.0, 1.0000000000000002, 1.0, 1.0000000000000002, 1.0000000000000002, 1.0000000000000002, 1.0000000000000002, 1.0, 1.0, 0.9999999999999999, 1.0, 0.9999999999999999, 1.0000000000000002, 1.0, 1.0000000000000002, 1.0, 0.9999999999999999, 0.9999999999999999, 1.0, 1.0, 1.0, 1.0, 1.0, 0.9999999999999999, 1.0, 1.0, 1.0000000000000002, 0.9999999999999999, 1.0, 1.0, 1.0, 1.0, 1.0, 1.0, 1.0, 1.0000000000000002, 1.0, 1.0, 1.0, 1.0000000000000002, 0.9999999999999999, 0.9999999999999998, 1.0, 0.9999999999999999, 1.0, 0.9999999999999999, 1.0, 1.0, 1.0000000000000002, 1.0, 1.0, 0.9999999999999998, 1.0, 1.0, 0.9999999999999999, 0.9999999999999999, 1.0, 1.0000000000000002, 1.0, 1.0, 1.0, 1.0, 1.0, 1.0, 1.0, 1.0000000000000002, 0.9999999999999999, 1.0, 0.9999999999999999, 0.9999999999999999, 1.0, 1.0, 1.0, 0.9999999999999999, 1.0, 1.0000000000000002, 0.9999999999999999, 1.0, 1.0, 1.0, 1.0, 1.0, 0.9995654845046755, 1.0, 0.9999999999999998, 1.0, 1.0, 1.0, 1.0000000000000002, 1.0, 1.0000000000000002, 1.0, 1.0000000000000002, 1.0000000000000002, 0.9999999999999999, 0.9999999999999999, 0.9999999999999999, 1.0, 1.0, 1.0000000000000002, 1.0, 1.0, 0.9999999999999998, 1.0, 1.0, 1.0, 1.0, 1.0, 0.9999999999999998, 0.9999999999999999, 0.9999999999999999, 0.9999999999999999, 1.0, 0.9999999999999998, 1.0000000000000002, 1.0000000000000002, 1.0, 1.0, 1.0, 0.9999999999999998, 0.9999999999999999, 1.0, 1.0, 1.0, 1.0, 1.0, 1.0000000000000002, 0.9999999999999999, 0.9999999999999999, 1.0, 0.9999999999999999, 1.0000000000000002, 1.0, 1.0, 1.0, 1.0, 1.0, 0.9999999999999999, 0.9999999999999999, 1.0000000000000002, 1.0000000000000002, 1.0, 0.9999999999999998, 1.0, 1.0, 0.9999999999999998, 1.0, 1.0, 1.0, 1.0, 1.0000000000000002, 0.9999999999999999, 1.0, 0.9999999999999999, 0.9999999999999999, 1.0, 1.0, 1.0, 0.9999999999999999, 1.0, 1.0000000000000002, 1.0, 1.0000000000000002, 1.0, 0.9999999999999999, 1.0, 1.0, 1.0000000000000002, 1.0, 0.9999999999999998, 1.0, 1.0000000000000002, 1.0000000000000002, 1.0, 1.0000000000000002, 0.9999999999999998, 0.9999999999999999, 0.9999999999999998, 0.9999999999999999, 1.0, 1.0, 1.0, 1.0, 1.0, 1.0, 1.0, 1.0, 0.9999999999999999, 1.0, 1.0, 1.0, 0.9999999999999999, 1.0, 0.9999999999999999, 0.9999999999999998, 1.0, 1.0000000000000002, 1.0, 1.0, 1.0, 1.0, 1.0000000000000002, 1.0000000000000002, 1.0000000000000002, 1.0, 1.0, 0.9999999999999999, 1.0, 1.0, 1.0, 1.0, 1.0, 0.9999999999999998, 1.0, 1.0, 1.0, 1.0, 0.9999999999999999, 1.0000000000000002, 1.0, 1.0, 1.0, 0.9999999999999999, 1.0000000000000002, 1.0, 0.9999999999999999, 0.9999999999999999, 0.9999999999999998, 1.0, 0.9999999999999998, 0.9999999999999999, 1.0000000000000002, 1.0000000000000002, 1.0, 1.0000000000000002, 1.0, 0.9999999999999998, 1.0, 0.9999999999999999, 1.0000000000000002, 1.0000000000000002, 0.9999999999999998, 1.0, 0.9999999999999998, 1.0, 1.0, 1.0, 1.0, 1.0, 0.9999999999999998, 1.0, 1.0, 1.0, 0.9999999999999999, 1.0, 0.9999999999999999, 1.0, 1.0000000000000002, 1.0, 0.9999999999999998, 0.9999999999999999, 1.0, 0.9999999999999998, 1.0, 1.0, 0.9999999999999998, 0.9999999999999998, 1.0, 1.0000000000000002, 1.0, 1.0000000000000002, 1.0000000000000002, 0.9999999999999998, 0.9999999999999998, 0.9999999999999998, 1.0, 1.0000000000000002, 1.0000000000000002, 0.9999999999999999, 0.9999999999999998, 1.0, 0.9999999999999999, 0.9999999999999999, 0.9999999999999998, 0.9999999999999999, 1.0, 1.0, 0.9999999999999999, 0.9999999999999999, 1.0, 0.9999999999999998, 1.0000000000000002, 0.9999999999999999, 1.0, 1.0000000000000002, 1.0, 0.9999999999999999, 1.0, 1.0, 1.0, 1.0000000000000002, 1.0, 1.0, 1.0, 1.0, 1.0, 1.0000000000000002, 1.0, 0.9999999999999999, 1.0, 1.0, 0.9999999999999999, 0.9999999999999998, 0.9999999999999999, 1.0, 1.0, 0.9999999999999999, 0.9999999999999999, 1.0000000000000002, 1.0, 1.0000000000000002, 1.0000000000000002, 1.0, 1.0, 1.0, 0.9999999999999999, 1.0000000000000002, 0.9999999999999999, 1.0, 1.0, 0.9999999999999998, 0.9999999999999999, 1.0000000000000002, 1.0, 1.0000000000000002, 0.9999999999999999, 1.0, 0.9999999999999999, 0.9999999999999999, 1.0, 0.9999999999999999, 1.0, 0.9999999999999999, 0.9999999999999998, 1.0, 0.9999999999999999, 1.0000000000000002, 1.0, 1.0, 0.9999999999999999, 0.9999999999999999, 1.0000000000000002, 0.9999999999999998, 1.0000000000000002, 1.0, 0.9999999999999999, 1.0000000000000002, 1.0000000000000002, 1.0000000000000002, 0.9999999999999999, 1.0000000000000002, 1.0, 0.9999999999999999, 1.0, 0.9999999999999999, 0.9999999999999999, 0.9999999999999999, 0.9999999999999998, 0.9999999999999999, 0.9999999999999999, 1.0, 1.0, 1.0000000000000002, 0.9999999999999999, 0.9999999999999999, 1.0, 0.9999999999999998, 1.0, 0.9999999999999999, 1.0, 1.0, 1.0, 1.0, 1.0, 1.0000000000000002, 1.0000000000000002, 1.0000000000000002, 1.0, 1.0000000000000002, 1.0, 1.0, 0.9999999999999999, 1.0, 1.0, 0.9999999999999999, 0.9999999999999999, 1.0000000000000002, 1.0000000000000002, 1.0, 1.0, 0.9999999999999999, 1.0000000000000002, 1.0000000000000002, 0.9999999999999998, 1.0, 0.9999999999999999, 0.9999999999999999, 1.0, 0.9999999999999999, 1.0, 0.9999999999999999, 0.9999999999999999, 1.0, 1.0, 1.0, 0.9999999999999999, 1.0, 0.9999999999999998, 0.9999999999999999, 1.0, 1.0000000000000002, 0.9999999999999999, 0.9999999999999999, 1.0000000000000002, 1.0000000000000002, 1.0, 0.9999999999999999, 1.0, 1.0, 1.0, 1.0, 1.0, 1.0000000000000002, 0.9999999999999999, 0.9999999999999999, 0.9999999999999998, 1.0, 1.0, 1.0, 1.0, 1.0000000000000002, 1.0, 1.0, 1.0, 1.0000000000000002, 0.9999999999999999, 0.9999999999999999, 1.0000000000000002, 1.0, 0.9999999999999998, 1.0, 1.0000000000000002, 1.0, 0.9999999999999999, 1.0, 0.9999999999999998, 0.9999999999999999, 1.0, 1.0000000000000002, 1.0000000000000002, 0.9999999999999999, 0.9999999999999998, 0.9999999999999999, 1.0, 1.0000000000000002, 1.0000000000000002, 0.9999999999999999, 1.0, 1.0, 0.9999999999999999, 1.0, 1.0, 1.0, 0.9999999999999998, 1.0, 0.9999999999999999, 0.9999999999999998, 1.0, 1.0000000000000002, 1.0000000000000002, 1.0, 1.0000000000000002, 0.9999999999999999, 1.0000000000000002, 1.0, 1.0, 0.9999999999999999, 0.9999999999999999, 1.0, 1.0, 1.0000000000000002, 1.0, 1.0000000000000002, 1.0, 0.9999999999999999, 0.9999999999999999, 1.0, 0.9999999999999999, 1.0, 0.9999999999999999, 1.0, 0.9999999999999999, 0.9999999999999999, 1.0, 1.0000000000000002, 1.0, 1.0000000000000002, 1.0000000000000002, 1.0, 1.0, 0.9999999999999999, 0.9999999999999999, 0.9999999999999999, 0.9999999999999999, 1.0, 1.0, 0.9999999999999998, 1.0, 1.0, 1.0, 1.0, 1.0, 0.9999999999999998, 0.9999999999999999, 0.9999999999999999, 1.0, 1.0, 0.9999999999999999, 0.9999999999999999, 1.0, 0.9999999999999998, 1.0000000000000002, 1.0000000000000002, 1.0000000000000002, 0.9999999999999999, 1.0, 0.9999999999999998, 1.0000000000000002, 1.0, 0.9999999999999999, 0.9999999999999999, 1.0, 1.0, 1.0, 1.0, 1.0000000000000002, 0.9999999999999999, 0.9999999999999999, 1.0000000000000002, 0.9999999999999999, 1.0, 1.0, 1.0, 1.0, 0.9999999999999999, 1.0, 1.0, 1.0, 0.9999999999999999, 0.9999999999999999, 1.0, 1.0000000000000002, 1.0, 1.0, 0.9999999999999998, 1.0, 1.0, 0.9999999999999998, 1.0, 1.0000000000000002, 1.0, 1.0, 0.9999999999999999, 1.0, 0.9999999999999999, 1.0000000000000002, 1.0, 1.0, 0.9999999999999999, 1.0, 0.9999999999999999, 1.0, 0.9999999999999999, 1.0, 0.9999999999999999, 1.0, 1.0000000000000002, 1.0, 1.0000000000000002, 1.0, 0.9999999999999999, 1.0, 1.0000000000000002, 0.9999999999999999, 1.0, 0.9999999999999999, 1.0, 1.0000000000000002, 0.9999999999999999, 0.9999999999999999, 1.0, 1.0, 1.0000000000000002, 1.0, 0.9999999999999999, 1.0, 1.0000000000000002, 1.0, 1.0, 1.0, 0.9999999999999999, 1.0, 0.9999999999999999, 1.0, 1.0, 0.9999999999999999, 1.0000000000000002, 0.9999999999999999, 0.9999999999999997, 1.0, 1.0, 1.0000000000000002, 1.0, 0.9999999999999998, 1.0, 0.9999999999999999, 1.0, 0.9999999999999998, 0.9999999999999999, 0.9999999999999998, 1.0, 1.0, 0.9999999999999999, 0.9999999999999999, 0.9999999999999999, 1.0000000000000002, 1.0, 0.9999999999999999, 1.0000000000000002, 1.0000000000000002, 1.0, 0.9999999999999998, 1.0000000000000002, 1.0, 1.0, 1.0, 1.0, 0.9999999999999999, 1.0, 1.0, 1.0, 1.0, 1.0000000000000002, 1.0, 0.9999999999999997, 1.0, 1.0, 0.9999999999999998, 1.0, 0.9999999999999999, 0.9999999999999999, 1.0, 1.0, 1.0, 1.0, 1.0000000000000002, 1.0, 1.0, 0.9999999999999999, 1.0, 0.9999999999999998, 0.9999999999999999, 1.0, 0.9999999999999999, 1.0, 1.0, 1.0, 0.9999999999999999, 1.0, 1.0, 0.9999999999999999, 1.0, 1.0000000000000002, 0.9999999999999998, 1.0, 1.0000000000000002, 1.0, 1.0, 1.0000000000000002, 1.0, 1.0, 1.0, 1.0, 1.0, 1.0, 1.0, 1.0, 0.9999999999999999, 1.0, 0.9999999999999999, 0.9999999999999999, 1.0, 1.0, 1.0, 1.0, 1.0000000000000002, 1.0, 0.9999999999999999, 1.0, 1.0, 1.0, 0.9999999999999999, 1.0, 0.9999999999999998, 1.0, 1.0, 1.0000000000000002, 1.0, 0.9999999999999999, 1.0, 1.0000000000000002, 1.0, 1.0000000000000002, 1.0, 1.0000000000000002, 1.0, 1.0, 1.0, 1.0, 0.9999999999999999, 1.0, 1.0, 0.9999999999999998, 0.9999999999999999, 1.0000000000000002, 1.0000000000000002, 0.9999999999999999, 1.0000000000000002, 1.0, 0.9999999999999998, 1.0, 0.9999999999999999, 1.0, 1.0, 1.0, 1.0, 1.0000000000000002, 1.0, 0.9999999999999998, 1.0, 0.9999999999999999, 0.9999999999999999, 0.9999999999999999, 1.0, 1.0000000000000002, 0.9999999999999998, 1.0, 1.0, 1.0, 0.9999999999999999, 0.9999999999999999, 1.0000000000000002, 1.0, 0.9999999999999998, 1.0, 1.0, 0.9999999999999998, 1.0, 1.0, 0.9999999999999998, 0.9999999999999998, 0.9999999999999999, 1.0000000000000002, 0.9999999999999999, 0.9999999999999999, 0.9999999999999999, 1.0000000000000002, 1.0, 1.0000000000000002, 1.0, 1.0, 1.0000000000000002, 0.9999999999999998, 1.0, 1.0, 1.0000000000000002, 1.0000000000000002, 0.9999999999999999, 0.9999999999999999, 0.9999999999999999, 1.0, 1.0, 1.0000000000000002, 1.0, 1.0, 1.0, 1.0, 1.0000000000000002, 1.0000000000000002, 1.0000000000000002, 1.0, 0.9999999999999999, 0.9999999999999999, 1.0000000000000002, 1.0000000000000002, 1.0000000000000002, 0.9999999999999999, 1.0, 1.0, 0.9999999999999999, 1.0, 1.0, 0.9999999999999999, 1.0, 1.0000000000000002, 1.0, 1.0000000000000002, 0.9999999999999999, 0.9999999999999999, 1.0, 1.0, 1.0, 0.9999999999999999, 1.0, 1.0000000000000002, 1.0, 1.0, 1.0, 1.0, 0.9999999999999999, 1.0000000000000002, 1.0, 1.0, 1.0, 0.9999999999999998, 1.0, 0.9999999999999999, 1.0, 1.0000000000000002, 1.0000000000000002, 1.0, 0.9999999999999999, 1.0000000000000002, 1.0, 0.9999999999999999, 1.0000000000000002, 1.0, 0.9999999999999999, 1.0000000000000002, 0.9999999999999999, 1.0, 1.0000000000000002, 1.0, 0.9999999999999999, 0.9999999999999999, 0.9999999999999999, 1.0, 1.0000000000000002, 0.9999999999999999, 0.9999999999999999, 1.0, 0.9999999999999999, 1.0000000000000002, 1.0, 0.9999999999999999, 1.0000000000000002, 1.0, 0.9999999115422239, 1.0000000000000002, 1.0000000000000002, 1.0000000000000002, 1.0, 0.9999999999999999, 1.0, 1.0, 1.0, 1.0, 1.0, 1.0, 1.0, 1.0, 0.9999999999999999, 0.9999999999999998, 0.9999999999999998, 1.0, 1.0, 1.0, 0.9999999999999999, 0.9999999999999999, 1.0, 0.9999999999999998, 1.0, 0.9999999999999998, 1.0, 1.0000000000000002, 1.0, 1.0, 1.0, 1.0, 1.0000000000000002, 1.0, 1.0, 1.0, 1.0, 0.9999999999999999, 1.0, 1.0, 1.0000000000000002, 1.0, 0.9999999999999999, 0.9999999999999999, 1.0, 1.0000000000000002, 0.9999999999999999, 1.0, 1.0, 1.0, 0.9999999999999998, 1.0000000000000002, 1.0, 1.0, 1.0000000000000002, 0.9999999999999999, 0.9999999999999999, 0.9999999999999999, 1.0, 0.9999999999999999, 0.9999999999999998, 0.9999999999999999, 1.0, 0.9999999999999999, 1.0000000000000002, 1.0000000000000002, 0.9999999999999998, 1.0, 0.9999999999999998, 1.0, 1.0, 0.9999999999999998, 1.0, 1.0, 1.0, 1.0, 0.9999999999999998, 1.0000000000000002, 0.9999999999999998, 1.0, 1.0, 1.0, 1.0, 1.0000000000000002, 0.9999999999999999, 1.0, 1.0000000000000002, 0.9999999999999999, 1.0, 1.0000000000000002, 0.9999999999999999, 0.9999999999999999, 1.0, 1.0, 1.0000000000000002, 1.0, 0.9999999999999999, 1.0, 1.0000000000000002, 0.9999999999999998, 1.0000000000000002, 1.0, 0.9999999999999999, 1.0000000000000002, 1.0, 1.0, 0.9999999999999998, 1.0000000000000002, 1.0, 1.0, 0.9999999999999999, 0.9999999999999998, 0.9999999999999998, 1.0000000000000002, 1.0, 0.9999999999999999, 0.9999999999999999, 1.0000000000000002, 0.9999999999999998, 1.0, 1.0000000000000002, 0.9999999999999999, 0.9999999999999999, 1.0, 1.0, 1.0000000000000002, 1.0, 1.0, 1.0, 1.0000000000000002, 1.0, 1.0000000000000002, 1.0, 1.0000000000000002, 1.0, 1.0, 1.0, 1.0, 0.9999999999999999, 1.0, 1.0, 1.0000000000000002, 1.0, 0.9999999999999999, 1.0, 1.0, 1.0, 1.0, 1.0, 1.0, 1.0000000000000002, 0.9999999999999999, 1.0, 1.0, 1.0, 1.0000000000000002, 1.0, 0.9999999999999999, 0.9999999999999999, 0.9999999999999998, 1.0, 0.9999999999999999, 0.9999999999999999, 1.0, 0.9999999999999999, 0.9999999999999999, 1.0, 0.9999999999999998, 1.0, 1.0, 1.0, 0.9999999999999999, 1.0, 1.0, 1.0, 1.0, 1.0, 1.0, 1.0000000000000002, 1.0000000000000002, 1.0, 1.0, 1.0000000000000002, 0.9999999999999999, 1.0, 1.0000000000000002, 1.0000000000000002, 0.9999999999999999, 1.0, 1.0, 1.0, 0.9999999999999999, 1.0, 1.0, 1.0, 0.9999999999999999, 1.0, 0.9999999999999999, 1.0000000000000002, 0.9999999999999998, 0.9999999999999999, 0.9999999999999998, 1.0, 0.9999999999999999, 1.0000000000000002, 0.9999999999999998, 1.0, 1.0, 1.0, 0.9999999999999998, 1.0000000000000002, 1.0, 1.0, 1.0, 0.9999999999999998, 0.9999999999999999, 1.0000000000000002, 1.0, 1.0, 1.0, 0.9999999999999998, 0.9999999999999999, 1.0, 0.9999999999999999, 1.0, 1.0000000000000002, 1.0, 1.0, 0.999996570803922, 0.9999999999999999, 1.0, 1.0000000000000002, 1.0, 0.9999999999999998, 1.0, 0.9999999999999999, 1.0, 1.0, 1.0, 1.0000000000000002, 1.0, 1.0, 0.9999999999999999, 0.9999999999999999, 1.0, 1.0, 0.9999999999999998, 1.0, 0.9999999999999998, 1.0000000000000002, 0.9999999999999999, 1.0, 1.0, 0.9999999999999998, 1.0, 1.0, 0.9999999999999999, 1.0000000000000002, 1.0, 0.9999999999999998, 0.9999999999999998, 1.0, 1.0, 1.0, 0.9999999999999998, 1.0000000000000002, 0.9999999999999998, 0.9999999999999998, 1.0, 1.0, 1.0000000000000002, 1.0, 1.0, 0.9999999999999999, 1.0, 1.0, 0.9999999999999999, 1.0, 1.0, 1.0, 0.9999999999999999, 1.0, 1.0000000000000002, 1.0000000000000002, 1.0, 0.9999999999999999, 1.0000000000000002, 1.0, 1.0000000000000002, 1.0, 0.9999999999999999, 0.9999999999999998, 1.0000000000000002, 1.0, 1.0, 1.0000000000000002, 0.9999999999999999, 1.0, 0.9999999999999998, 0.9999999999999998, 0.9999999999999999, 1.0, 1.0, 1.0, 1.0, 0.9999999999999998, 1.0000000000000002, 1.0, 0.9999999999999999, 0.9999999999999999, 1.0, 0.9999999999999998, 1.0, 1.0000000000000002, 1.0, 1.0, 1.0, 1.0, 1.0, 1.0, 1.0, 1.0, 1.0, 0.9999999999999999, 1.0, 1.0, 0.9999999999999998, 1.0, 1.0, 1.0000000000000002, 0.9999999999999999, 0.9999999999999998, 1.0000000000000002, 1.0000000000000002, 1.0, 1.0, 1.0000000000000002, 1.0, 0.9999999999999999, 0.9999999999999998, 1.0000000000000002, 1.0, 1.0, 1.0, 0.9999999999999999, 1.0000000000000002, 1.0000000000000002, 1.0000000000000002, 1.0, 1.0, 0.9999999999999999, 1.0, 0.9999999999999999, 0.9999999999999998, 1.0, 1.0, 1.0, 1.0, 1.0000000000000002, 1.0, 0.9999999999999999, 0.9999999999999999, 0.9999999999999999, 0.9999999999999999, 1.0000000000000002, 1.0, 1.0000000000000002, 1.0000000000000002, 1.0, 1.0, 1.0, 1.0000000000000002, 1.0, 1.0000000000000002, 1.0, 1.0, 0.9999999999999999, 1.0, 1.0, 1.0000000000000002, 1.0, 1.0, 1.0, 1.0, 1.0, 1.0, 0.9999999999999998, 0.9999999999999999, 0.9999999999999999, 1.0, 1.0, 1.0, 0.9999999999999999, 1.0, 1.0, 1.0000000000000002, 0.9999999999999999, 1.0, 1.0000000000000002, 0.9999999999999999, 1.0000000000000002, 1.0000000000000002, 0.9999999999999998, 1.0000000000000002, 1.0, 1.0000000000000002, 1.0, 1.0, 1.0000000000000002, 1.0, 1.0000000000000002, 1.0, 0.9999999999999999, 1.0000000000000002, 0.9999999999999998, 1.0, 0.9999999999999999, 0.9999999999999999, 0.9999999999999999, 0.9999999999999999, 1.0, 1.0, 1.0, 1.0, 1.0, 1.0, 1.0, 0.9999999999999999, 1.0, 0.9999999999999999, 1.0, 0.9999999999999999, 0.9999999999999998, 0.9999999999999999, 0.9999999999999998, 0.9999999999999998, 1.0, 1.0, 1.0, 1.0000000000000002, 1.0000000000000002, 0.9999999999999998, 1.0, 0.9999999999999999, 1.0, 1.0, 1.0000000000000002, 1.0, 0.9999999999999998, 1.0, 1.0, 1.0, 0.9999999999999998, 1.0, 0.9999999999999999, 1.0, 0.9999999999999998, 1.0000000000000002, 0.9999999999999999, 1.0000000000000002, 1.0, 0.9999999999999999, 0.9999999999999999, 1.0000000000000002, 1.0, 0.9999999999999999, 1.0000000000000002, 1.0000000000000002, 1.0, 1.0, 1.0000000000000002, 1.0, 1.0, 1.0000000000000002, 0.9999999999999999, 1.0000000000000002, 1.0000000000000002, 1.0, 1.0, 0.9999999999999999, 0.9999999999999999, 1.0, 0.9999999999999999, 1.0000000000000002, 1.0000000000000002, 0.9999999999999999, 1.0, 0.9999999999999999, 0.9999999999999999, 1.0, 1.0, 0.9999999999999998, 0.9999999999999999, 0.9999999999999999, 0.9999999999999998, 0.9999999999999999, 1.0, 1.0, 1.0, 1.0000000000000002, 1.0, 1.0000000000000002, 1.0000000000000002, 1.0000000000000002, 1.0, 1.0, 1.0, 0.9999999999999999, 1.0000000000000002, 1.0, 1.0, 1.0, 1.0, 0.9999999999999999, 1.0, 1.0, 1.0, 1.0, 1.0, 0.9999999999999999, 0.9999999999999998, 1.0, 0.9999999999999999, 1.0, 0.9999999999999999, 1.0000000000000002, 0.9999999999999999, 1.0, 0.9999999999999998, 1.0, 1.0, 1.0000000000000002, 0.9999999999999999, 1.0, 0.9999999999999999, 1.0, 0.9999999999999998, 0.9999999999999998, 1.0, 1.0000000000000002, 1.0, 0.9999999999999998, 1.0, 1.0, 1.0, 1.0, 1.0, 1.0, 1.0000000000000002, 1.0000000000000002, 0.9999999999999999, 1.0000000000000002, 1.0, 1.0, 1.0, 0.9999999999999998, 0.9999999999999999, 0.9999999999999999, 1.0, 1.0, 0.9999999999999998, 1.0, 1.0, 0.9999999999999999, 1.0, 0.9999999999999999, 1.0, 0.9999999999999999, 0.9999999999999999, 1.0000000000000002, 0.9999999999999999, 1.0, 1.0, 0.9999999999999998, 1.0000000000000002, 1.0, 0.9999999999999998, 0.9999999999999999, 1.0, 1.0000000000000002, 1.0000000000000002, 0.9999999999999999, 1.0, 0.9999999999999998, 0.9999999999999999, 1.0, 1.0000000000000002, 1.0, 0.9999999999999999, 1.0000000000000002, 1.0, 0.9999999999999999, 0.9999999999999999, 1.0, 0.9999999999999999, 1.0, 1.0, 1.0, 1.0, 1.0, 0.9999999999999998, 1.0000000000000002, 0.9999999999999999, 1.0, 0.9999999999999999, 0.9999999999999998, 1.0, 1.0, 0.9999999999999999, 0.9999906292522823, 1.0, 1.0, 1.0, 1.0, 0.9999999999999999, 1.0, 1.0, 1.0, 1.0, 1.0, 1.0, 1.0, 1.0, 1.0, 0.9999999999999999, 1.0, 1.0000000000000002, 0.9999999999999998, 1.0, 0.9999999999999999, 1.0, 0.9999999999999999, 1.0, 1.0, 1.0, 0.9999999999999999, 0.9999999999999998, 1.0000000000000002, 1.0, 1.0, 1.0, 1.0, 0.9999999999999998, 0.9999999999999999, 1.0000000000000002, 0.9999999999999999, 0.9999999999999998, 1.0, 1.0, 1.0, 1.0, 0.9999999999999999, 1.0, 1.0, 0.9999999999999999, 1.0000000000000002, 1.0, 1.0000000000000002, 1.0, 1.0, 0.9999999999999998, 1.0, 0.9999999999999998, 1.0, 1.0, 0.9999999999999999, 1.0000000000000002, 1.0, 1.0, 1.0, 1.0000000000000002, 0.9999999999999999, 0.9999999999999999, 0.9999999999999999, 1.0, 0.9999999999999999, 0.9999999999999998, 1.0, 1.0, 1.0, 1.0, 0.9999999999999998, 1.0000000000000002, 0.9999999999999999, 1.0, 0.9999999999999999, 1.0, 1.0, 1.0000000000000002, 1.0, 1.0, 1.0, 1.0, 1.0, 0.9999999999999999, 0.9999999999999998, 1.0, 0.9999999999999999, 0.9999999999999999, 1.0, 1.0000000000000002, 1.0000000000000002, 0.9999999999999999, 1.0, 1.0, 0.9999999999999998, 1.0000000000000002, 1.0, 1.0, 1.0000000000000002, 1.0, 1.0000000000000002, 1.0, 1.0000000000000002, 0.9999999999999998, 1.0, 1.0, 1.0, 1.0, 1.0, 1.0, 0.9999999999999999, 0.9999999999999999, 1.0, 1.0, 0.9999999999999999, 1.0, 1.0, 1.0, 1.0, 0.9999999999999998, 1.0, 1.0000000000000002, 1.0000000000000002, 1.0000000000000002, 1.0000000000000002, 1.0000000000000002, 1.0000000000000002, 0.9999999999999998, 1.0, 1.0000000000000002, 1.0, 0.9999999999999998, 0.9999999999999999, 0.9999999999999999, 0.9999999999999999, 0.9999999999999999, 0.9999999999999998, 1.0000000000000002, 1.0000000000000002, 0.9999999999999999, 1.0, 1.0, 0.9999999999999998, 1.0000000000000002, 1.0000000000000002, 1.0, 0.9999999999999998, 1.0, 1.0, 1.0, 0.9999999999999998, 1.0000000000000002, 1.0, 1.0, 0.9999999999999998, 0.9999999999999999, 1.0, 1.0, 1.0, 1.0, 1.0, 1.0, 1.0, 1.0, 1.0, 0.9999999999999998, 0.9999999999999999, 0.9999999999999998, 1.0, 1.0000000000000002, 1.0000000000000002, 1.0000000000000002, 1.0, 1.0, 0.9999999999999999, 0.9999999999999999, 1.0, 1.0, 0.9999999999999998, 0.9999999999999999, 0.9999999999999999, 1.0000000000000002, 0.9999999999999999, 1.0, 1.0, 1.0000000000000002, 0.9999999999999999, 1.0, 0.9999999999999998, 0.9999999999999999, 1.0000000000000002, 1.0, 0.9999999999999999, 1.0, 0.9999999999999999, 0.9999999999999999, 1.0, 1.0, 1.0, 1.0, 1.0000000000000002, 0.9999999999999999, 0.9999999999999998, 0.9999999999999998, 1.0, 1.0, 1.0, 1.0, 1.0, 1.0000000000000002, 1.0, 1.0000000000000002, 0.9999999999999998, 1.0, 1.0000000000000002, 1.0, 0.9999999999999999, 1.0000000000000002, 1.0, 1.0, 1.0, 1.0000000000000002, 0.9999999999999999, 0.9999999999999999, 1.0, 1.0, 1.0, 0.9999999999999999, 0.9999999999999999, 1.0, 1.0000000000000002, 0.9999999999999999, 0.9999999999999999, 1.0, 1.0, 1.0, 1.0, 0.9999999999999999, 0.9999999999999999, 0.9999999999999998, 1.0, 0.9999999999999999, 1.0000000000000002, 1.0, 1.0, 1.0, 1.0, 0.9999999999999999, 0.9999999999999998, 1.0, 1.0, 0.9999999999999999, 1.0, 1.0, 1.0, 1.0, 0.9999999999999999, 1.0000000000000002, 1.0, 1.0000000000000002, 1.0, 0.9999999999999999, 1.0, 1.0, 1.0000000000000002, 1.0, 1.0, 0.9999999999999999, 1.0, 1.0, 1.0, 1.0, 1.0, 1.0, 1.0, 0.9999999999999998, 1.0000000000000002, 1.0, 1.0000000000000002, 0.9999999999999999, 1.0, 1.0000000000000002, 1.0000000000000002, 1.0, 1.0, 0.9999999999999999, 1.0000000000000002, 1.0, 1.0000000000000002, 1.0, 1.0, 1.0, 1.0, 1.0, 0.9999999999999998, 0.9999999999999999, 0.9999999999999999, 1.0, 1.0, 0.9999999999999999, 1.0, 0.9999999999999999, 1.0, 1.0000000000000002, 1.0, 1.0, 1.0000000000000002, 1.0, 1.0, 1.0, 1.0, 1.0, 0.9999999999999999, 1.0, 1.0, 1.0000000000000002, 0.9999999999999999, 0.9999999999999999, 1.0, 1.0000000000000002, 1.0, 1.0, 0.9999999999999998, 1.0, 1.0, 1.0, 1.0000000000000002, 0.9999999999999998, 1.0, 1.0, 0.9999999999999999, 1.0, 0.9999999999999999, 1.0000000000000002, 0.9999999999999998, 0.9999999999999999, 0.9999999999999999, 0.9999999999999999, 0.9999999999999999, 1.0, 0.9999999999999999, 1.0000000000000002, 1.0, 0.9999999999999998, 1.0, 1.0, 1.0, 1.0, 1.0, 1.0000000000000002, 1.0, 1.0, 1.0, 0.9999999999999998, 1.0000000000000002, 1.0, 1.0, 1.0, 1.0, 1.0, 1.0000000000000002, 1.0, 1.0000000000000002, 1.0000000000000002, 1.0000000000000002, 1.0000000000000002, 0.9999999999999999, 0.9999999999999997, 1.0, 0.9999999999999998, 1.0, 0.9999999999999999, 1.0, 1.0, 1.0000000000000002, 1.0, 0.9999999999999998, 1.0, 1.0000000000000002, 1.0000000000000002, 1.0, 0.9999999999999999, 1.0, 0.9999999999999999, 0.9999999999999998, 1.0, 1.0, 0.9999999999999998, 0.9999999999999999, 1.0, 1.0, 1.0, 1.0, 1.0, 0.9999999999999999, 0.9999999999999999, 1.0, 1.0, 1.0, 1.0, 1.0, 1.0000000000000002, 0.9999999999999998, 0.9999999999999999, 0.9999999999999999, 1.0, 1.0, 1.0, 1.0, 1.0, 1.0, 0.9999999999999999, 1.0, 1.0, 1.0, 1.0, 0.9999999999999998, 0.9999999999999998, 1.0000000000000002, 0.9999999999999998, 1.0, 1.0, 1.0000000000000002, 1.0000000000000002, 0.9999999999999999, 1.0000000000000002, 1.0, 1.0, 1.0, 1.0, 1.0000000000000002, 1.0, 1.0, 1.0, 1.0000000000000002, 1.0, 0.9999999999999999, 0.9999999999999999, 1.0, 1.0000000000000002, 0.9999999999999999, 0.9999999999999999, 0.9999999999999999, 0.9999999999999999, 1.0, 1.0, 0.9999999999999999, 0.9999999999999999, 0.9999999999999999, 1.0, 1.0, 0.9999999999999999, 1.0, 0.9999999999999999, 1.0, 0.9999999999999999, 0.9999999999999998, 1.0000000000000002, 1.0, 0.9999999999999999, 0.9999999999999999, 1.0000000000000002, 0.9999999999999998, 0.9999999999999999, 0.9999999999999998, 1.0, 1.0000000000000002, 1.0, 1.0, 1.0, 1.0, 0.9999999999999999, 0.9999999999999999, 1.0, 0.9999999999999999, 0.9999999999999999, 1.0000000000000002, 1.0000000000000002, 1.0, 1.0, 0.9999999999999999, 0.9999999999999999, 1.0, 0.9999999999999998, 0.9999999999999999, 1.0000000000000002, 1.0000000000000002, 1.0000000000000002, 1.0, 1.0000000000000002, 0.9999999999999999, 0.9999999999999999, 1.0, 1.0, 1.0, 1.0, 1.0000000000000002, 1.0, 0.9999999999999999, 0.9999999999999999, 1.0, 0.9999999999999998, 1.0, 1.0000000000000002, 0.9999999999999998, 1.0, 1.0, 0.9999999999999998, 1.0000000000000002, 1.0, 0.9999999999999999, 1.0, 0.9999999999999999, 1.0000000000000002, 1.0000000000000002, 0.9999999999999998, 0.9999999999999999, 1.0, 0.9999999999999999, 1.0000000000000002, 1.0000000000000002, 0.9999999999999999, 1.0, 1.0, 1.0, 0.9999999999999999, 1.0, 1.0000000000000002, 1.0, 1.0, 1.0000000000000002, 0.9999999999999999, 1.0, 0.9999999999999999, 1.0000000000000002, 0.9999999999999997, 1.0, 1.0000000000000002, 1.0, 1.0, 1.0, 0.9999999999999999, 1.0, 1.0, 0.9999999999999998, 0.9999999999999999, 1.0000000000000002, 1.0, 1.0, 1.0000000000000002, 0.9999999999999999, 1.0, 1.0000000000000002, 1.0, 0.9999999999999999, 0.9999999999999999, 1.0, 0.9999999999999998, 1.0000000000000002, 1.0, 0.9999999999999999, 1.0000000000000002, 1.0, 0.9999999999999998, 1.0, 1.0, 0.9999999999999999, 0.9999999999999999, 1.0, 0.9999999999999998, 1.0000000000000002, 1.0, 0.9999999999999999, 0.9999999999999999, 1.0, 1.0000000000000002, 1.0000000000000002, 0.9999999999999999, 1.0, 1.0, 1.0, 1.0, 1.0000000000000002, 1.0, 0.9999999999999999, 1.0, 1.0000000000000002, 1.0000000000000002, 1.0, 1.0, 0.9999999999999999, 1.0, 1.0, 1.0, 1.0, 0.9999999999999999, 0.9999999999999999, 1.0000000000000002, 1.0, 1.0000000000000002, 0.9999999999999999, 1.0, 1.0, 0.9999999999999999, 0.9999999999999999, 1.0, 0.9999999999999999, 1.0, 0.9999994231751493, 1.0, 0.9999999999999999, 1.0000000000000002, 0.9999999999999999, 1.0, 1.0, 1.0, 1.0, 1.0, 1.0, 0.9999999999999999, 0.9999999999999999, 1.0, 1.0, 1.0, 1.0, 1.0, 1.0, 1.0, 1.0, 1.0, 1.0, 1.0, 1.0000000000000002, 1.0, 0.9999999999999997, 1.0, 0.9999999999999999, 1.0000000000000002, 1.0, 0.9999999999999998, 1.0000000000000002, 0.9999999999999998, 0.9999999999999999, 1.0, 1.0, 1.0, 1.0, 1.0000000000000002, 0.9999999999999999, 0.9999999999999999, 0.9999999999999999, 1.0000000000000002, 0.9999999999999999, 1.0, 0.9999999999999999, 1.0000000000000002, 1.0, 1.0, 1.0, 0.9999999999999999, 0.9999999999999999, 1.0000000000000002, 0.9999999999999999, 1.0, 1.0, 1.0, 1.0000000000000002, 1.0, 1.0, 0.9999999999999999, 1.0, 1.0, 0.9999999999999999, 1.0000000000000002, 1.0, 1.0, 1.0, 1.0, 0.9999999999999999, 1.0000000000000002, 1.0, 1.0, 1.0000000000000002, 1.0000000000000002, 0.9999999999999999, 1.0, 0.9999999999999998, 0.9999999999999998, 0.9999999999999998, 1.0, 1.0, 0.9999999999999999, 1.0000000000000002, 0.9999999999999999, 1.0, 1.0000000000000002, 1.0, 1.0, 1.0000000000000002, 1.0, 1.0, 1.0, 1.0000000000000002, 0.9999999999999999, 1.0000000000000002, 1.0, 0.9999999999999999, 1.0, 1.0, 1.0, 0.9999999999999999, 1.0, 1.0, 1.0000000000000002, 1.0, 1.0, 1.0, 1.0, 1.0, 1.0, 0.9999999999999999, 0.9999999999999999, 1.0, 0.9999999999999999, 1.0, 1.0000000000000002, 0.9999999999999999, 0.9999999999999998, 1.0, 1.0, 1.0000000000000002, 0.9999999999999999, 0.9999999999999999, 0.9999999999999998, 0.9999999999999999, 1.0, 1.0000000000000002, 0.9999999999999999, 0.9999999999999999, 1.0, 1.0, 1.0, 1.0, 1.0000000000000002, 1.0, 1.0, 0.9999999999999999, 1.0, 1.0, 1.0, 0.9999999999999999, 1.0, 1.0, 0.9999999999999999, 1.0, 1.0, 1.0000000000000002, 1.0, 1.0, 0.9999999999999999, 1.0000000000000002, 1.0000000000000002, 1.0000000000000002, 1.0, 0.9999999999999999, 1.0000000000000002, 1.0, 0.9999999999999999, 1.0, 1.0000000000000002, 1.0, 1.0000000000000002, 0.9999999999999998, 1.0, 1.0, 1.0000000000000002, 1.0000000000000002, 1.0, 1.0, 1.0000000000000002, 1.0000000000000002, 1.0, 1.0000000000000002, 0.9999999999999999, 1.0, 1.0, 1.0000000000000002, 1.0000000000000002, 1.0, 1.0, 1.0000000000000002, 1.0, 1.0, 0.9999999999999999, 1.0000000000000002, 1.0, 0.9999999999999998, 1.0, 1.0, 1.0, 1.0000000000000002, 0.9999999999999999, 1.0000000000000002, 0.9999999999999999, 1.0, 1.0, 0.9999999999999999, 1.0, 1.0000000000000002, 1.0, 0.9999999999999999, 1.0, 0.9999999999999999, 1.0000000000000002, 1.0, 1.0, 1.0000000000000002, 0.9999999999999998, 0.9999999999999999, 1.0, 1.0, 0.9999999999999999, 0.9999999999999999, 1.0, 1.0, 1.0, 1.0, 0.9999999999999998, 0.9999999999999999, 1.0, 1.0, 1.0, 1.0000000000000002, 1.0, 1.0, 1.0, 0.9999999999999999, 0.9999999999999999, 1.0000000000000002, 1.0, 1.0, 1.0, 0.9999999999999999, 1.0, 1.0, 0.9999999999999999, 0.9999999999999999, 0.9999999999999999, 0.9999999999999998, 1.0000000000000002, 0.9999906292522823, 0.9999999999999999, 1.0, 0.9999999999999999, 1.0, 0.9999999999999999, 0.9999999999999999, 0.9999999999999999, 0.9999906292522823, 1.0, 1.0, 0.9999999999999998, 0.9999999999999998, 0.9999999999999999, 1.0000000000000002, 1.0000000000000002, 1.0, 1.0, 1.0, 1.0000000000000002, 1.0, 1.0, 1.0000000000000002, 0.9999999999999999, 1.0, 1.0, 1.0, 0.9999999999999998, 1.0, 1.0, 0.9999999999999999, 1.0, 1.0000000000000002, 1.0, 0.9999999999999999, 1.0, 1.0, 1.0, 1.0000000000000002, 0.9999999999999998, 1.0, 1.0000000000000002, 1.0, 1.0, 1.0000000000000002, 1.0000000000000002, 1.0, 0.9999999999999998, 1.0, 1.0000000000000002, 1.0, 0.9999999999999999, 1.0, 1.0, 1.0, 1.0, 1.0000000000000002, 1.0, 1.0, 1.0, 1.0000000000000002, 1.0000000000000002, 0.9999999999999998, 1.0, 1.0, 0.9999999999999999, 1.0000000000000002, 1.0000000000000002, 1.0, 0.9999999999999999, 1.0, 0.9999999999999998, 0.9999999999999999, 0.9999999999999999, 1.0, 1.0, 1.0, 1.0, 1.0, 1.0, 1.0, 0.9999999999999998, 0.9999999999999999, 0.9999999999999999, 1.0, 1.0, 1.0, 1.0, 0.9999999999999999, 0.9999999999999999, 0.9999999999999998, 1.0000000000000002, 1.0, 0.9999999999999998, 1.0, 0.9999999997285731, 1.0, 1.0, 1.0000000000000002, 0.9999999999999999, 1.0, 0.9999999999999999, 1.0, 1.0000000000000002, 1.0, 0.9999999999999999, 1.0, 0.9999999999999999, 0.9999999999999999, 1.0, 1.0, 1.0000000000000002, 1.0000000000000002, 0.9999999999999998, 0.9999999999999999, 1.0000000000000002, 1.0000000000000002, 1.0, 0.9999999999999999, 1.0, 1.0, 0.9999999999999999, 1.0, 0.9999999999999998, 1.0, 1.0, 1.0, 1.0, 0.9999999999999998, 0.9999999999999999, 1.0, 1.0, 0.9999999999999999, 1.0000000000000002, 0.9999999999999998, 0.9999999999999999, 1.0000000000000002, 0.9999999999999998, 0.9999999999999999, 1.0000000000000002, 1.0, 0.9999999999999999, 1.0, 1.0, 1.0, 0.9999999999999998, 1.0, 1.0, 0.9999999999999999, 1.0, 1.0, 1.0000000000000002, 0.9999999999999999, 1.0, 1.0000000000000002, 0.9999999999999999, 0.9999999999999999, 1.0, 1.0, 0.9999968262300702, 1.0000000000000002, 1.0, 0.9999999999999998, 1.0, 1.0, 0.9999999999999999, 1.0000000000000002, 1.0, 1.0000000000000002, 1.0, 1.0, 1.0, 1.0, 0.9999999999999999, 1.0, 1.0, 1.0, 0.9999999999999998, 0.9999999999999998, 0.9999999999999999, 1.0, 1.0, 1.0000000000000002, 1.0, 0.9999999999999998, 0.9999999999999999, 0.9999999999999998, 1.0000000000000002, 0.9999999999999998, 0.9999999999999999, 1.0, 0.9999999999999999, 1.0, 1.0, 1.0, 1.0000000000000002, 0.9999999999999999, 0.9999999999999999, 0.9999999999999999, 1.0, 1.0, 1.0, 1.0, 1.0, 1.0000000000000002, 0.9999999999999998, 1.0, 1.0, 1.0, 1.0000000000000002, 1.0, 1.0, 1.0, 0.9999999999999999, 0.9999999999999999, 1.0, 0.9999999999999999, 1.0, 1.0, 0.9999999999999999, 1.0, 0.9999999999999999, 1.0, 0.9999999999999998, 1.0000000000000002, 1.0000000000000002, 1.0, 1.0, 1.0, 0.9999999999999999, 1.0, 1.0000000000000002, 1.0, 1.0, 0.9999999999999999, 0.9999999999999999, 0.9999999999999999, 1.0000000000000002, 0.9999999999999999, 0.9999999999999999, 1.0000000000000002, 0.9999999999999999, 1.0000000000000002, 1.0000000000000002, 1.0, 1.0, 0.9999999997285731, 1.0000000000000002, 1.0, 1.0000000000000002, 1.0, 1.0, 0.9999999999999999, 0.9999999999999999, 1.0, 1.0000000000000002, 1.0, 1.0, 1.0, 1.0, 0.9999999999999999, 0.9999999999999999, 1.0, 0.9999999999999999, 0.9999999999999999, 1.0000000000000002, 0.9999999999999999, 1.0, 1.0000000000000002, 1.0000000000000002, 1.0, 1.0, 0.9999999999999999, 1.0, 1.0, 1.0, 1.0000000000000002, 1.0, 1.0, 1.0, 1.0000000000000002, 1.0, 1.0, 0.9999999999999999, 1.0, 0.9999999999999999, 1.0, 1.0, 0.9999999999999999, 1.0000000000000002, 1.0, 0.9999999999999998, 1.0, 1.0, 1.0, 1.0, 0.9999999999999999, 1.0000000000000002, 0.9999999999999999, 0.9999999999999999, 1.0000000000000002, 1.0000000000000002, 0.9999999999999999, 0.9999999999999999, 1.0, 0.9999999999999998, 0.9999999999999998, 0.9999999999999999, 0.9999999999999999, 1.0, 0.9999999999999998, 0.9999999999999999, 1.0, 1.0, 1.0, 1.0000000000000002, 1.0, 1.0000000000000002, 1.0, 1.0, 0.9999999999999999, 1.0000000000000002, 0.9999999999999999, 1.0, 1.0, 1.0000000000000002, 0.9999906292522823, 1.0000000000000002, 1.0, 1.0000000000000002, 1.0000000000000002, 1.0, 1.0, 1.0000000000000002, 1.0, 0.9999999999999999, 0.9999999999999998, 1.0000000000000002, 1.0, 0.9999999999999999, 0.9999999999999998, 1.0, 1.0, 1.0, 1.0, 1.0000000000000002, 1.0, 1.0000000000000002, 0.9999999999999999, 1.0000000000000002, 1.0, 0.9999999999999999, 0.9999999999999998, 1.0000000000000002, 1.0000000000000002, 1.0000000000000002, 0.9999999999999999, 0.9999999999999998, 1.0, 1.0, 1.0, 1.0, 0.9999999999999999, 1.0, 1.0, 1.0000000000000002, 1.0, 0.9999999999999999, 0.9999999999999999, 1.0, 1.0, 1.0000000000000002, 1.0, 1.0, 1.0, 1.0, 1.0, 0.9999999999999998, 1.0000000000000002, 0.9999999999999998, 1.0, 1.0, 1.0, 1.0000000000000002, 1.0, 0.9999999999999999, 1.0000000000000002, 1.0, 0.9999999999999999, 0.9999999999999999, 0.9999999999999999, 1.0, 1.0, 0.9999999999999999, 1.0, 0.9999999999999998, 0.9999999999999999, 0.9999999999999998, 1.0000000000000002, 1.0, 1.0, 1.0, 1.0, 0.9999999999999999, 1.0, 1.0, 1.0000000000000002, 1.0, 1.0000000000000002, 1.0000000000000002, 1.0000000000000002, 1.0, 1.0, 0.9999999999999999, 0.9999999999999999, 0.9999999999999999, 1.0, 1.0000000000000002, 1.0000000000000002, 1.0000000000000002, 0.9999999999999999, 0.9999999999999999, 1.0000000000000002, 1.0, 0.9999999999999998, 0.9999999999999999, 1.0, 1.0000000000000002, 0.9999999999999999, 1.0000000000000002, 1.0000000000000002, 1.0000000000000002, 1.0, 0.9999999999999998, 0.9999999999999999, 0.9999999999999998, 0.9999999999999998, 1.0, 1.0, 1.0, 1.0, 0.9999999999999999, 1.0, 1.0, 1.0, 0.9999999999999998, 0.9999999999999999, 1.0, 0.9999999999999999, 0.9999999999999998, 0.9999999999999998, 0.9999999999999999, 0.9999999999999998, 1.0, 1.0, 0.9999999999999999, 0.9999999999999997, 0.9999999999999999, 1.0, 1.0, 1.0, 0.9999999999999999, 1.0000000000000002, 1.0, 0.9999999999999998, 1.0000000000000002, 0.9999999999999999, 1.0, 1.0000000000000002, 0.9999999999999999, 1.0000000000000002, 1.0000000000000002, 1.0, 0.9999999999999998, 1.0000000000000002, 1.0, 0.9999999999999998, 1.0000000000000002, 1.0, 1.0000000000000002, 0.9999999999999998, 1.0, 0.9999999999999998, 1.0, 0.9999999999999999, 1.0, 1.0, 0.9999999999999999, 1.0, 1.0, 1.0000000000000002, 1.0, 0.9999999999999999, 1.0, 1.0000000000000002, 0.9999999999999998, 1.0000000000000002, 1.0, 1.0, 0.9999999999999999, 0.9999999999999999, 1.0, 1.0, 1.0, 1.0, 1.0, 0.9999999999999999, 0.9999999999999999, 1.0, 1.0, 1.0, 1.0, 1.0000000000000002, 1.0, 1.0, 1.0, 1.0000000000000002, 1.0000000000000002, 1.0, 1.0, 1.0, 1.0, 0.9999999999999999, 1.0000000000000002, 0.9999999999999999, 1.0, 1.0, 0.9999999999999999, 1.0, 1.0000000000000002, 1.0000000000000002, 1.0000000000000002, 0.9999999999999998, 1.0, 1.0, 1.0000000000000002, 0.9999999999999998, 1.0, 1.0000000000000002, 1.0, 0.9999999999999998, 0.9999999999999999, 0.9999999999999999, 1.0, 1.0, 1.0, 1.0, 0.9999999999999999, 0.9999999999999999, 1.0, 0.9999994231751493, 0.9999999999999998, 1.0, 1.0, 1.0000000000000002, 1.0000000000000002, 1.0000000000000002, 1.0000000000000002, 1.0, 1.0, 1.0000000000000002, 1.0, 0.9999999999999999, 1.0000000000000002, 1.0000000000000002, 0.9999999999999999, 1.0, 1.0000000000000002, 1.0, 0.9999999999999999, 1.0000000000000002, 1.0, 0.9999999999999999, 1.0, 1.0, 1.0, 1.0, 1.0, 0.9999999999999999, 1.0, 1.0, 0.9999999999999999, 1.0, 1.0, 1.0, 1.0000000000000002, 0.9999999999999999, 1.0, 1.0, 1.0, 1.0000000000000002, 1.0, 0.9999999999999998, 0.9999999999999998, 1.0, 0.9999999999999998, 0.9999999999999999, 0.9999999999999999, 1.0000000000000002, 0.9999999999999999, 1.0, 1.0, 0.9999999999999999, 1.0, 1.0000000000000002, 1.0000000000000002, 0.9999999999999999, 1.0, 1.0, 1.0000000000000002, 0.9999999999999998, 1.0, 1.0, 0.9999999999999999, 1.0, 1.0, 1.0, 1.0, 0.9999999999999999, 0.9999999999999998, 1.0, 1.0, 0.9999999999999999, 1.0, 0.9999999999999998, 1.0, 1.0000000000000002, 1.0, 1.0, 0.9999999999999999, 1.0000000000000002, 1.0, 0.9999999999999999, 1.0, 1.0000000000000002, 0.9999999999999999, 1.0000000000000002, 1.0, 0.9999999999999999, 0.9999999999999999, 1.0, 1.0, 0.9999999999999998, 1.0, 1.0, 1.0000000000000002, 0.9999999999999999, 0.9999999999999998, 1.0, 0.9999999999999999, 1.0000000000000002, 1.0, 1.0, 1.0, 1.0, 0.9999999999999998, 0.9999999999999997, 0.9999999999999998, 1.0, 1.0, 0.9999999999999999, 1.0, 0.9999999999999999, 1.0000000000000002, 0.9999999999999999, 1.0, 1.0, 1.0, 0.9999999999999998, 0.9999999999999999, 1.0, 1.0000000000000002, 1.0, 1.0000000000000002, 1.0, 1.0000000000000002, 1.0, 0.9999999999999999, 0.9999999999999999, 1.0, 1.0, 1.0, 1.0, 1.0, 0.9999999999999999, 0.9999999999999999, 0.9999999999999999, 0.9999999999999999, 0.9999999999999999, 1.0, 0.9999999999999999, 0.9999999999999999, 0.9999999999999999, 1.0, 1.0, 0.9999999999999998, 1.0, 1.0000000000000002, 1.0, 1.0, 1.0, 1.0000000000000002, 0.9999999999999999, 1.0000000000000002, 1.0, 0.9999999999999999, 1.0, 0.9999999999999998, 1.0, 1.0, 0.9999999999999998, 1.0000000000000002, 1.0, 1.0000000000000002, 1.0000000000000002, 1.0000000000000002, 0.9999999999999998, 1.0, 0.9999999999999998, 1.0000000000000002, 1.0000000000000002, 0.9999999999999999, 1.0000000000000002, 0.9999999999999998, 1.0, 1.0, 1.0, 0.9999999999999999, 0.9999999999999999, 1.0, 1.0, 0.9999999999999999, 1.0000000000000002, 1.0, 1.0, 1.0, 0.9999999999999999, 1.0, 1.0, 0.9999999999999999, 1.0, 0.9999999999999999, 1.0, 1.0000000000000002, 0.9999999999999999, 1.0, 0.9999999999999999, 1.0000000000000002, 0.9999999999999999, 1.0, 1.0, 1.0, 1.0, 1.0000000000000002, 0.9999999999999998, 0.9999999999999998, 1.0000000000000002, 1.0, 1.0, 1.0, 0.9999999999999999, 0.9999999999999999, 1.0, 1.0, 1.0000000000000002, 0.9999999999999999, 0.9999999999999999, 0.9999999999999999, 1.0, 1.0, 0.9999999999999999, 0.9999999999999999, 1.0, 0.9999999999999999, 1.0, 0.9999999999999999, 1.0, 1.0, 1.0, 1.0, 1.0000000000000002, 1.0, 1.0, 1.0000000000000002, 1.0000000000000002, 1.0000000000000002, 1.0000000000000002, 0.9999999999999999, 1.0, 1.0000000000000002, 0.9999999999999999, 1.0, 1.0000000000000002, 1.0, 1.0, 0.9999999999999999, 1.0, 1.0000000000000002, 1.0000000000000002, 1.0, 0.9999999999999999, 1.0000000000000002, 1.0, 0.9999999999999999, 1.0, 0.9999999999999998, 1.0000000000000002, 1.0000000000000002, 0.9999999999999999, 1.0, 1.0, 0.9999999999999998, 1.0, 0.9999999999999999, 1.0, 1.0, 1.0000000000000002, 1.0, 1.0, 0.9999999999999999, 1.0, 1.0000000000000002, 1.0, 1.0, 0.9999999999999999, 1.0000000000000002, 0.9999999999999999, 1.0, 1.0000000000000002, 1.0, 0.9999999999999999, 0.9999999999999999, 0.9999999999999999, 1.0, 1.0, 1.0, 1.0, 1.0, 1.0, 1.0, 0.9999999999999999, 1.0000000000000002, 1.0, 1.0000000000000002, 1.0, 1.0, 1.0, 0.9999999999999998, 1.0000000000000002, 1.0, 0.9999999999999999, 1.0, 1.0000000000000002, 0.9999999999999999, 1.0000000000000002, 1.0000000000000002, 1.0000000000000002, 1.0, 1.0, 1.0, 1.0, 1.0, 1.0, 1.0, 0.9999999999999999, 1.0000000000000002, 0.9999999999999999, 1.0, 0.9999999999999998, 0.9999999999999999, 1.0, 1.0, 1.0, 1.0, 0.9999999999999999, 1.0, 0.9999999999999999, 0.9999999999999998, 0.9999999999999998, 1.0000000000000002, 1.0, 1.0, 0.9999999999999999, 0.9999999999999998, 0.9999999999999999, 1.0, 0.9999999999999999, 1.0, 1.0, 1.0, 0.9999999999999998, 1.0, 1.0, 1.0, 1.0, 1.0, 1.0, 0.9999999999999999, 0.9999999999999998, 0.9999999999999999, 1.0, 1.0, 1.0, 1.0, 1.0, 1.0, 1.0000000000000002, 0.9999999999999999, 1.0000000000000002, 1.0, 1.0, 1.0, 0.9999999999999998, 1.0, 1.0, 1.0, 1.0, 1.0, 1.0, 1.0, 0.9999999999999998, 1.0, 1.0, 1.0000000000000002, 1.0000000000000002, 1.0, 1.0000000000000002, 1.0000000000000002, 0.9999999999999998, 1.0, 1.0, 1.0, 1.0, 1.0, 1.0000000000000002, 0.9999999999999999, 1.0000000000000002, 1.0, 1.0, 0.9999999999999999, 1.0, 1.0, 1.0, 1.0, 1.0, 0.9999999999999999, 1.0, 0.9999999999999999, 1.0000000000000002, 1.0, 1.0, 1.0, 1.0, 1.0000000000000002, 1.0, 0.9999999999999998, 0.9999999999999998, 1.0, 1.0000000000000002, 1.0, 1.0, 0.9999999999999998, 1.0000000000000002, 0.9999999999999999, 1.0, 1.0000000000000002, 1.0000000000000002, 0.9999999999999999, 0.9999999999999999, 1.0000000000000002, 0.9999999999999999, 1.0, 0.9999999999999999, 1.0, 1.0, 1.0000000000000002, 0.9999999999999997, 1.0, 1.0, 1.0, 1.0000000000000002, 1.0, 1.0, 1.0, 0.9999999999999999, 1.0, 1.0, 1.0, 0.9999999999999999, 0.9999999999999999, 0.9999999999999999, 1.0000000000000002, 1.0, 0.9999999999999998, 1.0, 1.0, 1.0000000000000002, 0.9999999999999999, 1.0, 0.9999999999999999, 1.0, 0.9999999999999999, 1.0000000000000002, 1.0, 1.0, 0.9999999999999999, 1.0, 1.0, 1.0000000000000002, 1.0, 1.0, 1.0000000000000002, 1.0000000000000002, 0.9999999999999999, 1.0, 1.0, 1.0, 1.0, 1.0000000000000002, 1.0000000000000002, 1.0, 1.0, 0.9999999999999999, 0.9999999999999998, 0.9999999999999999, 1.0, 1.0, 0.9999999999999999, 1.0, 1.0, 1.0, 0.9999999999999999, 0.9999999999999998, 0.9999999999999998, 1.0, 1.0000000000000002, 1.0, 1.0, 1.0000000000000002, 1.0, 0.9999999999999999, 0.9999999999999999, 1.0000000000000002, 0.9999999999999999, 1.0000000000000002, 0.9999999999999999, 0.9999999999999998, 0.9999999999999999, 1.0, 1.0, 1.0, 1.0, 1.0000000000000002, 1.0000000000000002, 1.0, 0.9999999999999999, 1.0, 1.0000000000000002, 0.9999999999999999, 0.9999999999999998, 1.0, 1.0000000000000002, 1.0000000000000002, 1.0, 0.9999999999999998, 0.9999999999999998, 1.0000000000000002, 0.9999999999999998, 0.9999999999999999, 1.0000000000000002, 0.9999999999999999, 1.0000000000000002, 1.0, 0.9999999999999999, 1.0, 0.9999999999999999, 0.9999999999999999, 1.0000000000000002, 0.9999999999999999, 1.0, 0.9999999999999999, 0.9999999999999999, 1.0000000000000002, 0.9999999999999999, 1.0, 1.0, 1.0, 1.0, 1.0, 0.9999999999999998, 0.9999999999999998, 1.0000000000000002, 0.9999999999999999, 0.9999999999999998, 1.0, 1.0, 1.0, 0.9999999999999998, 0.9999999999999999, 0.9999999999999999, 1.0, 0.9999999999999998, 1.0000000000000002, 0.9999999999999999, 1.0, 1.0, 1.0, 1.0, 1.0000000000000002, 1.0, 1.0000000000000002, 1.0, 0.9999999999999999, 0.9999999999999998, 1.0, 1.0, 1.0, 1.0, 0.9999999999999998, 1.0, 1.0, 1.0, 1.0, 1.0000000000000002, 1.0, 0.9999999999999999, 1.0, 1.0000000000000002, 1.0, 0.9999999999999999, 0.9999999999999999, 1.0, 1.0000000000000002, 0.9999999999999999, 1.0, 1.0, 1.0, 1.0, 1.0, 1.0, 1.0, 1.0, 0.9999999999999999, 1.0, 1.0, 1.0, 0.9999999999999999, 1.0, 1.0, 1.0, 1.0, 1.0000000000000002, 1.0, 0.9999999999999999, 1.0, 1.0, 1.0, 1.0, 1.0, 1.0, 1.0, 1.0000000000000002, 0.9999999999999998, 1.0000000000000002, 1.0, 0.9999999999999999, 0.9999999999999999, 0.9999999999999998, 1.0000000000000002, 0.9999999999999999, 1.0000000000000002, 1.0, 0.9999999999999999, 1.0, 1.0, 1.0000000000000002, 0.9999999999999999, 1.0000000000000002, 1.0, 1.0, 0.9999999999999999, 0.9999999999999999, 0.9999999999999999, 0.9999999997285731, 1.0, 1.0, 1.0000000000000002, 1.0000000000000002, 0.9999999999999999, 1.0, 0.9999999999999998, 1.0000000000000002, 1.0, 1.0, 1.0, 1.0, 0.9999999999999998, 1.0, 1.0, 0.9999999999999998, 1.0000000000000002, 1.0000000000000002, 1.0, 1.0000000000000002, 1.0, 1.0, 1.0, 1.0000000000000002, 0.9999999999999999, 1.0, 0.9999999999999998, 0.9999999999999999, 0.9999999999999999, 1.0000000000000002, 1.0, 0.9999999999999998, 1.0, 1.0, 1.0, 1.0, 0.9999999999999999, 1.0, 1.0, 0.9999999999999998, 1.0, 1.0000000000000002, 1.0, 0.9999999999999999, 1.0, 1.0000000000000002, 0.9999999999999999, 1.0000000000000002, 1.0, 1.0, 1.0000000000000002, 0.9999999115422239, 1.0, 1.0, 1.0, 0.9999999999999999, 1.0000000000000002, 1.0, 0.9999999999999999, 1.0, 1.0000000000000002, 1.0000000000000002, 1.0, 1.0000000000000002, 1.0, 1.0, 0.9999999999999999, 0.9999999999999999, 1.0000000000000002, 1.0, 0.9999999999999998, 1.0000000000000002, 1.0, 1.0, 0.9999999999999999, 1.0000000000000002, 0.9999999999999999, 0.9999999999999999, 0.9999999999999999, 1.0, 0.9999999999999999, 1.0000000000000002, 1.0, 1.0, 0.9999999999999998, 0.9999999999999999, 1.0, 1.0, 1.0, 0.9999999999999999, 1.0, 1.0, 0.9999999999999998, 1.0, 1.0000000000000002, 0.9999999999999999, 0.9999999999999999, 1.0000000000000002, 0.9999999999999998, 1.0000000000000002, 1.0, 1.0, 0.9999999999999999, 1.0, 1.0000000000000002, 0.9999999999999999, 1.0, 1.0, 1.0, 1.0, 1.0, 1.0, 1.0000000000000002, 0.9999999999999999, 1.0000000000000002, 1.0, 1.0, 1.0, 0.9999999999999999, 1.0, 1.0, 1.0, 1.0000000000000002, 0.9999999999999999, 0.9999999999999999, 0.9999999999999998, 1.0, 1.0, 1.0, 1.0, 0.9999999999999999, 0.9999999999999999, 0.9999999999999998, 1.0, 1.0, 1.0000000000000002, 1.0, 1.0, 0.9999999999999998, 1.0, 1.0, 1.0, 1.0, 0.9999999999999999, 1.0000000000000002, 1.0, 1.0, 1.0, 1.0000000000000002, 0.9999999999999999, 0.9999999999999998, 1.0, 0.9999999999999998, 0.9999999999999999, 0.9999999999999999, 1.0, 0.9999999999999999, 0.9999999999999998, 0.9999999999999999, 1.0, 1.0000000000000002, 0.9999999999999999, 1.0, 1.0, 0.9999999999999999, 1.0, 1.0, 1.0000000000000002, 1.0, 1.0000000000000002, 1.0000000000000002, 1.0000000000000002, 0.9999999999999999, 1.0, 1.0, 1.0, 0.9999999999999999, 0.9999999999999998, 1.0, 1.0, 0.9999999999999998, 1.0, 0.9999999999999999, 1.0000000000000002, 0.9999999999999999, 1.0, 1.0, 1.0, 1.0, 1.0, 1.0, 0.9999999999999998, 1.0, 1.0, 1.0, 1.0, 1.0, 1.0, 1.0, 1.0, 1.0000000000000002, 1.0, 1.0, 1.0, 1.0, 1.0000000000000002, 0.9999999999999999, 1.0, 1.0000000000000002, 0.9999999999999999, 1.0, 1.0000000000000002, 1.0, 1.0000000000000002, 1.0000000000000002, 1.0, 1.0000000000000002, 1.0, 1.0, 1.0, 0.9999999999999998, 0.9999999999999999, 0.9999999999999998, 1.0, 0.9999999999999998, 1.0, 0.9999999999999999, 1.0, 1.0, 1.0, 1.0, 0.9999999999999998, 1.0000000000000002]\n"
          ],
          "name": "stdout"
        }
      ]
    },
    {
      "cell_type": "code",
      "metadata": {
        "id": "ByGHgq12wu7z",
        "colab_type": "code",
        "colab": {}
      },
      "source": [
        ""
      ],
      "execution_count": 0,
      "outputs": []
    },
    {
      "cell_type": "code",
      "metadata": {
        "id": "PYXzTJNek1Sl",
        "colab_type": "code",
        "colab": {}
      },
      "source": [
        ""
      ],
      "execution_count": 0,
      "outputs": []
    },
    {
      "cell_type": "code",
      "metadata": {
        "id": "56MvpC-Lpn78",
        "colab_type": "code",
        "colab": {}
      },
      "source": [
        "import numpy as np\n",
        "...\n",
        "npa = np.asarray(results, dtype=np.float32)"
      ],
      "execution_count": 0,
      "outputs": []
    },
    {
      "cell_type": "code",
      "metadata": {
        "id": "1fTshf36puix",
        "colab_type": "code",
        "outputId": "8ba9259b-745c-4aae-c183-b9fadaec943b",
        "colab": {
          "base_uri": "https://localhost:8080/",
          "height": 34
        }
      },
      "source": [
        "print( npa)"
      ],
      "execution_count": 0,
      "outputs": [
        {
          "output_type": "stream",
          "text": [
            "[1. 1. 1. ... 1. 1. 1.]\n"
          ],
          "name": "stdout"
        }
      ]
    },
    {
      "cell_type": "code",
      "metadata": {
        "id": "5JPOBhY1qAny",
        "colab_type": "code",
        "outputId": "3e94a31f-992e-4432-f097-9a0bbcd48b75",
        "colab": {
          "base_uri": "https://localhost:8080/",
          "height": 34
        }
      },
      "source": [
        "npa.size"
      ],
      "execution_count": 0,
      "outputs": [
        {
          "output_type": "execute_result",
          "data": {
            "text/plain": [
              "5845"
            ]
          },
          "metadata": {
            "tags": []
          },
          "execution_count": 110
        }
      ]
    },
    {
      "cell_type": "code",
      "metadata": {
        "id": "5GQIUzb_qSHZ",
        "colab_type": "code",
        "outputId": "e462f884-744c-4ec5-a118-f4ac7d3e9c3e",
        "colab": {
          "base_uri": "https://localhost:8080/",
          "height": 255
        }
      },
      "source": [
        "print(df)"
      ],
      "execution_count": 0,
      "outputs": [
        {
          "output_type": "stream",
          "text": [
            "        Area  Rainfall  Humidity  Temperature                Crop\n",
            "0      34067       0.0      0.41            33          Arhar/Tur\n",
            "1        743       0.0      0.41            33              Bajra\n",
            "2        886       0.0      0.41            33        Castor seed\n",
            "3       1611       0.0      0.41            33       Cotton(lint)\n",
            "4       1574       0.0      0.41            33       Dry chillies\n",
            "...      ...       ...       ...           ...                ...\n",
            "11685    107      14.0      0.74            27  Moong(Green Gram)\n",
            "11686     32      14.0      0.74            27               Ragi\n",
            "11687   4005      14.0      0.74            27               Rice\n",
            "11688    125      14.0      0.74            27            Sesamum\n",
            "11689     31      14.0      0.74            27               Urad\n",
            "\n",
            "[11690 rows x 5 columns]\n"
          ],
          "name": "stdout"
        }
      ]
    },
    {
      "cell_type": "code",
      "metadata": {
        "id": "pzkUUmtXsO1Z",
        "colab_type": "code",
        "outputId": "20092fcd-579a-4d7e-e60c-5b7d542e6643",
        "colab": {
          "base_uri": "https://localhost:8080/",
          "height": 255
        }
      },
      "source": [
        "print(x_train)"
      ],
      "execution_count": 0,
      "outputs": [
        {
          "output_type": "stream",
          "text": [
            "       Rainfall  Humidity  Temperature \n",
            "3992       11.2      0.80            30\n",
            "4971       39.6      0.90            28\n",
            "1650        0.0      0.64            25\n",
            "4565        3.0      0.88            25\n",
            "6451        3.5      0.65            30\n",
            "...         ...       ...           ...\n",
            "778         2.1      0.74            25\n",
            "9824        0.2      0.70            22\n",
            "4188        0.0      0.79            25\n",
            "5327        0.0      0.75            25\n",
            "10343       2.6      0.90            30\n",
            "\n",
            "[5845 rows x 3 columns]\n"
          ],
          "name": "stdout"
        }
      ]
    },
    {
      "cell_type": "code",
      "metadata": {
        "id": "bXJxpncUwydB",
        "colab_type": "code",
        "outputId": "32c8b21c-599a-4544-f8e1-baf6829d3c24",
        "colab": {
          "base_uri": "https://localhost:8080/",
          "height": 136
        }
      },
      "source": [
        "a=np.column_stack((x_train, npa,y_train))\n",
        "print(a)"
      ],
      "execution_count": 0,
      "outputs": [
        {
          "output_type": "stream",
          "text": [
            "[[11.2 0.8 30.0 1.0 'Small millets']\n",
            " [39.6 0.9 28.0 1.0 'Cotton(lint)']\n",
            " [0.0 0.64 25.0 1.0 'Sweet potato']\n",
            " ...\n",
            " [0.0 0.79 25.0 1.0 'Rice']\n",
            " [0.0 0.75 25.0 1.0 'Sweet potato']\n",
            " [2.6 0.9 30.0 1.0 'Maize']]\n"
          ],
          "name": "stdout"
        }
      ]
    },
    {
      "cell_type": "code",
      "metadata": {
        "id": "SWAbSyex1oGU",
        "colab_type": "code",
        "outputId": "0defce50-53ea-44c2-d067-6d8ae0e517b4",
        "colab": {
          "base_uri": "https://localhost:8080/",
          "height": 221
        }
      },
      "source": [
        "print (y_train)"
      ],
      "execution_count": 0,
      "outputs": [
        {
          "output_type": "stream",
          "text": [
            "3992             Small millets\n",
            "4971              Cotton(lint)\n",
            "1650              Sweet potato\n",
            "4565                      Rice\n",
            "6451         Moong(Green Gram)\n",
            "                 ...          \n",
            "778                     Sapota\n",
            "9824     Peas & beans (Pulses)\n",
            "4188                      Rice\n",
            "5327              Sweet potato\n",
            "10343                    Maize\n",
            "Name: Crop, Length: 5845, dtype: object\n"
          ],
          "name": "stdout"
        }
      ]
    },
    {
      "cell_type": "code",
      "metadata": {
        "id": "waJ1-iVCOEZy",
        "colab_type": "code",
        "colab": {}
      },
      "source": [
        "import numpy as np"
      ],
      "execution_count": 0,
      "outputs": []
    },
    {
      "cell_type": "code",
      "metadata": {
        "id": "r5ksK_20583_",
        "colab_type": "code",
        "outputId": "f8bee521-b511-4512-9de1-0eaf5d366610",
        "colab": {
          "base_uri": "https://localhost:8080/",
          "height": 136
        }
      },
      "source": [
        "sorted_array = a[np.argsort(a[:, 3])]\n",
        "reverse_array = sorted_array[::-1]\n",
        "\n",
        "\n",
        "print(reverse_array)"
      ],
      "execution_count": 0,
      "outputs": [
        {
          "output_type": "stream",
          "text": [
            "[[2.6 0.9 30.0 1.0 'Maize']\n",
            " [4.0 0.71 28.0 1.0 'Bajra']\n",
            " [12.7 0.85 26.0 1.0 'Urad']\n",
            " ...\n",
            " [11.4 0.74 30.0 0.9999375343322754 'Moong(Green Gram)']\n",
            " [7.0 0.88 25.0 0.9995654821395874 'Cotton(lint)']\n",
            " [4.1 0.81 27.0 0.9995077252388 'Sunflower']]\n"
          ],
          "name": "stdout"
        }
      ]
    },
    {
      "cell_type": "code",
      "metadata": {
        "id": "EbYhv8zD_9R7",
        "colab_type": "code",
        "colab": {}
      },
      "source": [
        "df=reverse_array"
      ],
      "execution_count": 0,
      "outputs": []
    },
    {
      "cell_type": "code",
      "metadata": {
        "id": "PfyfGAPUKFLO",
        "colab_type": "code",
        "colab": {}
      },
      "source": [
        "import numpy as np\n",
        "import pandas as pd\n",
        "import seaborn as sns\n",
        "import matplotlib.pyplot as plt\n"
      ],
      "execution_count": 0,
      "outputs": []
    },
    {
      "cell_type": "code",
      "metadata": {
        "id": "4VewapTGK3a4",
        "colab_type": "code",
        "outputId": "e79401c9-483b-4cdf-acc7-c1dc029e0429",
        "colab": {
          "base_uri": "https://localhost:8080/",
          "height": 136
        }
      },
      "source": [
        "print(df)"
      ],
      "execution_count": 0,
      "outputs": [
        {
          "output_type": "stream",
          "text": [
            "[[2.6 0.9 30.0 1.0 'Maize']\n",
            " [4.0 0.71 28.0 1.0 'Bajra']\n",
            " [12.7 0.85 26.0 1.0 'Urad']\n",
            " ...\n",
            " [11.4 0.74 30.0 0.9999375343322754 'Moong(Green Gram)']\n",
            " [7.0 0.88 25.0 0.9995654821395874 'Cotton(lint)']\n",
            " [4.1 0.81 27.0 0.9995077252388 'Sunflower']]\n"
          ],
          "name": "stdout"
        }
      ]
    },
    {
      "cell_type": "code",
      "metadata": {
        "id": "oLndn601pGw4",
        "colab_type": "code",
        "colab": {}
      },
      "source": [
        ""
      ],
      "execution_count": 0,
      "outputs": []
    },
    {
      "cell_type": "code",
      "metadata": {
        "id": "Q2BhFJz5hHuN",
        "colab_type": "code",
        "outputId": "c1493376-1008-484f-9bf9-d5309731ed24",
        "colab": {
          "base_uri": "https://localhost:8080/",
          "height": 148
        }
      },
      "source": [
        ""
      ],
      "execution_count": 0,
      "outputs": [
        {
          "output_type": "error",
          "ename": "SyntaxError",
          "evalue": "ignored",
          "traceback": [
            "\u001b[0;36m  File \u001b[0;32m\"<ipython-input-130-144327149a80>\"\u001b[0;36m, line \u001b[0;32m1\u001b[0m\n\u001b[0;31m    df[;5]\u001b[0m\n\u001b[0m       ^\u001b[0m\n\u001b[0;31mSyntaxError\u001b[0m\u001b[0;31m:\u001b[0m invalid syntax\n"
          ]
        },
        {
          "output_type": "stream",
          "text": [
            "ERROR! Session/line number was not unique in database. History logging moved to new session 73\n"
          ],
          "name": "stdout"
        }
      ]
    },
    {
      "cell_type": "code",
      "metadata": {
        "id": "NNvuiB0zOi4C",
        "colab_type": "code",
        "colab": {}
      },
      "source": [
        ""
      ],
      "execution_count": 0,
      "outputs": []
    },
    {
      "cell_type": "code",
      "metadata": {
        "id": "_c_KC5vcLhOD",
        "colab_type": "code",
        "colab": {}
      },
      "source": [
        ""
      ],
      "execution_count": 0,
      "outputs": []
    },
    {
      "cell_type": "code",
      "metadata": {
        "id": "gjhwzooiMfEv",
        "colab_type": "code",
        "outputId": "7ce2b1e4-944c-4f82-cb1d-5c8349a0514e",
        "colab": {
          "base_uri": "https://localhost:8080/",
          "height": 265
        }
      },
      "source": [
        "import matplotlib.pyplot as plt\n",
        "import numpy as np\n",
        "\n",
        "a = np.random.random((10, 10))\n",
        "plt.imshow(a, cmap='hot', interpolation='nearest')\n",
        "plt.show()"
      ],
      "execution_count": 0,
      "outputs": [
        {
          "output_type": "display_data",
          "data": {
            "image/png": "[encoded data removed]",
            "text/plain": [
              "<Figure size 432x288 with 1 Axes>"
            ]
          },
          "metadata": {
            "tags": []
          }
        }
      ]
    },
    {
      "cell_type": "code",
      "metadata": {
        "id": "Gd-seI7SOkjK",
        "colab_type": "code",
        "outputId": "cd8ce585-33eb-4049-99be-52dce0a963e3",
        "colab": {
          "base_uri": "https://localhost:8080/",
          "height": 34
        }
      },
      "source": [
        "df.size"
      ],
      "execution_count": 0,
      "outputs": [
        {
          "output_type": "execute_result",
          "data": {
            "text/plain": [
              "29225"
            ]
          },
          "metadata": {
            "tags": []
          },
          "execution_count": 122
        }
      ]
    },
    {
      "cell_type": "code",
      "metadata": {
        "id": "d0wHUowTOumP",
        "colab_type": "code",
        "outputId": "b914d61b-c543-4f1f-a7ea-753b8b98ce3f",
        "colab": {
          "base_uri": "https://localhost:8080/",
          "height": 34
        }
      },
      "source": [
        "df[df[:,4]=='Maize'].size\n"
      ],
      "execution_count": 0,
      "outputs": [
        {
          "output_type": "execute_result",
          "data": {
            "text/plain": [
              "2280"
            ]
          },
          "metadata": {
            "tags": []
          },
          "execution_count": 124
        }
      ]
    },
    {
      "cell_type": "code",
      "metadata": {
        "id": "AZEkWwj4gu9D",
        "colab_type": "code",
        "outputId": "0011196f-f0fb-466d-c564-86248a31771a",
        "colab": {
          "base_uri": "https://localhost:8080/",
          "height": 34
        }
      },
      "source": [
        "df[df[:,4]=='Bajra'].size"
      ],
      "execution_count": 0,
      "outputs": [
        {
          "output_type": "execute_result",
          "data": {
            "text/plain": [
              "445"
            ]
          },
          "metadata": {
            "tags": []
          },
          "execution_count": 126
        }
      ]
    },
    {
      "cell_type": "code",
      "metadata": {
        "id": "mQLCNLW9g9J6",
        "colab_type": "code",
        "outputId": "0b12122c-8e41-474f-eac0-8e6f1880edd6",
        "colab": {
          "base_uri": "https://localhost:8080/",
          "height": 34
        }
      },
      "source": [
        "df[df[:,4]=='Urad'].size"
      ],
      "execution_count": 0,
      "outputs": [
        {
          "output_type": "execute_result",
          "data": {
            "text/plain": [
              "1220"
            ]
          },
          "metadata": {
            "tags": []
          },
          "execution_count": 127
        }
      ]
    },
    {
      "cell_type": "code",
      "metadata": {
        "id": "dyiL_vOqQWuU",
        "colab_type": "code",
        "outputId": "e85daf7a-761e-4eaa-ba2f-0fb83321ea27",
        "colab": {
          "base_uri": "https://localhost:8080/",
          "height": 34
        }
      },
      "source": [
        "df[df[:,4]=='Groundnut'].size"
      ],
      "execution_count": 0,
      "outputs": [
        {
          "output_type": "execute_result",
          "data": {
            "text/plain": [
              "620"
            ]
          },
          "metadata": {
            "tags": []
          },
          "execution_count": 131
        }
      ]
    },
    {
      "cell_type": "code",
      "metadata": {
        "id": "jqk7ijoStp3g",
        "colab_type": "code",
        "outputId": "eaf86867-a27f-4fcd-9a68-442641e3f4f9",
        "colab": {
          "base_uri": "https://localhost:8080/",
          "height": 34
        }
      },
      "source": [
        "df[df[:,4]=='Rice'].size"
      ],
      "execution_count": 0,
      "outputs": [
        {
          "output_type": "execute_result",
          "data": {
            "text/plain": [
              "2450"
            ]
          },
          "metadata": {
            "tags": []
          },
          "execution_count": 137
        }
      ]
    },
    {
      "cell_type": "code",
      "metadata": {
        "id": "GKhIDmzrtyvK",
        "colab_type": "code",
        "outputId": "9efdb26e-d63b-498a-abf8-5f4482064094",
        "colab": {
          "base_uri": "https://localhost:8080/",
          "height": 34
        }
      },
      "source": [
        "df[df[:,4]=='Arhar/Tur'].size"
      ],
      "execution_count": 0,
      "outputs": [
        {
          "output_type": "execute_result",
          "data": {
            "text/plain": [
              "1200"
            ]
          },
          "metadata": {
            "tags": []
          },
          "execution_count": 138
        }
      ]
    },
    {
      "cell_type": "code",
      "metadata": {
        "id": "vXTjD3qZt_o1",
        "colab_type": "code",
        "outputId": "d08088b2-0727-47a7-a316-b240fc8ec459",
        "colab": {
          "base_uri": "https://localhost:8080/",
          "height": 34
        }
      },
      "source": [
        "df[df[:,4]=='Moong(Green Gram)'].size"
      ],
      "execution_count": 0,
      "outputs": [
        {
          "output_type": "execute_result",
          "data": {
            "text/plain": [
              "1610"
            ]
          },
          "metadata": {
            "tags": []
          },
          "execution_count": 139
        }
      ]
    },
    {
      "cell_type": "code",
      "metadata": {
        "id": "et_oHA2KeGRe",
        "colab_type": "code",
        "outputId": "9d602eb4-82e8-4540-da9b-1be139000533",
        "colab": {
          "base_uri": "https://localhost:8080/",
          "height": 34
        }
      },
      "source": [
        "Maize=(2280-900)/2280\n",
        "print (Maize)"
      ],
      "execution_count": 0,
      "outputs": [
        {
          "output_type": "stream",
          "text": [
            "0.6052631578947368\n"
          ],
          "name": "stdout"
        }
      ]
    },
    {
      "cell_type": "code",
      "metadata": {
        "id": "EZLpPkRRpr7B",
        "colab_type": "code",
        "outputId": "aaaf41df-6d1e-4480-a31f-63cbea80bec4",
        "colab": {
          "base_uri": "https://localhost:8080/",
          "height": 34
        }
      },
      "source": [
        "Bazra=(445-189)/445\n",
        "print(Bazra)"
      ],
      "execution_count": 0,
      "outputs": [
        {
          "output_type": "stream",
          "text": [
            "0.5752808988764045\n"
          ],
          "name": "stdout"
        }
      ]
    },
    {
      "cell_type": "code",
      "metadata": {
        "id": "a372offyqMe0",
        "colab_type": "code",
        "outputId": "5f174bc8-31fe-4ee9-b907-798b28c1b403",
        "colab": {
          "base_uri": "https://localhost:8080/",
          "height": 34
        }
      },
      "source": [
        "Urad=(1220-472)/1220\n",
        "print(Urad)"
      ],
      "execution_count": 0,
      "outputs": [
        {
          "output_type": "stream",
          "text": [
            "0.6131147540983607\n"
          ],
          "name": "stdout"
        }
      ]
    },
    {
      "cell_type": "code",
      "metadata": {
        "id": "5PDKDbQ6qssA",
        "colab_type": "code",
        "outputId": "eb7bbe10-7457-402b-ffe2-24d1156f8818",
        "colab": {
          "base_uri": "https://localhost:8080/",
          "height": 34
        }
      },
      "source": [
        "Groundnut=(620-241)/620\n",
        "print(Groundnut)"
      ],
      "execution_count": 0,
      "outputs": [
        {
          "output_type": "stream",
          "text": [
            "0.6112903225806452\n"
          ],
          "name": "stdout"
        }
      ]
    },
    {
      "cell_type": "code",
      "metadata": {
        "id": "ySeOdXIEc_sX",
        "colab_type": "code",
        "outputId": "8e9f29e7-8a4c-4ab1-d900-aa2c772a438b",
        "colab": {
          "base_uri": "https://localhost:8080/",
          "height": 34
        }
      },
      "source": [
        "a=421/620\n",
        "print (a)"
      ],
      "execution_count": 0,
      "outputs": [
        {
          "output_type": "stream",
          "text": [
            "0.6790322580645162\n"
          ],
          "name": "stdout"
        }
      ]
    },
    {
      "cell_type": "code",
      "metadata": {
        "id": "2CpJHFADePBy",
        "colab_type": "code",
        "outputId": "45e5b8c4-d82f-4b82-e7b4-8dce0bb6e9d2",
        "colab": {
          "base_uri": "https://localhost:8080/",
          "height": 34
        }
      },
      "source": [
        "df[df[:,4]=='Arhar/Tur'].size\n"
      ],
      "execution_count": 0,
      "outputs": [
        {
          "output_type": "execute_result",
          "data": {
            "text/plain": [
              "1200"
            ]
          },
          "metadata": {
            "tags": []
          },
          "execution_count": 140
        }
      ]
    },
    {
      "cell_type": "code",
      "metadata": {
        "id": "M-QksEUpuqGJ",
        "colab_type": "code",
        "outputId": "8d3171c2-f4ec-4bce-95a0-5781815463b6",
        "colab": {
          "base_uri": "https://localhost:8080/",
          "height": 34
        }
      },
      "source": [
        "Rice=(2450-956)/2450\n",
        "print(Rice)"
      ],
      "execution_count": 0,
      "outputs": [
        {
          "output_type": "stream",
          "text": [
            "0.6097959183673469\n"
          ],
          "name": "stdout"
        }
      ]
    },
    {
      "cell_type": "code",
      "metadata": {
        "id": "muDLtU92u2-Q",
        "colab_type": "code",
        "outputId": "b5fe49d7-7d50-435d-f436-6bd02e944d9c",
        "colab": {
          "base_uri": "https://localhost:8080/",
          "height": 34
        }
      },
      "source": [
        "Arhar=(1200-478)/1200\n",
        "print(Arhar)"
      ],
      "execution_count": 0,
      "outputs": [
        {
          "output_type": "stream",
          "text": [
            "0.6016666666666667\n"
          ],
          "name": "stdout"
        }
      ]
    },
    {
      "cell_type": "code",
      "metadata": {
        "id": "X9W7Hwx7vM11",
        "colab_type": "code",
        "outputId": "400e6c7b-ca9d-4c50-af3b-46a3b96d3fca",
        "colab": {
          "base_uri": "https://localhost:8080/",
          "height": 34
        }
      },
      "source": [
        "Moong=(1610-666)/1610\n",
        "print(Moong)"
      ],
      "execution_count": 0,
      "outputs": [
        {
          "output_type": "stream",
          "text": [
            "0.5863354037267081\n"
          ],
          "name": "stdout"
        }
      ]
    },
    {
      "cell_type": "code",
      "metadata": {
        "id": "rmQL4JclP5jL",
        "colab_type": "code",
        "outputId": "c098845d-b698-4c12-8ae7-7377332314a9",
        "colab": {
          "base_uri": "https://localhost:8080/",
          "height": 34
        }
      },
      "source": [
        ""
      ],
      "execution_count": 0,
      "outputs": [
        {
          "output_type": "execute_result",
          "data": {
            "text/plain": [
              "<function numpy.size>"
            ]
          },
          "metadata": {
            "tags": []
          },
          "execution_count": 47
        }
      ]
    }
  ]
}