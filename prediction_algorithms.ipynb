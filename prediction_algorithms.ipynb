{
  "nbformat": 4,
  "nbformat_minor": 0,
  "metadata": {
    "colab": {
      "name": "prediction_algorithms.ipynb",
      "provenance": [],
      "collapsed_sections": [],
      "include_colab_link": true
    },
    "kernelspec": {
      "name": "python3",
      "display_name": "Python 3"
    }
  },
  "cells": [
    {
      "cell_type": "markdown",
      "metadata": {
        "id": "view-in-github",
        "colab_type": "text"
      },
      "source": [
        "<a href=\"https://colab.research.google.com/github/katha08/Bsc-Thesis-paper/blob/master/prediction_algorithms.ipynb\" target=\"_parent\"><img src=\"https://colab.research.google.com/assets/colab-badge.svg\" alt=\"Open In Colab\"/></a>"
      ]
    },
    {
      "cell_type": "code",
      "metadata": {
        "id": "V9sA2SPHlk97",
        "colab_type": "code",
        "outputId": "66819b65-844f-440b-fd8c-b820db5f93ae",
        "colab": {
          "base_uri": "https://localhost:8080/",
          "height": 204
        }
      },
      "source": [
        "import scipy\n",
        "import pandas as pd\n",
        "df=pd.read_csv('Crops02v2.csv')\n",
        "df.head()"
      ],
      "execution_count": 0,
      "outputs": [
        {
          "output_type": "execute_result",
          "data": {
            "text/html": [
              "<div>\n",
              "<style scoped>\n",
              "    .dataframe tbody tr th:only-of-type {\n",
              "        vertical-align: middle;\n",
              "    }\n",
              "\n",
              "    .dataframe tbody tr th {\n",
              "        vertical-align: top;\n",
              "    }\n",
              "\n",
              "    .dataframe thead th {\n",
              "        text-align: right;\n",
              "    }\n",
              "</style>\n",
              "<table border=\"1\" class=\"dataframe\">\n",
              "  <thead>\n",
              "    <tr style=\"text-align: right;\">\n",
              "      <th></th>\n",
              "      <th>State_Name</th>\n",
              "      <th>District_Name</th>\n",
              "      <th>Crop_Year</th>\n",
              "      <th>Season</th>\n",
              "      <th>Area</th>\n",
              "      <th>Rainfall</th>\n",
              "      <th>Humidity</th>\n",
              "      <th>Temperature</th>\n",
              "      <th>prevYearsRainfall</th>\n",
              "      <th>prevYearsTemperature</th>\n",
              "      <th>prevYearsHumidity</th>\n",
              "      <th>Crop</th>\n",
              "    </tr>\n",
              "  </thead>\n",
              "  <tbody>\n",
              "    <tr>\n",
              "      <th>0</th>\n",
              "      <td>Andhra Pradesh</td>\n",
              "      <td>ANANTAPUR</td>\n",
              "      <td>2008</td>\n",
              "      <td>Autum</td>\n",
              "      <td>6041</td>\n",
              "      <td>0.0</td>\n",
              "      <td>0.41</td>\n",
              "      <td>33</td>\n",
              "      <td>NaN</td>\n",
              "      <td>NaN</td>\n",
              "      <td>NaN</td>\n",
              "      <td>Maize</td>\n",
              "    </tr>\n",
              "    <tr>\n",
              "      <th>1</th>\n",
              "      <td>Andhra Pradesh</td>\n",
              "      <td>ANANTAPUR</td>\n",
              "      <td>2008</td>\n",
              "      <td>Winter</td>\n",
              "      <td>3658</td>\n",
              "      <td>0.2</td>\n",
              "      <td>0.94</td>\n",
              "      <td>24</td>\n",
              "      <td>NaN</td>\n",
              "      <td>NaN</td>\n",
              "      <td>NaN</td>\n",
              "      <td>Maize</td>\n",
              "    </tr>\n",
              "    <tr>\n",
              "      <th>2</th>\n",
              "      <td>Andhra Pradesh</td>\n",
              "      <td>ANANTAPUR</td>\n",
              "      <td>2009</td>\n",
              "      <td>Autum</td>\n",
              "      <td>8852</td>\n",
              "      <td>1.1</td>\n",
              "      <td>0.60</td>\n",
              "      <td>30</td>\n",
              "      <td>0.0</td>\n",
              "      <td>33.0</td>\n",
              "      <td>0.41</td>\n",
              "      <td>Maize</td>\n",
              "    </tr>\n",
              "    <tr>\n",
              "      <th>3</th>\n",
              "      <td>Andhra Pradesh</td>\n",
              "      <td>ANANTAPUR</td>\n",
              "      <td>2009</td>\n",
              "      <td>Winter</td>\n",
              "      <td>4615</td>\n",
              "      <td>18.0</td>\n",
              "      <td>0.72</td>\n",
              "      <td>27</td>\n",
              "      <td>0.2</td>\n",
              "      <td>24.0</td>\n",
              "      <td>0.94</td>\n",
              "      <td>Maize</td>\n",
              "    </tr>\n",
              "    <tr>\n",
              "      <th>4</th>\n",
              "      <td>Andhra Pradesh</td>\n",
              "      <td>ANANTAPUR</td>\n",
              "      <td>2010</td>\n",
              "      <td>Autum</td>\n",
              "      <td>10726</td>\n",
              "      <td>22.0</td>\n",
              "      <td>0.51</td>\n",
              "      <td>32</td>\n",
              "      <td>1.1</td>\n",
              "      <td>30.0</td>\n",
              "      <td>0.60</td>\n",
              "      <td>Maize</td>\n",
              "    </tr>\n",
              "  </tbody>\n",
              "</table>\n",
              "</div>"
            ],
            "text/plain": [
              "       State_Name District_Name  ...  prevYearsHumidity   Crop\n",
              "0  Andhra Pradesh     ANANTAPUR  ...                NaN  Maize\n",
              "1  Andhra Pradesh     ANANTAPUR  ...                NaN  Maize\n",
              "2  Andhra Pradesh     ANANTAPUR  ...               0.41  Maize\n",
              "3  Andhra Pradesh     ANANTAPUR  ...               0.94  Maize\n",
              "4  Andhra Pradesh     ANANTAPUR  ...               0.60  Maize\n",
              "\n",
              "[5 rows x 12 columns]"
            ]
          },
          "metadata": {
            "tags": []
          },
          "execution_count": 42
        }
      ]
    },
    {
      "cell_type": "markdown",
      "metadata": {
        "id": "Oj1jaIYQl3P1",
        "colab_type": "text"
      },
      "source": [
        "**data preprocessing** (removing noisy data)"
      ]
    },
    {
      "cell_type": "code",
      "metadata": {
        "id": "TpwwLv2il1Ae",
        "colab_type": "code",
        "outputId": "2a251de1-f1e0-4730-afba-86dbd6e49ac1",
        "colab": {
          "base_uri": "https://localhost:8080/",
          "height": 204
        }
      },
      "source": [
        "df.drop(['State_Name','District_Name','Crop_Year','Season','prevYearsRainfall','prevYearsTemperature','prevYearsHumidity'],axis='columns',inplace=True)\n",
        "df.head()"
      ],
      "execution_count": 0,
      "outputs": [
        {
          "output_type": "execute_result",
          "data": {
            "text/html": [
              "<div>\n",
              "<style scoped>\n",
              "    .dataframe tbody tr th:only-of-type {\n",
              "        vertical-align: middle;\n",
              "    }\n",
              "\n",
              "    .dataframe tbody tr th {\n",
              "        vertical-align: top;\n",
              "    }\n",
              "\n",
              "    .dataframe thead th {\n",
              "        text-align: right;\n",
              "    }\n",
              "</style>\n",
              "<table border=\"1\" class=\"dataframe\">\n",
              "  <thead>\n",
              "    <tr style=\"text-align: right;\">\n",
              "      <th></th>\n",
              "      <th>Area</th>\n",
              "      <th>Rainfall</th>\n",
              "      <th>Humidity</th>\n",
              "      <th>Temperature</th>\n",
              "      <th>Crop</th>\n",
              "    </tr>\n",
              "  </thead>\n",
              "  <tbody>\n",
              "    <tr>\n",
              "      <th>0</th>\n",
              "      <td>6041</td>\n",
              "      <td>0.0</td>\n",
              "      <td>0.41</td>\n",
              "      <td>33</td>\n",
              "      <td>Maize</td>\n",
              "    </tr>\n",
              "    <tr>\n",
              "      <th>1</th>\n",
              "      <td>3658</td>\n",
              "      <td>0.2</td>\n",
              "      <td>0.94</td>\n",
              "      <td>24</td>\n",
              "      <td>Maize</td>\n",
              "    </tr>\n",
              "    <tr>\n",
              "      <th>2</th>\n",
              "      <td>8852</td>\n",
              "      <td>1.1</td>\n",
              "      <td>0.60</td>\n",
              "      <td>30</td>\n",
              "      <td>Maize</td>\n",
              "    </tr>\n",
              "    <tr>\n",
              "      <th>3</th>\n",
              "      <td>4615</td>\n",
              "      <td>18.0</td>\n",
              "      <td>0.72</td>\n",
              "      <td>27</td>\n",
              "      <td>Maize</td>\n",
              "    </tr>\n",
              "    <tr>\n",
              "      <th>4</th>\n",
              "      <td>10726</td>\n",
              "      <td>22.0</td>\n",
              "      <td>0.51</td>\n",
              "      <td>32</td>\n",
              "      <td>Maize</td>\n",
              "    </tr>\n",
              "  </tbody>\n",
              "</table>\n",
              "</div>"
            ],
            "text/plain": [
              "    Area  Rainfall  Humidity  Temperature   Crop\n",
              "0   6041       0.0      0.41           33  Maize\n",
              "1   3658       0.2      0.94           24  Maize\n",
              "2   8852       1.1      0.60           30  Maize\n",
              "3   4615      18.0      0.72           27  Maize\n",
              "4  10726      22.0      0.51           32  Maize"
            ]
          },
          "metadata": {
            "tags": []
          },
          "execution_count": 43
        }
      ]
    },
    {
      "cell_type": "code",
      "metadata": {
        "id": "N0V45yGSA_Th",
        "colab_type": "code",
        "outputId": "58d91b7a-e4f1-46aa-aebf-d1f30a030fdf",
        "colab": {
          "base_uri": "https://localhost:8080/",
          "height": 452
        }
      },
      "source": [
        "import matplotlib.pyplot as plt\n",
        "import seaborn as sns;\n",
        "plt.figure(figsize=(12,7))\n",
        "sns.heatmap(df.corr(),annot=True,cmap='Reds')"
      ],
      "execution_count": 0,
      "outputs": [
        {
          "output_type": "execute_result",
          "data": {
            "text/plain": [
              "<matplotlib.axes._subplots.AxesSubplot at 0x7f3829b15438>"
            ]
          },
          "metadata": {
            "tags": []
          },
          "execution_count": 44
        },
        {
          "output_type": "display_data",
          "data": {
            "image/png": "[encoded data removed]",
            "text/plain": [
              "<Figure size 864x504 with 2 Axes>"
            ]
          },
          "metadata": {
            "tags": []
          }
        }
      ]
    },
    {
      "cell_type": "markdown",
      "metadata": {
        "id": "-TKdR0Dtmks6",
        "colab_type": "text"
      },
      "source": [
        "finding nan value"
      ]
    },
    {
      "cell_type": "code",
      "metadata": {
        "id": "YxvsbxG7mtDc",
        "colab_type": "code",
        "outputId": "7d36addb-2371-4e2d-dd50-92728be250d2",
        "colab": {
          "base_uri": "https://localhost:8080/",
          "height": 34
        }
      },
      "source": [
        "df.columns[df.isna().any()]"
      ],
      "execution_count": 0,
      "outputs": [
        {
          "output_type": "execute_result",
          "data": {
            "text/plain": [
              "Index([], dtype='object')"
            ]
          },
          "metadata": {
            "tags": []
          },
          "execution_count": 36
        }
      ]
    },
    {
      "cell_type": "markdown",
      "metadata": {
        "id": "E_VL9Z5unUBM",
        "colab_type": "text"
      },
      "source": [
        "Spliting Target and Input variables "
      ]
    },
    {
      "cell_type": "code",
      "metadata": {
        "id": "X_W7Thoqng5d",
        "colab_type": "code",
        "colab": {}
      },
      "source": [
        "target=df.Crop\n",
        "inputs=df.drop('Crop',axis='columns')"
      ],
      "execution_count": 0,
      "outputs": []
    },
    {
      "cell_type": "code",
      "metadata": {
        "id": "3uDP9IsUnvXF",
        "colab_type": "code",
        "outputId": "0c1bb509-d2b6-4803-c38c-119b4c8e73d9",
        "colab": {
          "base_uri": "https://localhost:8080/",
          "height": 119
        }
      },
      "source": [
        "target.head()"
      ],
      "execution_count": 0,
      "outputs": [
        {
          "output_type": "execute_result",
          "data": {
            "text/plain": [
              "0    Maize\n",
              "1    Maize\n",
              "2    Maize\n",
              "3    Maize\n",
              "4    Maize\n",
              "Name: Crop, dtype: object"
            ]
          },
          "metadata": {
            "tags": []
          },
          "execution_count": 38
        }
      ]
    },
    {
      "cell_type": "code",
      "metadata": {
        "id": "2lIQHlCOnz0t",
        "colab_type": "code",
        "outputId": "2da1c269-3109-49e6-f470-7ffac4f5883d",
        "colab": {
          "base_uri": "https://localhost:8080/",
          "height": 204
        }
      },
      "source": [
        "inputs.head()"
      ],
      "execution_count": 0,
      "outputs": [
        {
          "output_type": "execute_result",
          "data": {
            "text/html": [
              "<div>\n",
              "<style scoped>\n",
              "    .dataframe tbody tr th:only-of-type {\n",
              "        vertical-align: middle;\n",
              "    }\n",
              "\n",
              "    .dataframe tbody tr th {\n",
              "        vertical-align: top;\n",
              "    }\n",
              "\n",
              "    .dataframe thead th {\n",
              "        text-align: right;\n",
              "    }\n",
              "</style>\n",
              "<table border=\"1\" class=\"dataframe\">\n",
              "  <thead>\n",
              "    <tr style=\"text-align: right;\">\n",
              "      <th></th>\n",
              "      <th>Area</th>\n",
              "      <th>Rainfall</th>\n",
              "      <th>Humidity</th>\n",
              "      <th>Temperature</th>\n",
              "    </tr>\n",
              "  </thead>\n",
              "  <tbody>\n",
              "    <tr>\n",
              "      <th>0</th>\n",
              "      <td>6041</td>\n",
              "      <td>0.0</td>\n",
              "      <td>0.41</td>\n",
              "      <td>33</td>\n",
              "    </tr>\n",
              "    <tr>\n",
              "      <th>1</th>\n",
              "      <td>3658</td>\n",
              "      <td>0.2</td>\n",
              "      <td>0.94</td>\n",
              "      <td>24</td>\n",
              "    </tr>\n",
              "    <tr>\n",
              "      <th>2</th>\n",
              "      <td>8852</td>\n",
              "      <td>1.1</td>\n",
              "      <td>0.60</td>\n",
              "      <td>30</td>\n",
              "    </tr>\n",
              "    <tr>\n",
              "      <th>3</th>\n",
              "      <td>4615</td>\n",
              "      <td>18.0</td>\n",
              "      <td>0.72</td>\n",
              "      <td>27</td>\n",
              "    </tr>\n",
              "    <tr>\n",
              "      <th>4</th>\n",
              "      <td>10726</td>\n",
              "      <td>22.0</td>\n",
              "      <td>0.51</td>\n",
              "      <td>32</td>\n",
              "    </tr>\n",
              "  </tbody>\n",
              "</table>\n",
              "</div>"
            ],
            "text/plain": [
              "    Area  Rainfall  Humidity  Temperature\n",
              "0   6041       0.0      0.41           33\n",
              "1   3658       0.2      0.94           24\n",
              "2   8852       1.1      0.60           30\n",
              "3   4615      18.0      0.72           27\n",
              "4  10726      22.0      0.51           32"
            ]
          },
          "metadata": {
            "tags": []
          },
          "execution_count": 39
        }
      ]
    },
    {
      "cell_type": "code",
      "metadata": {
        "id": "Dvsm_eWzBJhY",
        "colab_type": "code",
        "colab": {}
      },
      "source": [
        "import matplotlib.pyplot as plt\n",
        "import seaborn as sns;\n",
        "plt.figure(figsize=(12,7))\n",
        "sns.heatmap(inputs.corr(),annot=True,cmap='Reds')"
      ],
      "execution_count": 0,
      "outputs": []
    },
    {
      "cell_type": "markdown",
      "metadata": {
        "id": "zRF40uQzm_5F",
        "colab_type": "text"
      },
      "source": [
        "**prediction algorithm**(naive baise)"
      ]
    },
    {
      "cell_type": "code",
      "metadata": {
        "id": "sX1MLQIzmyMl",
        "colab_type": "code",
        "outputId": "d34f212d-6e8f-49b7-8917-e2220feb2414",
        "colab": {
          "base_uri": "https://localhost:8080/",
          "height": 85
        }
      },
      "source": [
        "from sklearn.model_selection import train_test_split\n",
        "X_train, X_test, y_train, y_test = train_test_split(inputs,target,test_size=0.2,random_state=1)\n",
        "print(len(X_train))\n",
        "print(len(X_test))\n",
        "print(len(y_train))\n",
        "print(len(y_test))"
      ],
      "execution_count": 0,
      "outputs": [
        {
          "output_type": "stream",
          "text": [
            "2397\n",
            "600\n",
            "2397\n",
            "600\n"
          ],
          "name": "stdout"
        }
      ]
    },
    {
      "cell_type": "code",
      "metadata": {
        "id": "i7KDwsmpoWSe",
        "colab_type": "code",
        "colab": {}
      },
      "source": [
        "from sklearn.naive_bayes import GaussianNB\n",
        "model=GaussianNB()"
      ],
      "execution_count": 0,
      "outputs": []
    },
    {
      "cell_type": "code",
      "metadata": {
        "id": "UDTunMhSown0",
        "colab_type": "code",
        "outputId": "5e016858-396a-4759-d7ca-c27bcf7ad460",
        "colab": {
          "base_uri": "https://localhost:8080/",
          "height": 34
        }
      },
      "source": [
        "model.fit(X_train, y_train)"
      ],
      "execution_count": 0,
      "outputs": [
        {
          "output_type": "execute_result",
          "data": {
            "text/plain": [
              "GaussianNB(priors=None, var_smoothing=1e-09)"
            ]
          },
          "metadata": {
            "tags": []
          },
          "execution_count": 9
        }
      ]
    },
    {
      "cell_type": "code",
      "metadata": {
        "id": "ERGNLKI1o1v8",
        "colab_type": "code",
        "outputId": "6a26a305-abe4-4cd3-e261-b02bf6dd8dd3",
        "colab": {
          "base_uri": "https://localhost:8080/",
          "height": 1000
        }
      },
      "source": [
        "pred=model.predict(X_test)\n",
        "pred"
      ],
      "execution_count": 0,
      "outputs": [
        {
          "output_type": "execute_result",
          "data": {
            "text/plain": [
              "array(['Moong(Green Gram)', 'Moong(Green Gram)', 'Moong(Green Gram)',\n",
              "       'Moong(Green Gram)', 'Moong(Green Gram)', 'Arhar/Tur',\n",
              "       'Moong(Green Gram)', 'Moong(Green Gram)', 'Arhar/Tur',\n",
              "       'Moong(Green Gram)', 'Maize', 'Moong(Green Gram)',\n",
              "       'Moong(Green Gram)', 'Moong(Green Gram)', 'Moong(Green Gram)',\n",
              "       'Rice', 'Maize', 'Arhar/Tur', 'Moong(Green Gram)', 'Maize',\n",
              "       'Moong(Green Gram)', 'Maize', 'Moong(Green Gram)', 'Maize',\n",
              "       'Moong(Green Gram)', 'Moong(Green Gram)', 'Moong(Green Gram)',\n",
              "       'Maize', 'Rice', 'Maize', 'Moong(Green Gram)', 'Maize',\n",
              "       'Moong(Green Gram)', 'Rice', 'Moong(Green Gram)',\n",
              "       'Moong(Green Gram)', 'Moong(Green Gram)', 'Maize', 'Maize', 'Rice',\n",
              "       'Moong(Green Gram)', 'Moong(Green Gram)', 'Arhar/Tur',\n",
              "       'Moong(Green Gram)', 'Moong(Green Gram)', 'Moong(Green Gram)',\n",
              "       'Moong(Green Gram)', 'Moong(Green Gram)', 'Moong(Green Gram)',\n",
              "       'Moong(Green Gram)', 'Maize', 'Moong(Green Gram)', 'Rice', 'Maize',\n",
              "       'Rice', 'Moong(Green Gram)', 'Moong(Green Gram)', 'Maize',\n",
              "       'Moong(Green Gram)', 'Moong(Green Gram)', 'Moong(Green Gram)',\n",
              "       'Rice', 'Moong(Green Gram)', 'Rice', 'Moong(Green Gram)', 'Maize',\n",
              "       'Moong(Green Gram)', 'Rice', 'Moong(Green Gram)',\n",
              "       'Moong(Green Gram)', 'Moong(Green Gram)', 'Arhar/Tur', 'Arhar/Tur',\n",
              "       'Arhar/Tur', 'Moong(Green Gram)', 'Moong(Green Gram)', 'Maize',\n",
              "       'Maize', 'Moong(Green Gram)', 'Moong(Green Gram)',\n",
              "       'Moong(Green Gram)', 'Moong(Green Gram)', 'Rice',\n",
              "       'Moong(Green Gram)', 'Maize', 'Moong(Green Gram)', 'Arhar/Tur',\n",
              "       'Moong(Green Gram)', 'Moong(Green Gram)', 'Moong(Green Gram)',\n",
              "       'Rice', 'Moong(Green Gram)', 'Moong(Green Gram)', 'Arhar/Tur',\n",
              "       'Maize', 'Maize', 'Moong(Green Gram)', 'Moong(Green Gram)',\n",
              "       'Arhar/Tur', 'Moong(Green Gram)', 'Maize', 'Moong(Green Gram)',\n",
              "       'Moong(Green Gram)', 'Rice', 'Moong(Green Gram)', 'Arhar/Tur',\n",
              "       'Arhar/Tur', 'Maize', 'Moong(Green Gram)', 'Moong(Green Gram)',\n",
              "       'Moong(Green Gram)', 'Rice', 'Moong(Green Gram)', 'Rice',\n",
              "       'Arhar/Tur', 'Maize', 'Rice', 'Moong(Green Gram)',\n",
              "       'Moong(Green Gram)', 'Moong(Green Gram)', 'Moong(Green Gram)',\n",
              "       'Arhar/Tur', 'Arhar/Tur', 'Rice', 'Moong(Green Gram)',\n",
              "       'Moong(Green Gram)', 'Maize', 'Maize', 'Moong(Green Gram)',\n",
              "       'Moong(Green Gram)', 'Moong(Green Gram)', 'Moong(Green Gram)',\n",
              "       'Maize', 'Moong(Green Gram)', 'Maize', 'Rice', 'Moong(Green Gram)',\n",
              "       'Arhar/Tur', 'Moong(Green Gram)', 'Moong(Green Gram)', 'Rice',\n",
              "       'Moong(Green Gram)', 'Arhar/Tur', 'Moong(Green Gram)', 'Arhar/Tur',\n",
              "       'Moong(Green Gram)', 'Moong(Green Gram)', 'Moong(Green Gram)',\n",
              "       'Moong(Green Gram)', 'Moong(Green Gram)', 'Maize',\n",
              "       'Moong(Green Gram)', 'Moong(Green Gram)', 'Moong(Green Gram)',\n",
              "       'Moong(Green Gram)', 'Moong(Green Gram)', 'Moong(Green Gram)',\n",
              "       'Moong(Green Gram)', 'Maize', 'Arhar/Tur', 'Moong(Green Gram)',\n",
              "       'Moong(Green Gram)', 'Maize', 'Maize', 'Rice', 'Moong(Green Gram)',\n",
              "       'Rice', 'Moong(Green Gram)', 'Arhar/Tur', 'Moong(Green Gram)',\n",
              "       'Moong(Green Gram)', 'Moong(Green Gram)', 'Maize',\n",
              "       'Moong(Green Gram)', 'Moong(Green Gram)', 'Moong(Green Gram)',\n",
              "       'Moong(Green Gram)', 'Moong(Green Gram)', 'Moong(Green Gram)',\n",
              "       'Moong(Green Gram)', 'Moong(Green Gram)', 'Moong(Green Gram)',\n",
              "       'Moong(Green Gram)', 'Maize', 'Maize', 'Maize',\n",
              "       'Moong(Green Gram)', 'Arhar/Tur', 'Maize', 'Moong(Green Gram)',\n",
              "       'Maize', 'Moong(Green Gram)', 'Arhar/Tur', 'Maize',\n",
              "       'Moong(Green Gram)', 'Moong(Green Gram)', 'Moong(Green Gram)',\n",
              "       'Moong(Green Gram)', 'Moong(Green Gram)', 'Maize',\n",
              "       'Moong(Green Gram)', 'Moong(Green Gram)', 'Moong(Green Gram)',\n",
              "       'Moong(Green Gram)', 'Arhar/Tur', 'Moong(Green Gram)', 'Maize',\n",
              "       'Moong(Green Gram)', 'Maize', 'Moong(Green Gram)',\n",
              "       'Moong(Green Gram)', 'Moong(Green Gram)', 'Maize',\n",
              "       'Moong(Green Gram)', 'Moong(Green Gram)', 'Rice',\n",
              "       'Moong(Green Gram)', 'Rice', 'Moong(Green Gram)',\n",
              "       'Moong(Green Gram)', 'Maize', 'Moong(Green Gram)', 'Arhar/Tur',\n",
              "       'Moong(Green Gram)', 'Moong(Green Gram)', 'Rice', 'Arhar/Tur',\n",
              "       'Moong(Green Gram)', 'Moong(Green Gram)', 'Moong(Green Gram)',\n",
              "       'Arhar/Tur', 'Arhar/Tur', 'Rice', 'Rice', 'Moong(Green Gram)',\n",
              "       'Moong(Green Gram)', 'Moong(Green Gram)', 'Maize',\n",
              "       'Moong(Green Gram)', 'Arhar/Tur', 'Moong(Green Gram)', 'Maize',\n",
              "       'Moong(Green Gram)', 'Maize', 'Moong(Green Gram)', 'Arhar/Tur',\n",
              "       'Rice', 'Moong(Green Gram)', 'Maize', 'Rice', 'Moong(Green Gram)',\n",
              "       'Moong(Green Gram)', 'Arhar/Tur', 'Moong(Green Gram)', 'Rice',\n",
              "       'Arhar/Tur', 'Moong(Green Gram)', 'Maize', 'Arhar/Tur', 'Maize',\n",
              "       'Rice', 'Moong(Green Gram)', 'Moong(Green Gram)', 'Arhar/Tur',\n",
              "       'Moong(Green Gram)', 'Arhar/Tur', 'Rice', 'Rice',\n",
              "       'Moong(Green Gram)', 'Moong(Green Gram)', 'Arhar/Tur', 'Rice',\n",
              "       'Rice', 'Moong(Green Gram)', 'Moong(Green Gram)',\n",
              "       'Moong(Green Gram)', 'Moong(Green Gram)', 'Rice', 'Rice', 'Maize',\n",
              "       'Moong(Green Gram)', 'Moong(Green Gram)', 'Moong(Green Gram)',\n",
              "       'Maize', 'Moong(Green Gram)', 'Rice', 'Moong(Green Gram)', 'Rice',\n",
              "       'Rice', 'Maize', 'Moong(Green Gram)', 'Rice', 'Moong(Green Gram)',\n",
              "       'Moong(Green Gram)', 'Arhar/Tur', 'Moong(Green Gram)',\n",
              "       'Moong(Green Gram)', 'Moong(Green Gram)', 'Moong(Green Gram)',\n",
              "       'Moong(Green Gram)', 'Moong(Green Gram)', 'Moong(Green Gram)',\n",
              "       'Moong(Green Gram)', 'Arhar/Tur', 'Arhar/Tur', 'Maize',\n",
              "       'Moong(Green Gram)', 'Maize', 'Rice', 'Maize', 'Rice',\n",
              "       'Moong(Green Gram)', 'Moong(Green Gram)', 'Moong(Green Gram)',\n",
              "       'Moong(Green Gram)', 'Moong(Green Gram)', 'Arhar/Tur', 'Maize',\n",
              "       'Rice', 'Moong(Green Gram)', 'Moong(Green Gram)', 'Arhar/Tur',\n",
              "       'Arhar/Tur', 'Moong(Green Gram)', 'Arhar/Tur', 'Moong(Green Gram)',\n",
              "       'Maize', 'Moong(Green Gram)', 'Moong(Green Gram)',\n",
              "       'Moong(Green Gram)', 'Rice', 'Moong(Green Gram)', 'Rice',\n",
              "       'Moong(Green Gram)', 'Rice', 'Maize', 'Moong(Green Gram)',\n",
              "       'Moong(Green Gram)', 'Rice', 'Maize', 'Rice', 'Moong(Green Gram)',\n",
              "       'Rice', 'Moong(Green Gram)', 'Rice', 'Moong(Green Gram)',\n",
              "       'Moong(Green Gram)', 'Moong(Green Gram)', 'Moong(Green Gram)',\n",
              "       'Moong(Green Gram)', 'Moong(Green Gram)', 'Arhar/Tur',\n",
              "       'Moong(Green Gram)', 'Moong(Green Gram)', 'Moong(Green Gram)',\n",
              "       'Moong(Green Gram)', 'Moong(Green Gram)', 'Maize',\n",
              "       'Moong(Green Gram)', 'Maize', 'Arhar/Tur', 'Moong(Green Gram)',\n",
              "       'Rice', 'Moong(Green Gram)', 'Moong(Green Gram)', 'Maize', 'Rice',\n",
              "       'Moong(Green Gram)', 'Maize', 'Maize', 'Moong(Green Gram)',\n",
              "       'Moong(Green Gram)', 'Rice', 'Arhar/Tur', 'Moong(Green Gram)',\n",
              "       'Moong(Green Gram)', 'Moong(Green Gram)', 'Moong(Green Gram)',\n",
              "       'Moong(Green Gram)', 'Moong(Green Gram)', 'Maize', 'Rice',\n",
              "       'Moong(Green Gram)', 'Moong(Green Gram)', 'Moong(Green Gram)',\n",
              "       'Moong(Green Gram)', 'Arhar/Tur', 'Maize', 'Moong(Green Gram)',\n",
              "       'Arhar/Tur', 'Maize', 'Moong(Green Gram)', 'Moong(Green Gram)',\n",
              "       'Moong(Green Gram)', 'Maize', 'Moong(Green Gram)',\n",
              "       'Moong(Green Gram)', 'Moong(Green Gram)', 'Moong(Green Gram)',\n",
              "       'Maize', 'Moong(Green Gram)', 'Arhar/Tur', 'Moong(Green Gram)',\n",
              "       'Moong(Green Gram)', 'Arhar/Tur', 'Moong(Green Gram)', 'Arhar/Tur',\n",
              "       'Arhar/Tur', 'Moong(Green Gram)', 'Moong(Green Gram)', 'Rice',\n",
              "       'Moong(Green Gram)', 'Maize', 'Maize', 'Moong(Green Gram)',\n",
              "       'Moong(Green Gram)', 'Moong(Green Gram)', 'Rice',\n",
              "       'Moong(Green Gram)', 'Arhar/Tur', 'Maize', 'Moong(Green Gram)',\n",
              "       'Moong(Green Gram)', 'Rice', 'Moong(Green Gram)',\n",
              "       'Moong(Green Gram)', 'Moong(Green Gram)', 'Maize', 'Maize',\n",
              "       'Moong(Green Gram)', 'Moong(Green Gram)', 'Maize', 'Rice',\n",
              "       'Moong(Green Gram)', 'Moong(Green Gram)', 'Moong(Green Gram)',\n",
              "       'Maize', 'Rice', 'Moong(Green Gram)', 'Moong(Green Gram)',\n",
              "       'Moong(Green Gram)', 'Moong(Green Gram)', 'Maize',\n",
              "       'Moong(Green Gram)', 'Maize', 'Moong(Green Gram)', 'Arhar/Tur',\n",
              "       'Rice', 'Moong(Green Gram)', 'Rice', 'Rice', 'Moong(Green Gram)',\n",
              "       'Moong(Green Gram)', 'Moong(Green Gram)', 'Moong(Green Gram)',\n",
              "       'Arhar/Tur', 'Rice', 'Moong(Green Gram)', 'Moong(Green Gram)',\n",
              "       'Moong(Green Gram)', 'Moong(Green Gram)', 'Moong(Green Gram)',\n",
              "       'Moong(Green Gram)', 'Arhar/Tur', 'Arhar/Tur', 'Moong(Green Gram)',\n",
              "       'Rice', 'Moong(Green Gram)', 'Maize', 'Moong(Green Gram)', 'Maize',\n",
              "       'Moong(Green Gram)', 'Maize', 'Moong(Green Gram)',\n",
              "       'Moong(Green Gram)', 'Moong(Green Gram)', 'Rice', 'Maize', 'Rice',\n",
              "       'Maize', 'Moong(Green Gram)', 'Moong(Green Gram)',\n",
              "       'Moong(Green Gram)', 'Moong(Green Gram)', 'Maize',\n",
              "       'Moong(Green Gram)', 'Moong(Green Gram)', 'Rice',\n",
              "       'Moong(Green Gram)', 'Moong(Green Gram)', 'Moong(Green Gram)',\n",
              "       'Moong(Green Gram)', 'Moong(Green Gram)', 'Moong(Green Gram)',\n",
              "       'Moong(Green Gram)', 'Maize', 'Moong(Green Gram)', 'Maize',\n",
              "       'Moong(Green Gram)', 'Moong(Green Gram)', 'Moong(Green Gram)',\n",
              "       'Maize', 'Maize', 'Moong(Green Gram)', 'Arhar/Tur', 'Maize',\n",
              "       'Moong(Green Gram)', 'Maize', 'Arhar/Tur', 'Arhar/Tur',\n",
              "       'Moong(Green Gram)', 'Arhar/Tur', 'Moong(Green Gram)',\n",
              "       'Moong(Green Gram)', 'Moong(Green Gram)', 'Maize', 'Arhar/Tur',\n",
              "       'Moong(Green Gram)', 'Maize', 'Maize', 'Arhar/Tur',\n",
              "       'Moong(Green Gram)', 'Moong(Green Gram)', 'Moong(Green Gram)',\n",
              "       'Arhar/Tur', 'Rice', 'Maize', 'Arhar/Tur', 'Rice',\n",
              "       'Moong(Green Gram)', 'Moong(Green Gram)', 'Arhar/Tur',\n",
              "       'Moong(Green Gram)', 'Moong(Green Gram)', 'Moong(Green Gram)',\n",
              "       'Moong(Green Gram)', 'Rice', 'Maize', 'Maize', 'Arhar/Tur',\n",
              "       'Arhar/Tur', 'Rice', 'Moong(Green Gram)', 'Moong(Green Gram)',\n",
              "       'Moong(Green Gram)', 'Moong(Green Gram)', 'Maize', 'Arhar/Tur',\n",
              "       'Moong(Green Gram)', 'Maize', 'Moong(Green Gram)',\n",
              "       'Moong(Green Gram)', 'Moong(Green Gram)', 'Moong(Green Gram)',\n",
              "       'Rice', 'Moong(Green Gram)', 'Maize', 'Moong(Green Gram)', 'Rice',\n",
              "       'Arhar/Tur', 'Rice', 'Moong(Green Gram)', 'Arhar/Tur', 'Arhar/Tur',\n",
              "       'Moong(Green Gram)', 'Rice', 'Moong(Green Gram)', 'Rice',\n",
              "       'Arhar/Tur', 'Moong(Green Gram)', 'Moong(Green Gram)', 'Rice',\n",
              "       'Moong(Green Gram)', 'Rice', 'Moong(Green Gram)', 'Arhar/Tur',\n",
              "       'Moong(Green Gram)', 'Arhar/Tur', 'Arhar/Tur', 'Moong(Green Gram)',\n",
              "       'Arhar/Tur', 'Arhar/Tur', 'Moong(Green Gram)', 'Maize',\n",
              "       'Moong(Green Gram)', 'Moong(Green Gram)', 'Moong(Green Gram)',\n",
              "       'Maize', 'Moong(Green Gram)', 'Moong(Green Gram)',\n",
              "       'Moong(Green Gram)', 'Moong(Green Gram)', 'Rice',\n",
              "       'Moong(Green Gram)', 'Moong(Green Gram)', 'Rice',\n",
              "       'Moong(Green Gram)', 'Moong(Green Gram)', 'Moong(Green Gram)',\n",
              "       'Moong(Green Gram)'], dtype='<U17')"
            ]
          },
          "metadata": {
            "tags": []
          },
          "execution_count": 11
        }
      ]
    },
    {
      "cell_type": "code",
      "metadata": {
        "id": "TQKdpuv_o7_d",
        "colab_type": "code",
        "outputId": "ffbf5e44-48a5-4f87-c572-28f783adc2cc",
        "colab": {
          "base_uri": "https://localhost:8080/",
          "height": 34
        }
      },
      "source": [
        "model.score(X_test,y_test)"
      ],
      "execution_count": 0,
      "outputs": [
        {
          "output_type": "execute_result",
          "data": {
            "text/plain": [
              "0.39666666666666667"
            ]
          },
          "metadata": {
            "tags": []
          },
          "execution_count": 12
        }
      ]
    },
    {
      "cell_type": "code",
      "metadata": {
        "id": "ydds7MQEvj5q",
        "colab_type": "code",
        "outputId": "64447753-433e-4d36-df61-bcf48de75920",
        "colab": {
          "base_uri": "https://localhost:8080/",
          "height": 204
        }
      },
      "source": [
        "from sklearn.metrics import classification_report\n",
        "print(classification_report(y_test,pred))"
      ],
      "execution_count": 0,
      "outputs": [
        {
          "output_type": "stream",
          "text": [
            "                   precision    recall  f1-score   support\n",
            "\n",
            "        Arhar/Tur       0.25      0.20      0.22        93\n",
            "            Maize       0.35      0.21      0.26       169\n",
            "Moong(Green Gram)       0.33      0.82      0.47       141\n",
            "             Rice       0.87      0.35      0.50       197\n",
            "\n",
            "         accuracy                           0.40       600\n",
            "        macro avg       0.45      0.39      0.36       600\n",
            "     weighted avg       0.50      0.40      0.38       600\n",
            "\n"
          ],
          "name": "stdout"
        }
      ]
    },
    {
      "cell_type": "code",
      "metadata": {
        "id": "yiTGnY7MvxwC",
        "colab_type": "code",
        "outputId": "bb7fd417-f68c-41b8-bb31-ac7c83e1d685",
        "colab": {
          "base_uri": "https://localhost:8080/",
          "height": 34
        }
      },
      "source": [
        "from sklearn.metrics import accuracy_score\n",
        "print('accuracy score is:', accuracy_score(y_test,pred))"
      ],
      "execution_count": 0,
      "outputs": [
        {
          "output_type": "stream",
          "text": [
            "accuracy score is: 0.39666666666666667\n"
          ],
          "name": "stdout"
        }
      ]
    },
    {
      "cell_type": "markdown",
      "metadata": {
        "id": "z-YnKTQ31nTB",
        "colab_type": "text"
      },
      "source": [
        "confussion matrix and heatmap"
      ]
    },
    {
      "cell_type": "code",
      "metadata": {
        "id": "1Ys82sFxOSC6",
        "colab_type": "code",
        "outputId": "6a47207f-4062-48a7-8266-73ea10fda2f0",
        "colab": {
          "base_uri": "https://localhost:8080/",
          "height": 285
        }
      },
      "source": [
        "from sklearn.metrics import confusion_matrix\n",
        "import seaborn as sns; sns.set()\n",
        "import matplotlib.pyplot as plt\n",
        "mat = confusion_matrix(y_test,pred)\n",
        "sns.heatmap(mat,square=True,annot=True,fmt='d',cbar=True,cmap=plt.cm.GnBu)\n",
        "plt.xlabel('true label')\n",
        "plt.ylabel('prediction label');"
      ],
      "execution_count": 0,
      "outputs": [
        {
          "output_type": "display_data",
          "data": {
            "image/png": "[encoded data removed]",
            "text/plain": [
              "<Figure size 432x288 with 2 Axes>"
            ]
          },
          "metadata": {
            "tags": []
          }
        }
      ]
    },
    {
      "cell_type": "code",
      "metadata": {
        "id": "Joke6P6mUgP7",
        "colab_type": "code",
        "colab": {}
      },
      "source": [
        "from sklearn.metrics import roc_curve\n",
        "from sklearn.metrics import roc_auc_score\n",
        "probs=model.predict_proba(X_test)\n",
        "probs=probs[:,0]\n",
        "#print (probs)\n",
        "#auc=roc_auc_score(y_test,pred)\n",
        "#print(auc)\n",
        "fpr,tpr,thresh=roc_curve(y_test,pred)\n",
        "plt.plot([0,1],[0,1],linestyle='--')\n",
        "plt.plot(fpr,tpr,marker=\".\",color=\"red\")\n"
      ],
      "execution_count": 0,
      "outputs": []
    },
    {
      "cell_type": "markdown",
      "metadata": {
        "id": "r6oUtT5GWHyX",
        "colab_type": "text"
      },
      "source": [
        "**Random Forest**"
      ]
    },
    {
      "cell_type": "code",
      "metadata": {
        "id": "_JkA5pH_YUsT",
        "colab_type": "code",
        "outputId": "706ac90c-c7e9-4594-970e-f1394d03c488",
        "colab": {
          "base_uri": "https://localhost:8080/",
          "height": 34
        }
      },
      "source": [
        "from sklearn.ensemble import RandomForestClassifier\n",
        "model=RandomForestClassifier(n_estimators=60)\n",
        "model.fit(X_train,y_train)\n",
        "model.score(X_test,y_test)"
      ],
      "execution_count": 0,
      "outputs": [
        {
          "output_type": "execute_result",
          "data": {
            "text/plain": [
              "0.495"
            ]
          },
          "metadata": {
            "tags": []
          },
          "execution_count": 16
        }
      ]
    },
    {
      "cell_type": "code",
      "metadata": {
        "id": "lixe8t1_cceD",
        "colab_type": "code",
        "outputId": "55f48d55-8cea-4638-fa02-bf365af892ad",
        "colab": {
          "base_uri": "https://localhost:8080/",
          "height": 204
        }
      },
      "source": [
        "y_predict=model.predict(X_test)\n",
        "from sklearn.metrics import classification_report\n",
        "print(classification_report(y_test,y_predict))"
      ],
      "execution_count": 0,
      "outputs": [
        {
          "output_type": "stream",
          "text": [
            "                   precision    recall  f1-score   support\n",
            "\n",
            "        Arhar/Tur       0.34      0.31      0.32        93\n",
            "            Maize       0.41      0.47      0.44       169\n",
            "Moong(Green Gram)       0.46      0.45      0.45       141\n",
            "             Rice       0.68      0.63      0.66       197\n",
            "\n",
            "         accuracy                           0.49       600\n",
            "        macro avg       0.47      0.47      0.47       600\n",
            "     weighted avg       0.50      0.49      0.50       600\n",
            "\n"
          ],
          "name": "stdout"
        }
      ]
    },
    {
      "cell_type": "code",
      "metadata": {
        "id": "6RHYuP70cgMJ",
        "colab_type": "code",
        "outputId": "e8894048-e1bf-4d1e-dfc5-787baf9ad395",
        "colab": {
          "base_uri": "https://localhost:8080/",
          "height": 285
        }
      },
      "source": [
        "from sklearn.metrics import confusion_matrix\n",
        "import seaborn as sns; sns.set()\n",
        "import matplotlib.pyplot as plt\n",
        "mat = confusion_matrix(y_test,y_predict)\n",
        "sns.heatmap(mat,square=True,annot=True,fmt='d',cbar=True,cmap=plt.cm.GnBu)\n",
        "plt.xlabel('true label')\n",
        "plt.ylabel('prediction label');"
      ],
      "execution_count": 0,
      "outputs": [
        {
          "output_type": "display_data",
          "data": {
            "image/png": "[encoded data removed]",
            "text/plain": [
              "<Figure size 432x288 with 2 Axes>"
            ]
          },
          "metadata": {
            "tags": []
          }
        }
      ]
    },
    {
      "cell_type": "code",
      "metadata": {
        "id": "krkTkVMFcx7U",
        "colab_type": "code",
        "colab": {}
      },
      "source": [
        "from sklearn.metrics import roc_curve\n",
        "from sklearn.metrics import roc_auc_score\n",
        "probs=model.predict_proba(X_test)\n",
        "probs=probs[:,0]\n",
        "#print (probs)\n",
        "#auc=roc_auc_score(y_test,pred)\n",
        "#print(auc)\n",
        "fpr,tpr,thresh=roc_curve(y_test,y_predict)\n",
        "plt.plot([0,1],[0,1],linestyle='--')\n",
        "plt.plot(fpr,tpr,marker=\".\",color=\"red\")"
      ],
      "execution_count": 0,
      "outputs": []
    },
    {
      "cell_type": "markdown",
      "metadata": {
        "id": "qUJQUgmxdJhB",
        "colab_type": "text"
      },
      "source": [
        "**KNN**"
      ]
    },
    {
      "cell_type": "code",
      "metadata": {
        "id": "vIxOl5VXc_dl",
        "colab_type": "code",
        "colab": {}
      },
      "source": [
        "from sklearn.preprocessing import StandardScaler\n",
        "from sklearn.neighbors import KNeighborsClassifier\n",
        "from sklearn.metrics import confusion_matrix\n",
        "from sklearn.metrics import f1_score\n",
        "from sklearn.metrics import accuracy_score"
      ],
      "execution_count": 0,
      "outputs": []
    },
    {
      "cell_type": "code",
      "metadata": {
        "id": "9e-ABvH1dROk",
        "colab_type": "code",
        "outputId": "0009e587-52a1-4460-fb96-891f67436b27",
        "colab": {
          "base_uri": "https://localhost:8080/",
          "height": 68
        }
      },
      "source": [
        "X_train, X_test, y_train, y_test = train_test_split(inputs,target,test_size=0.2,random_state=1)\n",
        "scaler = StandardScaler()\n",
        "scaler.fit(X_train)\n",
        "X_train = scaler.transform(X_train)\n",
        "X_test = scaler.transform(X_test)\n",
        "classifier = KNeighborsClassifier(n_neighbors=18)\n",
        "classifier.fit(X_train, y_train)"
      ],
      "execution_count": 0,
      "outputs": [
        {
          "output_type": "execute_result",
          "data": {
            "text/plain": [
              "KNeighborsClassifier(algorithm='auto', leaf_size=30, metric='minkowski',\n",
              "                     metric_params=None, n_jobs=None, n_neighbors=18, p=2,\n",
              "                     weights='uniform')"
            ]
          },
          "metadata": {
            "tags": []
          },
          "execution_count": 20
        }
      ]
    },
    {
      "cell_type": "code",
      "metadata": {
        "id": "sPncAE5Jdala",
        "colab_type": "code",
        "outputId": "d9323883-103e-4a80-942b-e2dc07ee7dde",
        "colab": {
          "base_uri": "https://localhost:8080/",
          "height": 272
        }
      },
      "source": [
        "y_pred = classifier.predict(X_test)\n",
        "from sklearn.metrics import confusion_matrix\n",
        "print(confusion_matrix(y_test, y_pred))\n",
        "print(classification_report(y_test, y_pred))"
      ],
      "execution_count": 0,
      "outputs": [
        {
          "output_type": "stream",
          "text": [
            "[[ 32  31  27   3]\n",
            " [ 45  67  27  30]\n",
            " [ 31  62  39   9]\n",
            " [ 19  51  23 104]]\n",
            "                   precision    recall  f1-score   support\n",
            "\n",
            "        Arhar/Tur       0.25      0.34      0.29        93\n",
            "            Maize       0.32      0.40      0.35       169\n",
            "Moong(Green Gram)       0.34      0.28      0.30       141\n",
            "             Rice       0.71      0.53      0.61       197\n",
            "\n",
            "         accuracy                           0.40       600\n",
            "        macro avg       0.40      0.39      0.39       600\n",
            "     weighted avg       0.44      0.40      0.41       600\n",
            "\n"
          ],
          "name": "stdout"
        }
      ]
    },
    {
      "cell_type": "code",
      "metadata": {
        "id": "eJGe2a_cdnp5",
        "colab_type": "code",
        "outputId": "3b4092b0-e232-4115-d445-ade4d0aaddab",
        "colab": {
          "base_uri": "https://localhost:8080/",
          "height": 285
        }
      },
      "source": [
        "from sklearn.metrics import confusion_matrix\n",
        "import seaborn as sns; sns.set()\n",
        "import matplotlib.pyplot as plt\n",
        "mat = confusion_matrix(y_test,y_pred)\n",
        "sns.heatmap(mat,square=True,annot=True,fmt='d',cbar=True,cmap=plt.cm.GnBu)\n",
        "plt.xlabel('true label')\n",
        "plt.ylabel('prediction label');"
      ],
      "execution_count": 0,
      "outputs": [
        {
          "output_type": "display_data",
          "data": {
            "image/png": "[encoded data removed]",
            "text/plain": [
              "<Figure size 432x288 with 2 Axes>"
            ]
          },
          "metadata": {
            "tags": []
          }
        }
      ]
    },
    {
      "cell_type": "markdown",
      "metadata": {
        "id": "ohcQa8Lc8U3G",
        "colab_type": "text"
      },
      "source": [
        "**SVM**"
      ]
    },
    {
      "cell_type": "code",
      "metadata": {
        "id": "1PYR6Tpo7qtW",
        "colab_type": "code",
        "colab": {}
      },
      "source": [
        "from sklearn import svm\n",
        "classifier = svm.SVC(kernel='linear',gamma='auto',C=2)\n",
        "classifier.fit(X_train,y_train)\n",
        "\n",
        "y_predict=classifier.predict(X_test)\n"
      ],
      "execution_count": 0,
      "outputs": []
    },
    {
      "cell_type": "code",
      "metadata": {
        "id": "e9uO2caV9fjN",
        "colab_type": "code",
        "outputId": "6726cbdd-5e76-46f7-8b55-13df2a09bb07",
        "colab": {
          "base_uri": "https://localhost:8080/",
          "height": 258
        }
      },
      "source": [
        "from sklearn.metrics import classification_report\n",
        "print(classification_report(y_test,y_predict))"
      ],
      "execution_count": 0,
      "outputs": [
        {
          "output_type": "stream",
          "text": [
            "                   precision    recall  f1-score   support\n",
            "\n",
            "        Arhar/Tur       0.00      0.00      0.00        93\n",
            "            Maize       0.32      0.92      0.47       169\n",
            "Moong(Green Gram)       0.00      0.00      0.00       141\n",
            "             Rice       0.82      0.47      0.60       197\n",
            "\n",
            "         accuracy                           0.41       600\n",
            "        macro avg       0.29      0.35      0.27       600\n",
            "     weighted avg       0.36      0.41      0.33       600\n",
            "\n"
          ],
          "name": "stdout"
        },
        {
          "output_type": "stream",
          "text": [
            "/usr/local/lib/python3.6/dist-packages/sklearn/metrics/_classification.py:1272: UndefinedMetricWarning: Precision and F-score are ill-defined and being set to 0.0 in labels with no predicted samples. Use `zero_division` parameter to control this behavior.\n",
            "  _warn_prf(average, modifier, msg_start, len(result))\n"
          ],
          "name": "stderr"
        }
      ]
    },
    {
      "cell_type": "code",
      "metadata": {
        "id": "gm8f_9s09qGp",
        "colab_type": "code",
        "outputId": "1937f055-26cc-474d-965d-e9b72f3dd9af",
        "colab": {
          "base_uri": "https://localhost:8080/",
          "height": 285
        }
      },
      "source": [
        "from sklearn.metrics import confusion_matrix\n",
        "import seaborn as sns; sns.set()\n",
        "import matplotlib.pyplot as plt\n",
        "mat = confusion_matrix(y_test,y_predict)\n",
        "sns.heatmap(mat,square=True,annot=True,fmt='d',cbar=True,cmap=plt.cm.GnBu)\n",
        "plt.xlabel('true label')\n",
        "plt.ylabel('prediction label');"
      ],
      "execution_count": 0,
      "outputs": [
        {
          "output_type": "display_data",
          "data": {
            "image/png": "[encoded data removed]",
            "text/plain": [
              "<Figure size 432x288 with 2 Axes>"
            ]
          },
          "metadata": {
            "tags": []
          }
        }
      ]
    },
    {
      "cell_type": "markdown",
      "metadata": {
        "id": "6YGke89kd1zB",
        "colab_type": "text"
      },
      "source": [
        "**Logistic Regression**"
      ]
    },
    {
      "cell_type": "code",
      "metadata": {
        "id": "v7Cfm7jSd3Vy",
        "colab_type": "code",
        "outputId": "4f23922f-9a02-4c18-cd77-885b48488ced",
        "colab": {
          "base_uri": "https://localhost:8080/",
          "height": 34
        }
      },
      "source": [
        "import sklearn.linear_model as sk\n",
        "lr=sk.LogisticRegressionCV()\n",
        "#from sklearn.linear_model import LogisticRegression\n",
        "#lr=LogisticsRegression()\n",
        "lr.fit(X_train,y_train)\n",
        "\n",
        "y_predict=lr.predict(X_test)\n",
        "lr.score(X_test,y_test)"
      ],
      "execution_count": 0,
      "outputs": [
        {
          "output_type": "execute_result",
          "data": {
            "text/plain": [
              "0.475"
            ]
          },
          "metadata": {
            "tags": []
          },
          "execution_count": 30
        }
      ]
    },
    {
      "cell_type": "code",
      "metadata": {
        "id": "4CtkTnCk-c3s",
        "colab_type": "code",
        "outputId": "1f0a2cd5-3fae-4b81-9e07-60eeb2fe2f6f",
        "colab": {
          "base_uri": "https://localhost:8080/",
          "height": 204
        }
      },
      "source": [
        "from sklearn.metrics import classification_report\n",
        "print(classification_report(y_test,y_predict))"
      ],
      "execution_count": 0,
      "outputs": [
        {
          "output_type": "stream",
          "text": [
            "                   precision    recall  f1-score   support\n",
            "\n",
            "        Arhar/Tur       0.37      0.28      0.32        93\n",
            "            Maize       0.38      0.63      0.47       169\n",
            "Moong(Green Gram)       0.43      0.35      0.39       141\n",
            "             Rice       0.78      0.52      0.62       197\n",
            "\n",
            "         accuracy                           0.48       600\n",
            "        macro avg       0.49      0.45      0.45       600\n",
            "     weighted avg       0.52      0.47      0.48       600\n",
            "\n"
          ],
          "name": "stdout"
        }
      ]
    },
    {
      "cell_type": "code",
      "metadata": {
        "id": "pV3H07g_-lBf",
        "colab_type": "code",
        "outputId": "d6af6113-74e2-4fca-a529-518693cf9f50",
        "colab": {
          "base_uri": "https://localhost:8080/",
          "height": 285
        }
      },
      "source": [
        "from sklearn.metrics import confusion_matrix\n",
        "import seaborn as sns; sns.set()\n",
        "import matplotlib.pyplot as plt\n",
        "mat = confusion_matrix(y_test,y_predict)\n",
        "sns.heatmap(mat,square=True,annot=True,fmt='d',cbar=True,cmap=plt.cm.GnBu)\n",
        "plt.xlabel('true label')\n",
        "plt.ylabel('prediction label');"
      ],
      "execution_count": 0,
      "outputs": [
        {
          "output_type": "display_data",
          "data": {
            "image/png": "[encoded data removed]",
            "text/plain": [
              "<Figure size 432x288 with 2 Axes>"
            ]
          },
          "metadata": {
            "tags": []
          }
        }
      ]
    }
  ]
}