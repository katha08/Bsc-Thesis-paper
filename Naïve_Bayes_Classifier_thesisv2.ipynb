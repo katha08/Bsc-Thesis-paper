{
  "nbformat": 4,
  "nbformat_minor": 0,
  "metadata": {
    "colab": {
      "name": "Naïve_Bayes_Classifier_thesisv2.ipynb",
      "provenance": [],
      "toc_visible": true,
      "include_colab_link": true
    },
    "kernelspec": {
      "name": "python3",
      "display_name": "Python 3"
    }
  },
  "cells": [
    {
      "cell_type": "markdown",
      "metadata": {
        "id": "view-in-github",
        "colab_type": "text"
      },
      "source": [
        "<a href=\"https://colab.research.google.com/github/katha08/Bsc-Thesis-paper/blob/master/Na%C3%AFve_Bayes_Classifier_thesisv2.ipynb\" target=\"_parent\"><img src=\"https://colab.research.google.com/assets/colab-badge.svg\" alt=\"Open In Colab\"/></a>"
      ]
    },
    {
      "cell_type": "code",
      "metadata": {
        "id": "_p6l-37CIRtj",
        "colab_type": "code",
        "outputId": "ef43b1ec-4041-4a90-e80d-ab688d0a268d",
        "colab": {
          "base_uri": "https://localhost:8080/",
          "height": 309
        }
      },
      "source": [
        "import scipy\n",
        "import pandas as pd\n",
        "df=pd.read_csv('Crops02.csv')\n",
        "df.head()"
      ],
      "execution_count": 0,
      "outputs": [
        {
          "output_type": "execute_result",
          "data": {
            "text/html": [
              "<div>\n",
              "<style scoped>\n",
              "    .dataframe tbody tr th:only-of-type {\n",
              "        vertical-align: middle;\n",
              "    }\n",
              "\n",
              "    .dataframe tbody tr th {\n",
              "        vertical-align: top;\n",
              "    }\n",
              "\n",
              "    .dataframe thead th {\n",
              "        text-align: right;\n",
              "    }\n",
              "</style>\n",
              "<table border=\"1\" class=\"dataframe\">\n",
              "  <thead>\n",
              "    <tr style=\"text-align: right;\">\n",
              "      <th></th>\n",
              "      <th>State_Name</th>\n",
              "      <th>District_Name</th>\n",
              "      <th>Crop_Year</th>\n",
              "      <th>Season</th>\n",
              "      <th>Area</th>\n",
              "      <th>Rainfall</th>\n",
              "      <th>Humidity</th>\n",
              "      <th>Temperature</th>\n",
              "      <th>prevYearsRainfall</th>\n",
              "      <th>prevYearsTemperature</th>\n",
              "      <th>prevYearsHumidity</th>\n",
              "      <th>Crop</th>\n",
              "    </tr>\n",
              "  </thead>\n",
              "  <tbody>\n",
              "    <tr>\n",
              "      <th>0</th>\n",
              "      <td>Andhra Pradesh</td>\n",
              "      <td>ANANTAPUR</td>\n",
              "      <td>2008</td>\n",
              "      <td>Autum</td>\n",
              "      <td>6041</td>\n",
              "      <td>0.0</td>\n",
              "      <td>0.41</td>\n",
              "      <td>33</td>\n",
              "      <td>NaN</td>\n",
              "      <td>NaN</td>\n",
              "      <td>NaN</td>\n",
              "      <td>Maize</td>\n",
              "    </tr>\n",
              "    <tr>\n",
              "      <th>1</th>\n",
              "      <td>Andhra Pradesh</td>\n",
              "      <td>ANANTAPUR</td>\n",
              "      <td>2008</td>\n",
              "      <td>Winter</td>\n",
              "      <td>3658</td>\n",
              "      <td>0.2</td>\n",
              "      <td>0.94</td>\n",
              "      <td>24</td>\n",
              "      <td>NaN</td>\n",
              "      <td>NaN</td>\n",
              "      <td>NaN</td>\n",
              "      <td>Maize</td>\n",
              "    </tr>\n",
              "    <tr>\n",
              "      <th>2</th>\n",
              "      <td>Andhra Pradesh</td>\n",
              "      <td>ANANTAPUR</td>\n",
              "      <td>2009</td>\n",
              "      <td>Autum</td>\n",
              "      <td>8852</td>\n",
              "      <td>1.1</td>\n",
              "      <td>0.60</td>\n",
              "      <td>30</td>\n",
              "      <td>0.0</td>\n",
              "      <td>33.0</td>\n",
              "      <td>0.41</td>\n",
              "      <td>Maize</td>\n",
              "    </tr>\n",
              "    <tr>\n",
              "      <th>3</th>\n",
              "      <td>Andhra Pradesh</td>\n",
              "      <td>ANANTAPUR</td>\n",
              "      <td>2009</td>\n",
              "      <td>Winter</td>\n",
              "      <td>4615</td>\n",
              "      <td>18.0</td>\n",
              "      <td>0.72</td>\n",
              "      <td>27</td>\n",
              "      <td>0.2</td>\n",
              "      <td>24.0</td>\n",
              "      <td>0.94</td>\n",
              "      <td>Maize</td>\n",
              "    </tr>\n",
              "    <tr>\n",
              "      <th>4</th>\n",
              "      <td>Andhra Pradesh</td>\n",
              "      <td>ANANTAPUR</td>\n",
              "      <td>2010</td>\n",
              "      <td>Autum</td>\n",
              "      <td>10726</td>\n",
              "      <td>22.0</td>\n",
              "      <td>0.51</td>\n",
              "      <td>32</td>\n",
              "      <td>1.1</td>\n",
              "      <td>30.0</td>\n",
              "      <td>0.60</td>\n",
              "      <td>Maize</td>\n",
              "    </tr>\n",
              "  </tbody>\n",
              "</table>\n",
              "</div>"
            ],
            "text/plain": [
              "       State_Name District_Name  ...  prevYearsHumidity   Crop\n",
              "0  Andhra Pradesh     ANANTAPUR  ...                NaN  Maize\n",
              "1  Andhra Pradesh     ANANTAPUR  ...                NaN  Maize\n",
              "2  Andhra Pradesh     ANANTAPUR  ...               0.41  Maize\n",
              "3  Andhra Pradesh     ANANTAPUR  ...               0.94  Maize\n",
              "4  Andhra Pradesh     ANANTAPUR  ...               0.60  Maize\n",
              "\n",
              "[5 rows x 12 columns]"
            ]
          },
          "metadata": {
            "tags": []
          },
          "execution_count": 1
        }
      ]
    },
    {
      "cell_type": "code",
      "metadata": {
        "id": "xa4OEJwzIxxo",
        "colab_type": "code",
        "outputId": "80f5fe46-983c-4d4b-a9d9-bcb5f852438d",
        "colab": {
          "base_uri": "https://localhost:8080/",
          "height": 204
        }
      },
      "source": [
        "df.drop(['State_Name','District_Name','Crop_Year'],axis='columns',inplace=True)\n",
        "df.head()"
      ],
      "execution_count": 0,
      "outputs": [
        {
          "output_type": "execute_result",
          "data": {
            "text/html": [
              "<div>\n",
              "<style scoped>\n",
              "    .dataframe tbody tr th:only-of-type {\n",
              "        vertical-align: middle;\n",
              "    }\n",
              "\n",
              "    .dataframe tbody tr th {\n",
              "        vertical-align: top;\n",
              "    }\n",
              "\n",
              "    .dataframe thead th {\n",
              "        text-align: right;\n",
              "    }\n",
              "</style>\n",
              "<table border=\"1\" class=\"dataframe\">\n",
              "  <thead>\n",
              "    <tr style=\"text-align: right;\">\n",
              "      <th></th>\n",
              "      <th>Season</th>\n",
              "      <th>Area</th>\n",
              "      <th>Rainfall</th>\n",
              "      <th>Humidity</th>\n",
              "      <th>Temperature</th>\n",
              "      <th>prevYearsRainfall</th>\n",
              "      <th>prevYearsTemperature</th>\n",
              "      <th>prevYearsHumidity</th>\n",
              "      <th>Crop</th>\n",
              "    </tr>\n",
              "  </thead>\n",
              "  <tbody>\n",
              "    <tr>\n",
              "      <th>0</th>\n",
              "      <td>Autum</td>\n",
              "      <td>6041</td>\n",
              "      <td>0.0</td>\n",
              "      <td>0.41</td>\n",
              "      <td>33</td>\n",
              "      <td>NaN</td>\n",
              "      <td>NaN</td>\n",
              "      <td>NaN</td>\n",
              "      <td>Maize</td>\n",
              "    </tr>\n",
              "    <tr>\n",
              "      <th>1</th>\n",
              "      <td>Winter</td>\n",
              "      <td>3658</td>\n",
              "      <td>0.2</td>\n",
              "      <td>0.94</td>\n",
              "      <td>24</td>\n",
              "      <td>NaN</td>\n",
              "      <td>NaN</td>\n",
              "      <td>NaN</td>\n",
              "      <td>Maize</td>\n",
              "    </tr>\n",
              "    <tr>\n",
              "      <th>2</th>\n",
              "      <td>Autum</td>\n",
              "      <td>8852</td>\n",
              "      <td>1.1</td>\n",
              "      <td>0.60</td>\n",
              "      <td>30</td>\n",
              "      <td>0.0</td>\n",
              "      <td>33.0</td>\n",
              "      <td>0.41</td>\n",
              "      <td>Maize</td>\n",
              "    </tr>\n",
              "    <tr>\n",
              "      <th>3</th>\n",
              "      <td>Winter</td>\n",
              "      <td>4615</td>\n",
              "      <td>18.0</td>\n",
              "      <td>0.72</td>\n",
              "      <td>27</td>\n",
              "      <td>0.2</td>\n",
              "      <td>24.0</td>\n",
              "      <td>0.94</td>\n",
              "      <td>Maize</td>\n",
              "    </tr>\n",
              "    <tr>\n",
              "      <th>4</th>\n",
              "      <td>Autum</td>\n",
              "      <td>10726</td>\n",
              "      <td>22.0</td>\n",
              "      <td>0.51</td>\n",
              "      <td>32</td>\n",
              "      <td>1.1</td>\n",
              "      <td>30.0</td>\n",
              "      <td>0.60</td>\n",
              "      <td>Maize</td>\n",
              "    </tr>\n",
              "  </tbody>\n",
              "</table>\n",
              "</div>"
            ],
            "text/plain": [
              "   Season   Area  Rainfall  ...  prevYearsTemperature  prevYearsHumidity   Crop\n",
              "0   Autum   6041       0.0  ...                   NaN                NaN  Maize\n",
              "1  Winter   3658       0.2  ...                   NaN                NaN  Maize\n",
              "2   Autum   8852       1.1  ...                  33.0               0.41  Maize\n",
              "3  Winter   4615      18.0  ...                  24.0               0.94  Maize\n",
              "4   Autum  10726      22.0  ...                  30.0               0.60  Maize\n",
              "\n",
              "[5 rows x 9 columns]"
            ]
          },
          "metadata": {
            "tags": []
          },
          "execution_count": 4
        }
      ]
    },
    {
      "cell_type": "code",
      "metadata": {
        "id": "2HU_KQkOJYOf",
        "colab_type": "code",
        "colab": {}
      },
      "source": [
        "target=df.Crop\n",
        "inputs=df.drop('Crop',axis='columns')\n"
      ],
      "execution_count": 0,
      "outputs": []
    },
    {
      "cell_type": "code",
      "metadata": {
        "id": "adetV20XKL6K",
        "colab_type": "code",
        "outputId": "e5357600-d6f0-4b44-a500-eb05c77a855e",
        "colab": {
          "base_uri": "https://localhost:8080/",
          "height": 142
        }
      },
      "source": [
        "dummies=pd.get_dummies(inputs.Season)\n",
        "dummies.head(3)"
      ],
      "execution_count": 0,
      "outputs": [
        {
          "output_type": "execute_result",
          "data": {
            "text/html": [
              "<div>\n",
              "<style scoped>\n",
              "    .dataframe tbody tr th:only-of-type {\n",
              "        vertical-align: middle;\n",
              "    }\n",
              "\n",
              "    .dataframe tbody tr th {\n",
              "        vertical-align: top;\n",
              "    }\n",
              "\n",
              "    .dataframe thead th {\n",
              "        text-align: right;\n",
              "    }\n",
              "</style>\n",
              "<table border=\"1\" class=\"dataframe\">\n",
              "  <thead>\n",
              "    <tr style=\"text-align: right;\">\n",
              "      <th></th>\n",
              "      <th>Autum</th>\n",
              "      <th>Winter</th>\n",
              "    </tr>\n",
              "  </thead>\n",
              "  <tbody>\n",
              "    <tr>\n",
              "      <th>0</th>\n",
              "      <td>1</td>\n",
              "      <td>0</td>\n",
              "    </tr>\n",
              "    <tr>\n",
              "      <th>1</th>\n",
              "      <td>0</td>\n",
              "      <td>1</td>\n",
              "    </tr>\n",
              "    <tr>\n",
              "      <th>2</th>\n",
              "      <td>1</td>\n",
              "      <td>0</td>\n",
              "    </tr>\n",
              "  </tbody>\n",
              "</table>\n",
              "</div>"
            ],
            "text/plain": [
              "   Autum  Winter\n",
              "0      1       0\n",
              "1      0       1\n",
              "2      1       0"
            ]
          },
          "metadata": {
            "tags": []
          },
          "execution_count": 6
        }
      ]
    },
    {
      "cell_type": "code",
      "metadata": {
        "id": "HYXwnBiKKqgh",
        "colab_type": "code",
        "outputId": "6beeaf9e-aff7-4403-f9f9-77ef7cf0cc3c",
        "colab": {
          "base_uri": "https://localhost:8080/",
          "height": 142
        }
      },
      "source": [
        "inputs=pd.concat([inputs,dummies],axis='columns')\n",
        "inputs.head(3)"
      ],
      "execution_count": 0,
      "outputs": [
        {
          "output_type": "execute_result",
          "data": {
            "text/html": [
              "<div>\n",
              "<style scoped>\n",
              "    .dataframe tbody tr th:only-of-type {\n",
              "        vertical-align: middle;\n",
              "    }\n",
              "\n",
              "    .dataframe tbody tr th {\n",
              "        vertical-align: top;\n",
              "    }\n",
              "\n",
              "    .dataframe thead th {\n",
              "        text-align: right;\n",
              "    }\n",
              "</style>\n",
              "<table border=\"1\" class=\"dataframe\">\n",
              "  <thead>\n",
              "    <tr style=\"text-align: right;\">\n",
              "      <th></th>\n",
              "      <th>Season</th>\n",
              "      <th>Area</th>\n",
              "      <th>Rainfall</th>\n",
              "      <th>Humidity</th>\n",
              "      <th>Temperature</th>\n",
              "      <th>prevYearsRainfall</th>\n",
              "      <th>prevYearsTemperature</th>\n",
              "      <th>prevYearsHumidity</th>\n",
              "      <th>Autum</th>\n",
              "      <th>Winter</th>\n",
              "    </tr>\n",
              "  </thead>\n",
              "  <tbody>\n",
              "    <tr>\n",
              "      <th>0</th>\n",
              "      <td>Autum</td>\n",
              "      <td>6041</td>\n",
              "      <td>0.0</td>\n",
              "      <td>0.41</td>\n",
              "      <td>33</td>\n",
              "      <td>NaN</td>\n",
              "      <td>NaN</td>\n",
              "      <td>NaN</td>\n",
              "      <td>1</td>\n",
              "      <td>0</td>\n",
              "    </tr>\n",
              "    <tr>\n",
              "      <th>1</th>\n",
              "      <td>Winter</td>\n",
              "      <td>3658</td>\n",
              "      <td>0.2</td>\n",
              "      <td>0.94</td>\n",
              "      <td>24</td>\n",
              "      <td>NaN</td>\n",
              "      <td>NaN</td>\n",
              "      <td>NaN</td>\n",
              "      <td>0</td>\n",
              "      <td>1</td>\n",
              "    </tr>\n",
              "    <tr>\n",
              "      <th>2</th>\n",
              "      <td>Autum</td>\n",
              "      <td>8852</td>\n",
              "      <td>1.1</td>\n",
              "      <td>0.60</td>\n",
              "      <td>30</td>\n",
              "      <td>0.0</td>\n",
              "      <td>33.0</td>\n",
              "      <td>0.41</td>\n",
              "      <td>1</td>\n",
              "      <td>0</td>\n",
              "    </tr>\n",
              "  </tbody>\n",
              "</table>\n",
              "</div>"
            ],
            "text/plain": [
              "   Season  Area  Rainfall  ...  prevYearsHumidity  Autum  Winter\n",
              "0   Autum  6041       0.0  ...                NaN      1       0\n",
              "1  Winter  3658       0.2  ...                NaN      0       1\n",
              "2   Autum  8852       1.1  ...               0.41      1       0\n",
              "\n",
              "[3 rows x 10 columns]"
            ]
          },
          "metadata": {
            "tags": []
          },
          "execution_count": 7
        }
      ]
    },
    {
      "cell_type": "code",
      "metadata": {
        "id": "x9IFh6khLAI-",
        "colab_type": "code",
        "outputId": "da7784b7-1490-440e-914c-ec3b98b3b3d6",
        "colab": {
          "base_uri": "https://localhost:8080/",
          "height": 204
        }
      },
      "source": [
        "inputs.drop('Season',axis='columns',inplace=True)\n",
        "inputs.head()"
      ],
      "execution_count": 0,
      "outputs": [
        {
          "output_type": "execute_result",
          "data": {
            "text/html": [
              "<div>\n",
              "<style scoped>\n",
              "    .dataframe tbody tr th:only-of-type {\n",
              "        vertical-align: middle;\n",
              "    }\n",
              "\n",
              "    .dataframe tbody tr th {\n",
              "        vertical-align: top;\n",
              "    }\n",
              "\n",
              "    .dataframe thead th {\n",
              "        text-align: right;\n",
              "    }\n",
              "</style>\n",
              "<table border=\"1\" class=\"dataframe\">\n",
              "  <thead>\n",
              "    <tr style=\"text-align: right;\">\n",
              "      <th></th>\n",
              "      <th>Area</th>\n",
              "      <th>Rainfall</th>\n",
              "      <th>Humidity</th>\n",
              "      <th>Temperature</th>\n",
              "      <th>prevYearsRainfall</th>\n",
              "      <th>prevYearsTemperature</th>\n",
              "      <th>prevYearsHumidity</th>\n",
              "      <th>Autum</th>\n",
              "      <th>Winter</th>\n",
              "    </tr>\n",
              "  </thead>\n",
              "  <tbody>\n",
              "    <tr>\n",
              "      <th>0</th>\n",
              "      <td>6041</td>\n",
              "      <td>0.0</td>\n",
              "      <td>0.41</td>\n",
              "      <td>33</td>\n",
              "      <td>NaN</td>\n",
              "      <td>NaN</td>\n",
              "      <td>NaN</td>\n",
              "      <td>1</td>\n",
              "      <td>0</td>\n",
              "    </tr>\n",
              "    <tr>\n",
              "      <th>1</th>\n",
              "      <td>3658</td>\n",
              "      <td>0.2</td>\n",
              "      <td>0.94</td>\n",
              "      <td>24</td>\n",
              "      <td>NaN</td>\n",
              "      <td>NaN</td>\n",
              "      <td>NaN</td>\n",
              "      <td>0</td>\n",
              "      <td>1</td>\n",
              "    </tr>\n",
              "    <tr>\n",
              "      <th>2</th>\n",
              "      <td>8852</td>\n",
              "      <td>1.1</td>\n",
              "      <td>0.60</td>\n",
              "      <td>30</td>\n",
              "      <td>0.0</td>\n",
              "      <td>33.0</td>\n",
              "      <td>0.41</td>\n",
              "      <td>1</td>\n",
              "      <td>0</td>\n",
              "    </tr>\n",
              "    <tr>\n",
              "      <th>3</th>\n",
              "      <td>4615</td>\n",
              "      <td>18.0</td>\n",
              "      <td>0.72</td>\n",
              "      <td>27</td>\n",
              "      <td>0.2</td>\n",
              "      <td>24.0</td>\n",
              "      <td>0.94</td>\n",
              "      <td>0</td>\n",
              "      <td>1</td>\n",
              "    </tr>\n",
              "    <tr>\n",
              "      <th>4</th>\n",
              "      <td>10726</td>\n",
              "      <td>22.0</td>\n",
              "      <td>0.51</td>\n",
              "      <td>32</td>\n",
              "      <td>1.1</td>\n",
              "      <td>30.0</td>\n",
              "      <td>0.60</td>\n",
              "      <td>1</td>\n",
              "      <td>0</td>\n",
              "    </tr>\n",
              "  </tbody>\n",
              "</table>\n",
              "</div>"
            ],
            "text/plain": [
              "    Area  Rainfall  Humidity  ...  prevYearsHumidity  Autum  Winter\n",
              "0   6041       0.0      0.41  ...                NaN      1       0\n",
              "1   3658       0.2      0.94  ...                NaN      0       1\n",
              "2   8852       1.1      0.60  ...               0.41      1       0\n",
              "3   4615      18.0      0.72  ...               0.94      0       1\n",
              "4  10726      22.0      0.51  ...               0.60      1       0\n",
              "\n",
              "[5 rows x 9 columns]"
            ]
          },
          "metadata": {
            "tags": []
          },
          "execution_count": 8
        }
      ]
    },
    {
      "cell_type": "code",
      "metadata": {
        "id": "sOlxaj8-MW-2",
        "colab_type": "code",
        "outputId": "2a75ce78-0cce-496c-d4a1-e9f0bba76fe0",
        "colab": {
          "base_uri": "https://localhost:8080/",
          "height": 187
        }
      },
      "source": [
        "inputs.dtypes"
      ],
      "execution_count": 0,
      "outputs": [
        {
          "output_type": "execute_result",
          "data": {
            "text/plain": [
              "Area                      int64\n",
              "Rainfall                float64\n",
              "Humidity                float64\n",
              "Temperature               int64\n",
              "prevYearsRainfall       float64\n",
              "prevYearsTemperature    float64\n",
              "prevYearsHumidity       float64\n",
              "Autum                     uint8\n",
              "Winter                    uint8\n",
              "dtype: object"
            ]
          },
          "metadata": {
            "tags": []
          },
          "execution_count": 9
        }
      ]
    },
    {
      "cell_type": "code",
      "metadata": {
        "id": "spC58CRmMcyt",
        "colab_type": "code",
        "outputId": "4efe48e4-8df9-49a1-8658-5c1041e2b88b",
        "colab": {
          "base_uri": "https://localhost:8080/",
          "height": 34
        }
      },
      "source": [
        "inputs.columns[inputs.isna().any()]"
      ],
      "execution_count": 0,
      "outputs": [
        {
          "output_type": "execute_result",
          "data": {
            "text/plain": [
              "Index(['prevYearsRainfall', 'prevYearsTemperature', 'prevYearsHumidity'], dtype='object')"
            ]
          },
          "metadata": {
            "tags": []
          },
          "execution_count": 10
        }
      ]
    },
    {
      "cell_type": "markdown",
      "metadata": {
        "id": "p8DbZae1KYPi",
        "colab_type": "text"
      },
      "source": [
        "#     **elemination NaN value(replaced by mean value)**\n",
        "\n",
        "\n",
        "\n",
        "\n",
        "\n",
        "\n"
      ]
    },
    {
      "cell_type": "code",
      "metadata": {
        "id": "qTQ7J0hGM7e5",
        "colab_type": "code",
        "outputId": "2d4388ed-b630-4630-bba8-e20d1a9aa4c2",
        "colab": {
          "base_uri": "https://localhost:8080/",
          "height": 204
        }
      },
      "source": [
        "inputs.prevYearsRainfall=inputs.prevYearsRainfall.fillna(inputs.prevYearsRainfall.mean())\n",
        "inputs.prevYearsTemperature=inputs.prevYearsTemperature.fillna(inputs.prevYearsTemperature.mean())\n",
        "inputs.prevYearsHumidity=inputs.prevYearsHumidity.fillna(inputs.prevYearsHumidity.mean())\n",
        "inputs.head()"
      ],
      "execution_count": 0,
      "outputs": [
        {
          "output_type": "execute_result",
          "data": {
            "text/html": [
              "<div>\n",
              "<style scoped>\n",
              "    .dataframe tbody tr th:only-of-type {\n",
              "        vertical-align: middle;\n",
              "    }\n",
              "\n",
              "    .dataframe tbody tr th {\n",
              "        vertical-align: top;\n",
              "    }\n",
              "\n",
              "    .dataframe thead th {\n",
              "        text-align: right;\n",
              "    }\n",
              "</style>\n",
              "<table border=\"1\" class=\"dataframe\">\n",
              "  <thead>\n",
              "    <tr style=\"text-align: right;\">\n",
              "      <th></th>\n",
              "      <th>Area</th>\n",
              "      <th>Rainfall</th>\n",
              "      <th>Humidity</th>\n",
              "      <th>Temperature</th>\n",
              "      <th>prevYearsRainfall</th>\n",
              "      <th>prevYearsTemperature</th>\n",
              "      <th>prevYearsHumidity</th>\n",
              "      <th>Autum</th>\n",
              "      <th>Winter</th>\n",
              "    </tr>\n",
              "  </thead>\n",
              "  <tbody>\n",
              "    <tr>\n",
              "      <th>0</th>\n",
              "      <td>6041</td>\n",
              "      <td>0.0</td>\n",
              "      <td>0.41</td>\n",
              "      <td>33</td>\n",
              "      <td>6.204918</td>\n",
              "      <td>28.260583</td>\n",
              "      <td>0.763338</td>\n",
              "      <td>1</td>\n",
              "      <td>0</td>\n",
              "    </tr>\n",
              "    <tr>\n",
              "      <th>1</th>\n",
              "      <td>3658</td>\n",
              "      <td>0.2</td>\n",
              "      <td>0.94</td>\n",
              "      <td>24</td>\n",
              "      <td>6.204918</td>\n",
              "      <td>28.260583</td>\n",
              "      <td>0.763338</td>\n",
              "      <td>0</td>\n",
              "      <td>1</td>\n",
              "    </tr>\n",
              "    <tr>\n",
              "      <th>2</th>\n",
              "      <td>8852</td>\n",
              "      <td>1.1</td>\n",
              "      <td>0.60</td>\n",
              "      <td>30</td>\n",
              "      <td>0.000000</td>\n",
              "      <td>33.000000</td>\n",
              "      <td>0.410000</td>\n",
              "      <td>1</td>\n",
              "      <td>0</td>\n",
              "    </tr>\n",
              "    <tr>\n",
              "      <th>3</th>\n",
              "      <td>4615</td>\n",
              "      <td>18.0</td>\n",
              "      <td>0.72</td>\n",
              "      <td>27</td>\n",
              "      <td>0.200000</td>\n",
              "      <td>24.000000</td>\n",
              "      <td>0.940000</td>\n",
              "      <td>0</td>\n",
              "      <td>1</td>\n",
              "    </tr>\n",
              "    <tr>\n",
              "      <th>4</th>\n",
              "      <td>10726</td>\n",
              "      <td>22.0</td>\n",
              "      <td>0.51</td>\n",
              "      <td>32</td>\n",
              "      <td>1.100000</td>\n",
              "      <td>30.000000</td>\n",
              "      <td>0.600000</td>\n",
              "      <td>1</td>\n",
              "      <td>0</td>\n",
              "    </tr>\n",
              "  </tbody>\n",
              "</table>\n",
              "</div>"
            ],
            "text/plain": [
              "    Area  Rainfall  Humidity  ...  prevYearsHumidity  Autum  Winter\n",
              "0   6041       0.0      0.41  ...           0.763338      1       0\n",
              "1   3658       0.2      0.94  ...           0.763338      0       1\n",
              "2   8852       1.1      0.60  ...           0.410000      1       0\n",
              "3   4615      18.0      0.72  ...           0.940000      0       1\n",
              "4  10726      22.0      0.51  ...           0.600000      1       0\n",
              "\n",
              "[5 rows x 9 columns]"
            ]
          },
          "metadata": {
            "tags": []
          },
          "execution_count": 11
        }
      ]
    },
    {
      "cell_type": "code",
      "metadata": {
        "id": "XdHDsEjyOVao",
        "colab_type": "code",
        "colab": {}
      },
      "source": [
        "from sklearn.model_selection import train_test_split\n",
        "X_train, X_test, y_train, y_test = train_test_split(inputs,target,test_size=0.2,random_state=1)"
      ],
      "execution_count": 0,
      "outputs": []
    },
    {
      "cell_type": "code",
      "metadata": {
        "id": "TFxmEPdcPCSd",
        "colab_type": "code",
        "outputId": "9ac3df44-8e94-4903-a9b9-c56edc7fc70a",
        "colab": {
          "base_uri": "https://localhost:8080/",
          "height": 85
        }
      },
      "source": [
        "print(len(X_train))\n",
        "print(len(X_test))\n",
        "print(len(y_train))\n",
        "print(len(y_test))"
      ],
      "execution_count": 0,
      "outputs": [
        {
          "output_type": "stream",
          "text": [
            "2015\n",
            "504\n",
            "2015\n",
            "504\n"
          ],
          "name": "stdout"
        }
      ]
    },
    {
      "cell_type": "code",
      "metadata": {
        "id": "93qRGBT1PIBy",
        "colab_type": "code",
        "colab": {}
      },
      "source": [
        "from sklearn.naive_bayes import GaussianNB\n",
        "model=GaussianNB()"
      ],
      "execution_count": 0,
      "outputs": []
    },
    {
      "cell_type": "code",
      "metadata": {
        "id": "IwZWDLLOP87p",
        "colab_type": "code",
        "outputId": "02f89bb4-6336-4652-ec19-dc54b77dcd51",
        "colab": {
          "base_uri": "https://localhost:8080/",
          "height": 34
        }
      },
      "source": [
        "model.fit(X_train, y_train)"
      ],
      "execution_count": 0,
      "outputs": [
        {
          "output_type": "execute_result",
          "data": {
            "text/plain": [
              "GaussianNB(priors=None, var_smoothing=1e-09)"
            ]
          },
          "metadata": {
            "tags": []
          },
          "execution_count": 15
        }
      ]
    },
    {
      "cell_type": "code",
      "metadata": {
        "id": "r-y4XjjEmPZG",
        "colab_type": "code",
        "outputId": "4ac3edbd-3f9f-436a-deb9-3242ff77bc24",
        "colab": {
          "base_uri": "https://localhost:8080/",
          "height": 1000
        }
      },
      "source": [
        "pred=model.predict(X_test)\n",
        "pred"
      ],
      "execution_count": 0,
      "outputs": [
        {
          "output_type": "execute_result",
          "data": {
            "text/plain": [
              "array(['Moong(Green Gram)', 'Moong(Green Gram)', 'Maize',\n",
              "       'Moong(Green Gram)', 'Maize', 'Moong(Green Gram)',\n",
              "       'Moong(Green Gram)', 'Moong(Green Gram)', 'Rice',\n",
              "       'Moong(Green Gram)', 'Maize', 'Moong(Green Gram)',\n",
              "       'Moong(Green Gram)', 'Moong(Green Gram)', 'Rice', 'Maize', 'Maize',\n",
              "       'Moong(Green Gram)', 'Moong(Green Gram)', 'Moong(Green Gram)',\n",
              "       'Moong(Green Gram)', 'Moong(Green Gram)', 'Maize',\n",
              "       'Moong(Green Gram)', 'Moong(Green Gram)', 'Moong(Green Gram)',\n",
              "       'Moong(Green Gram)', 'Moong(Green Gram)', 'Moong(Green Gram)',\n",
              "       'Rice', 'Moong(Green Gram)', 'Moong(Green Gram)',\n",
              "       'Moong(Green Gram)', 'Moong(Green Gram)', 'Maize',\n",
              "       'Moong(Green Gram)', 'Moong(Green Gram)', 'Moong(Green Gram)',\n",
              "       'Moong(Green Gram)', 'Rice', 'Moong(Green Gram)', 'Rice',\n",
              "       'Moong(Green Gram)', 'Moong(Green Gram)', 'Maize', 'Maize',\n",
              "       'Moong(Green Gram)', 'Moong(Green Gram)', 'Moong(Green Gram)',\n",
              "       'Moong(Green Gram)', 'Moong(Green Gram)', 'Moong(Green Gram)',\n",
              "       'Moong(Green Gram)', 'Maize', 'Rice', 'Moong(Green Gram)',\n",
              "       'Moong(Green Gram)', 'Rice', 'Moong(Green Gram)', 'Rice',\n",
              "       'Moong(Green Gram)', 'Moong(Green Gram)', 'Moong(Green Gram)',\n",
              "       'Maize', 'Maize', 'Maize', 'Maize', 'Maize', 'Moong(Green Gram)',\n",
              "       'Moong(Green Gram)', 'Rice', 'Rice', 'Maize', 'Rice',\n",
              "       'Moong(Green Gram)', 'Rice', 'Rice', 'Rice', 'Rice',\n",
              "       'Moong(Green Gram)', 'Moong(Green Gram)', 'Moong(Green Gram)',\n",
              "       'Moong(Green Gram)', 'Moong(Green Gram)', 'Moong(Green Gram)',\n",
              "       'Moong(Green Gram)', 'Rice', 'Maize', 'Moong(Green Gram)', 'Maize',\n",
              "       'Moong(Green Gram)', 'Moong(Green Gram)', 'Moong(Green Gram)',\n",
              "       'Rice', 'Moong(Green Gram)', 'Rice', 'Maize', 'Maize', 'Rice',\n",
              "       'Maize', 'Rice', 'Moong(Green Gram)', 'Maize', 'Moong(Green Gram)',\n",
              "       'Maize', 'Maize', 'Moong(Green Gram)', 'Moong(Green Gram)',\n",
              "       'Moong(Green Gram)', 'Maize', 'Moong(Green Gram)', 'Rice', 'Rice',\n",
              "       'Moong(Green Gram)', 'Moong(Green Gram)', 'Maize', 'Maize', 'Rice',\n",
              "       'Rice', 'Moong(Green Gram)', 'Moong(Green Gram)',\n",
              "       'Moong(Green Gram)', 'Moong(Green Gram)', 'Maize',\n",
              "       'Moong(Green Gram)', 'Rice', 'Moong(Green Gram)',\n",
              "       'Moong(Green Gram)', 'Maize', 'Moong(Green Gram)',\n",
              "       'Moong(Green Gram)', 'Rice', 'Moong(Green Gram)',\n",
              "       'Moong(Green Gram)', 'Maize', 'Moong(Green Gram)', 'Rice', 'Maize',\n",
              "       'Maize', 'Maize', 'Moong(Green Gram)', 'Moong(Green Gram)', 'Rice',\n",
              "       'Moong(Green Gram)', 'Maize', 'Moong(Green Gram)', 'Rice',\n",
              "       'Moong(Green Gram)', 'Moong(Green Gram)', 'Maize', 'Rice',\n",
              "       'Moong(Green Gram)', 'Maize', 'Moong(Green Gram)',\n",
              "       'Moong(Green Gram)', 'Moong(Green Gram)', 'Moong(Green Gram)',\n",
              "       'Moong(Green Gram)', 'Moong(Green Gram)', 'Moong(Green Gram)',\n",
              "       'Moong(Green Gram)', 'Moong(Green Gram)', 'Moong(Green Gram)',\n",
              "       'Rice', 'Moong(Green Gram)', 'Moong(Green Gram)',\n",
              "       'Moong(Green Gram)', 'Moong(Green Gram)', 'Rice',\n",
              "       'Moong(Green Gram)', 'Rice', 'Maize', 'Moong(Green Gram)',\n",
              "       'Moong(Green Gram)', 'Moong(Green Gram)', 'Moong(Green Gram)',\n",
              "       'Moong(Green Gram)', 'Moong(Green Gram)', 'Moong(Green Gram)',\n",
              "       'Moong(Green Gram)', 'Moong(Green Gram)', 'Rice', 'Rice', 'Rice',\n",
              "       'Maize', 'Rice', 'Moong(Green Gram)', 'Rice', 'Maize',\n",
              "       'Moong(Green Gram)', 'Maize', 'Moong(Green Gram)',\n",
              "       'Moong(Green Gram)', 'Moong(Green Gram)', 'Moong(Green Gram)',\n",
              "       'Maize', 'Moong(Green Gram)', 'Moong(Green Gram)',\n",
              "       'Moong(Green Gram)', 'Maize', 'Maize', 'Maize',\n",
              "       'Moong(Green Gram)', 'Moong(Green Gram)', 'Moong(Green Gram)',\n",
              "       'Maize', 'Moong(Green Gram)', 'Maize', 'Moong(Green Gram)',\n",
              "       'Moong(Green Gram)', 'Maize', 'Moong(Green Gram)', 'Maize',\n",
              "       'Moong(Green Gram)', 'Moong(Green Gram)', 'Rice',\n",
              "       'Moong(Green Gram)', 'Moong(Green Gram)', 'Moong(Green Gram)',\n",
              "       'Moong(Green Gram)', 'Moong(Green Gram)', 'Moong(Green Gram)',\n",
              "       'Maize', 'Moong(Green Gram)', 'Moong(Green Gram)',\n",
              "       'Moong(Green Gram)', 'Moong(Green Gram)', 'Maize',\n",
              "       'Moong(Green Gram)', 'Rice', 'Maize', 'Moong(Green Gram)', 'Maize',\n",
              "       'Maize', 'Maize', 'Moong(Green Gram)', 'Moong(Green Gram)',\n",
              "       'Moong(Green Gram)', 'Moong(Green Gram)', 'Rice', 'Rice',\n",
              "       'Moong(Green Gram)', 'Moong(Green Gram)', 'Rice',\n",
              "       'Moong(Green Gram)', 'Maize', 'Maize', 'Moong(Green Gram)',\n",
              "       'Moong(Green Gram)', 'Moong(Green Gram)', 'Rice',\n",
              "       'Moong(Green Gram)', 'Moong(Green Gram)', 'Rice', 'Maize',\n",
              "       'Moong(Green Gram)', 'Moong(Green Gram)', 'Moong(Green Gram)',\n",
              "       'Moong(Green Gram)', 'Moong(Green Gram)', 'Moong(Green Gram)',\n",
              "       'Maize', 'Rice', 'Maize', 'Moong(Green Gram)', 'Maize',\n",
              "       'Moong(Green Gram)', 'Moong(Green Gram)', 'Moong(Green Gram)',\n",
              "       'Rice', 'Maize', 'Moong(Green Gram)', 'Moong(Green Gram)',\n",
              "       'Moong(Green Gram)', 'Moong(Green Gram)', 'Moong(Green Gram)',\n",
              "       'Moong(Green Gram)', 'Moong(Green Gram)', 'Moong(Green Gram)',\n",
              "       'Maize', 'Maize', 'Moong(Green Gram)', 'Moong(Green Gram)',\n",
              "       'Moong(Green Gram)', 'Rice', 'Moong(Green Gram)',\n",
              "       'Moong(Green Gram)', 'Moong(Green Gram)', 'Maize',\n",
              "       'Moong(Green Gram)', 'Maize', 'Moong(Green Gram)', 'Maize',\n",
              "       'Moong(Green Gram)', 'Moong(Green Gram)', 'Moong(Green Gram)',\n",
              "       'Moong(Green Gram)', 'Moong(Green Gram)', 'Moong(Green Gram)',\n",
              "       'Rice', 'Moong(Green Gram)', 'Maize', 'Moong(Green Gram)', 'Rice',\n",
              "       'Rice', 'Maize', 'Moong(Green Gram)', 'Moong(Green Gram)',\n",
              "       'Moong(Green Gram)', 'Rice', 'Rice', 'Moong(Green Gram)',\n",
              "       'Moong(Green Gram)', 'Moong(Green Gram)', 'Moong(Green Gram)',\n",
              "       'Moong(Green Gram)', 'Moong(Green Gram)', 'Rice', 'Maize',\n",
              "       'Moong(Green Gram)', 'Moong(Green Gram)', 'Moong(Green Gram)',\n",
              "       'Moong(Green Gram)', 'Moong(Green Gram)', 'Maize',\n",
              "       'Moong(Green Gram)', 'Moong(Green Gram)', 'Moong(Green Gram)',\n",
              "       'Moong(Green Gram)', 'Moong(Green Gram)', 'Moong(Green Gram)',\n",
              "       'Moong(Green Gram)', 'Maize', 'Rice', 'Moong(Green Gram)',\n",
              "       'Moong(Green Gram)', 'Moong(Green Gram)', 'Moong(Green Gram)',\n",
              "       'Rice', 'Moong(Green Gram)', 'Maize', 'Moong(Green Gram)', 'Maize',\n",
              "       'Moong(Green Gram)', 'Rice', 'Rice', 'Moong(Green Gram)', 'Rice',\n",
              "       'Moong(Green Gram)', 'Maize', 'Moong(Green Gram)',\n",
              "       'Moong(Green Gram)', 'Rice', 'Rice', 'Moong(Green Gram)',\n",
              "       'Moong(Green Gram)', 'Rice', 'Rice', 'Rice', 'Moong(Green Gram)',\n",
              "       'Maize', 'Moong(Green Gram)', 'Moong(Green Gram)', 'Maize',\n",
              "       'Moong(Green Gram)', 'Rice', 'Moong(Green Gram)',\n",
              "       'Moong(Green Gram)', 'Moong(Green Gram)', 'Moong(Green Gram)',\n",
              "       'Moong(Green Gram)', 'Moong(Green Gram)', 'Moong(Green Gram)',\n",
              "       'Moong(Green Gram)', 'Rice', 'Moong(Green Gram)', 'Rice',\n",
              "       'Moong(Green Gram)', 'Rice', 'Moong(Green Gram)',\n",
              "       'Moong(Green Gram)', 'Rice', 'Rice', 'Moong(Green Gram)',\n",
              "       'Moong(Green Gram)', 'Moong(Green Gram)', 'Moong(Green Gram)',\n",
              "       'Moong(Green Gram)', 'Maize', 'Maize', 'Moong(Green Gram)',\n",
              "       'Moong(Green Gram)', 'Maize', 'Moong(Green Gram)',\n",
              "       'Moong(Green Gram)', 'Moong(Green Gram)', 'Moong(Green Gram)',\n",
              "       'Rice', 'Maize', 'Rice', 'Moong(Green Gram)', 'Rice', 'Maize',\n",
              "       'Rice', 'Moong(Green Gram)', 'Moong(Green Gram)',\n",
              "       'Moong(Green Gram)', 'Maize', 'Maize', 'Moong(Green Gram)',\n",
              "       'Moong(Green Gram)', 'Moong(Green Gram)', 'Rice',\n",
              "       'Moong(Green Gram)', 'Moong(Green Gram)', 'Moong(Green Gram)',\n",
              "       'Moong(Green Gram)', 'Rice', 'Moong(Green Gram)', 'Maize',\n",
              "       'Moong(Green Gram)', 'Maize', 'Moong(Green Gram)',\n",
              "       'Moong(Green Gram)', 'Moong(Green Gram)', 'Maize',\n",
              "       'Moong(Green Gram)', 'Rice', 'Moong(Green Gram)',\n",
              "       'Moong(Green Gram)', 'Maize', 'Moong(Green Gram)',\n",
              "       'Moong(Green Gram)', 'Moong(Green Gram)', 'Moong(Green Gram)',\n",
              "       'Maize', 'Moong(Green Gram)', 'Maize', 'Moong(Green Gram)',\n",
              "       'Moong(Green Gram)', 'Moong(Green Gram)', 'Moong(Green Gram)',\n",
              "       'Maize', 'Moong(Green Gram)', 'Maize', 'Maize',\n",
              "       'Moong(Green Gram)', 'Moong(Green Gram)', 'Rice',\n",
              "       'Moong(Green Gram)', 'Moong(Green Gram)', 'Moong(Green Gram)',\n",
              "       'Moong(Green Gram)', 'Moong(Green Gram)', 'Rice',\n",
              "       'Moong(Green Gram)', 'Maize', 'Moong(Green Gram)',\n",
              "       'Moong(Green Gram)', 'Rice', 'Rice', 'Moong(Green Gram)',\n",
              "       'Moong(Green Gram)', 'Moong(Green Gram)', 'Moong(Green Gram)',\n",
              "       'Moong(Green Gram)', 'Moong(Green Gram)', 'Maize', 'Maize',\n",
              "       'Moong(Green Gram)', 'Maize', 'Moong(Green Gram)',\n",
              "       'Moong(Green Gram)', 'Maize', 'Rice', 'Moong(Green Gram)', 'Rice',\n",
              "       'Moong(Green Gram)', 'Moong(Green Gram)', 'Moong(Green Gram)',\n",
              "       'Rice', 'Moong(Green Gram)', 'Rice', 'Moong(Green Gram)',\n",
              "       'Moong(Green Gram)', 'Maize', 'Moong(Green Gram)',\n",
              "       'Moong(Green Gram)', 'Moong(Green Gram)', 'Moong(Green Gram)',\n",
              "       'Moong(Green Gram)', 'Moong(Green Gram)', 'Moong(Green Gram)',\n",
              "       'Moong(Green Gram)', 'Rice', 'Maize', 'Moong(Green Gram)',\n",
              "       'Moong(Green Gram)', 'Moong(Green Gram)', 'Moong(Green Gram)',\n",
              "       'Maize', 'Moong(Green Gram)', 'Moong(Green Gram)',\n",
              "       'Moong(Green Gram)'], dtype='<U17')"
            ]
          },
          "metadata": {
            "tags": []
          },
          "execution_count": 16
        }
      ]
    },
    {
      "cell_type": "code",
      "metadata": {
        "id": "AIKVH0utQhi-",
        "colab_type": "code",
        "outputId": "6c48a432-b2b3-4473-bf27-4e6956508131",
        "colab": {
          "base_uri": "https://localhost:8080/",
          "height": 34
        }
      },
      "source": [
        "model.score(X_test,y_test)"
      ],
      "execution_count": 0,
      "outputs": [
        {
          "output_type": "execute_result",
          "data": {
            "text/plain": [
              "0.503968253968254"
            ]
          },
          "metadata": {
            "tags": []
          },
          "execution_count": 17
        }
      ]
    },
    {
      "cell_type": "code",
      "metadata": {
        "id": "-dycGyTwSGmi",
        "colab_type": "code",
        "outputId": "6d967742-0eeb-4c81-be3e-cebc046333c0",
        "colab": {
          "base_uri": "https://localhost:8080/",
          "height": 187
        }
      },
      "source": [
        "from sklearn.metrics import classification_report\n",
        "print(classification_report(y_test,pred))"
      ],
      "execution_count": 0,
      "outputs": [
        {
          "output_type": "stream",
          "text": [
            "                   precision    recall  f1-score   support\n",
            "\n",
            "            Maize       0.43      0.25      0.31       174\n",
            "Moong(Green Gram)       0.42      0.92      0.58       147\n",
            "             Rice       0.88      0.42      0.57       183\n",
            "\n",
            "         accuracy                           0.50       504\n",
            "        macro avg       0.58      0.53      0.49       504\n",
            "     weighted avg       0.59      0.50      0.48       504\n",
            "\n"
          ],
          "name": "stdout"
        }
      ]
    },
    {
      "cell_type": "code",
      "metadata": {
        "id": "cHq41fLnSGg4",
        "colab_type": "code",
        "outputId": "529b9d3a-daf9-4afd-cece-b69df2c9f371",
        "colab": {
          "base_uri": "https://localhost:8080/",
          "height": 359
        }
      },
      "source": [
        "X_test[:10]"
      ],
      "execution_count": 0,
      "outputs": [
        {
          "output_type": "execute_result",
          "data": {
            "text/html": [
              "<div>\n",
              "<style scoped>\n",
              "    .dataframe tbody tr th:only-of-type {\n",
              "        vertical-align: middle;\n",
              "    }\n",
              "\n",
              "    .dataframe tbody tr th {\n",
              "        vertical-align: top;\n",
              "    }\n",
              "\n",
              "    .dataframe thead th {\n",
              "        text-align: right;\n",
              "    }\n",
              "</style>\n",
              "<table border=\"1\" class=\"dataframe\">\n",
              "  <thead>\n",
              "    <tr style=\"text-align: right;\">\n",
              "      <th></th>\n",
              "      <th>Area</th>\n",
              "      <th>Rainfall</th>\n",
              "      <th>Humidity</th>\n",
              "      <th>Temperature</th>\n",
              "      <th>prevYearsRainfall</th>\n",
              "      <th>prevYearsTemperature</th>\n",
              "      <th>prevYearsHumidity</th>\n",
              "      <th>Autum</th>\n",
              "      <th>Winter</th>\n",
              "    </tr>\n",
              "  </thead>\n",
              "  <tbody>\n",
              "    <tr>\n",
              "      <th>995</th>\n",
              "      <td>675</td>\n",
              "      <td>3.2</td>\n",
              "      <td>0.76</td>\n",
              "      <td>35</td>\n",
              "      <td>0.400000</td>\n",
              "      <td>31.000000</td>\n",
              "      <td>0.700000</td>\n",
              "      <td>1</td>\n",
              "      <td>0</td>\n",
              "    </tr>\n",
              "    <tr>\n",
              "      <th>1104</th>\n",
              "      <td>3</td>\n",
              "      <td>0.2</td>\n",
              "      <td>0.99</td>\n",
              "      <td>21</td>\n",
              "      <td>6.204918</td>\n",
              "      <td>28.260583</td>\n",
              "      <td>0.763338</td>\n",
              "      <td>0</td>\n",
              "      <td>1</td>\n",
              "    </tr>\n",
              "    <tr>\n",
              "      <th>692</th>\n",
              "      <td>10186</td>\n",
              "      <td>15.0</td>\n",
              "      <td>0.74</td>\n",
              "      <td>30</td>\n",
              "      <td>6.700000</td>\n",
              "      <td>30.000000</td>\n",
              "      <td>0.670000</td>\n",
              "      <td>1</td>\n",
              "      <td>0</td>\n",
              "    </tr>\n",
              "    <tr>\n",
              "      <th>1453</th>\n",
              "      <td>7</td>\n",
              "      <td>2.9</td>\n",
              "      <td>0.74</td>\n",
              "      <td>31</td>\n",
              "      <td>5.800000</td>\n",
              "      <td>34.000000</td>\n",
              "      <td>0.810000</td>\n",
              "      <td>1</td>\n",
              "      <td>0</td>\n",
              "    </tr>\n",
              "    <tr>\n",
              "      <th>547</th>\n",
              "      <td>16310</td>\n",
              "      <td>6.5</td>\n",
              "      <td>0.69</td>\n",
              "      <td>32</td>\n",
              "      <td>9.300000</td>\n",
              "      <td>30.000000</td>\n",
              "      <td>0.790000</td>\n",
              "      <td>1</td>\n",
              "      <td>0</td>\n",
              "    </tr>\n",
              "    <tr>\n",
              "      <th>1138</th>\n",
              "      <td>213</td>\n",
              "      <td>0.0</td>\n",
              "      <td>0.69</td>\n",
              "      <td>25</td>\n",
              "      <td>0.000000</td>\n",
              "      <td>25.000000</td>\n",
              "      <td>0.750000</td>\n",
              "      <td>0</td>\n",
              "      <td>1</td>\n",
              "    </tr>\n",
              "    <tr>\n",
              "      <th>517</th>\n",
              "      <td>41</td>\n",
              "      <td>14.0</td>\n",
              "      <td>0.76</td>\n",
              "      <td>30</td>\n",
              "      <td>33.000000</td>\n",
              "      <td>32.000000</td>\n",
              "      <td>0.750000</td>\n",
              "      <td>1</td>\n",
              "      <td>0</td>\n",
              "    </tr>\n",
              "    <tr>\n",
              "      <th>954</th>\n",
              "      <td>4935</td>\n",
              "      <td>2.9</td>\n",
              "      <td>0.64</td>\n",
              "      <td>26</td>\n",
              "      <td>0.000000</td>\n",
              "      <td>30.000000</td>\n",
              "      <td>0.460000</td>\n",
              "      <td>0</td>\n",
              "      <td>1</td>\n",
              "    </tr>\n",
              "    <tr>\n",
              "      <th>2275</th>\n",
              "      <td>100602</td>\n",
              "      <td>0.1</td>\n",
              "      <td>0.64</td>\n",
              "      <td>24</td>\n",
              "      <td>0.000000</td>\n",
              "      <td>25.000000</td>\n",
              "      <td>0.860000</td>\n",
              "      <td>0</td>\n",
              "      <td>1</td>\n",
              "    </tr>\n",
              "    <tr>\n",
              "      <th>1977</th>\n",
              "      <td>201</td>\n",
              "      <td>0.0</td>\n",
              "      <td>0.69</td>\n",
              "      <td>25</td>\n",
              "      <td>0.000000</td>\n",
              "      <td>25.000000</td>\n",
              "      <td>0.750000</td>\n",
              "      <td>0</td>\n",
              "      <td>1</td>\n",
              "    </tr>\n",
              "  </tbody>\n",
              "</table>\n",
              "</div>"
            ],
            "text/plain": [
              "        Area  Rainfall  Humidity  ...  prevYearsHumidity  Autum  Winter\n",
              "995      675       3.2      0.76  ...           0.700000      1       0\n",
              "1104       3       0.2      0.99  ...           0.763338      0       1\n",
              "692    10186      15.0      0.74  ...           0.670000      1       0\n",
              "1453       7       2.9      0.74  ...           0.810000      1       0\n",
              "547    16310       6.5      0.69  ...           0.790000      1       0\n",
              "1138     213       0.0      0.69  ...           0.750000      0       1\n",
              "517       41      14.0      0.76  ...           0.750000      1       0\n",
              "954     4935       2.9      0.64  ...           0.460000      0       1\n",
              "2275  100602       0.1      0.64  ...           0.860000      0       1\n",
              "1977     201       0.0      0.69  ...           0.750000      0       1\n",
              "\n",
              "[10 rows x 9 columns]"
            ]
          },
          "metadata": {
            "tags": []
          },
          "execution_count": 19
        }
      ]
    },
    {
      "cell_type": "code",
      "metadata": {
        "id": "oWVStagESP0i",
        "colab_type": "code",
        "outputId": "97222f04-b5b6-49fd-a2d3-ee7f261c85fb",
        "colab": {
          "base_uri": "https://localhost:8080/",
          "height": 204
        }
      },
      "source": [
        "y_test[:10]"
      ],
      "execution_count": 0,
      "outputs": [
        {
          "output_type": "execute_result",
          "data": {
            "text/plain": [
              "995     Moong(Green Gram)\n",
              "1104    Moong(Green Gram)\n",
              "692                 Maize\n",
              "1453    Moong(Green Gram)\n",
              "547                 Maize\n",
              "1138    Moong(Green Gram)\n",
              "517                 Maize\n",
              "954     Moong(Green Gram)\n",
              "2275                 Rice\n",
              "1977                 Rice\n",
              "Name: Crop, dtype: object"
            ]
          },
          "metadata": {
            "tags": []
          },
          "execution_count": 20
        }
      ]
    },
    {
      "cell_type": "code",
      "metadata": {
        "id": "jJ7TF8hYSa6g",
        "colab_type": "code",
        "outputId": "bad9f12d-6403-449f-dedf-6d8cc190aebc",
        "colab": {
          "base_uri": "https://localhost:8080/",
          "height": 85
        }
      },
      "source": [
        "model.predict(X_test[:10])"
      ],
      "execution_count": 0,
      "outputs": [
        {
          "output_type": "execute_result",
          "data": {
            "text/plain": [
              "array(['Moong(Green Gram)', 'Moong(Green Gram)', 'Maize',\n",
              "       'Moong(Green Gram)', 'Maize', 'Moong(Green Gram)',\n",
              "       'Moong(Green Gram)', 'Moong(Green Gram)', 'Rice',\n",
              "       'Moong(Green Gram)'], dtype='<U17')"
            ]
          },
          "metadata": {
            "tags": []
          },
          "execution_count": 21
        }
      ]
    },
    {
      "cell_type": "code",
      "metadata": {
        "id": "YSXac6TwSh9m",
        "colab_type": "code",
        "outputId": "af998c28-98c3-4496-fb4f-e492024e40ad",
        "colab": {
          "base_uri": "https://localhost:8080/",
          "height": 187
        }
      },
      "source": [
        "model.predict_proba(X_test[:10])"
      ],
      "execution_count": 0,
      "outputs": [
        {
          "output_type": "execute_result",
          "data": {
            "text/plain": [
              "array([[3.62817850e-01, 5.67180642e-01, 7.00015081e-02],\n",
              "       [3.44881861e-01, 5.37253266e-01, 1.17864874e-01],\n",
              "       [5.40627758e-01, 3.48547624e-01, 1.10824618e-01],\n",
              "       [3.44608834e-01, 5.77668640e-01, 7.77225255e-02],\n",
              "       [7.31232818e-01, 7.47629980e-02, 1.94004184e-01],\n",
              "       [3.08427186e-01, 5.93403004e-01, 9.81698097e-02],\n",
              "       [3.48832065e-01, 6.17620619e-01, 3.35473160e-02],\n",
              "       [3.32823740e-01, 5.81035465e-01, 8.61407951e-02],\n",
              "       [6.92207683e-10, 2.07235487e-64, 9.99999999e-01],\n",
              "       [3.08484877e-01, 5.93301339e-01, 9.82137845e-02]])"
            ]
          },
          "metadata": {
            "tags": []
          },
          "execution_count": 22
        }
      ]
    },
    {
      "cell_type": "markdown",
      "metadata": {
        "id": "opklE7m3zqi3",
        "colab_type": "text"
      },
      "source": [
        "**SVM**"
      ]
    },
    {
      "cell_type": "code",
      "metadata": {
        "id": "AY9l91bkiSSP",
        "colab_type": "code",
        "colab": {}
      },
      "source": [
        "from sklearn import svm\n",
        "classifier = svm.SVC(kernel='linear',gamma='auto',C=2)\n",
        "classifier.fit(X_train,y_train)\n",
        "\n",
        "y_predict=classifier.predict(X_test)"
      ],
      "execution_count": 0,
      "outputs": []
    },
    {
      "cell_type": "code",
      "metadata": {
        "id": "wWoo1N3dUY4h",
        "colab_type": "code",
        "outputId": "4ca4e66e-046c-4f97-f8b4-3f3291922ae4",
        "colab": {
          "base_uri": "https://localhost:8080/",
          "height": 187
        }
      },
      "source": [
        "from sklearn.metrics import classification_report\n",
        "print(classification_report(y_test,y_predict))"
      ],
      "execution_count": 0,
      "outputs": [
        {
          "output_type": "stream",
          "text": [
            "                   precision    recall  f1-score   support\n",
            "\n",
            "            Maize       0.45      0.36      0.40       174\n",
            "Moong(Green Gram)       0.59      0.51      0.55       147\n",
            "             Rice       0.59      0.78      0.67       183\n",
            "\n",
            "         accuracy                           0.55       504\n",
            "        macro avg       0.54      0.55      0.54       504\n",
            "     weighted avg       0.54      0.55      0.54       504\n",
            "\n"
          ],
          "name": "stdout"
        }
      ]
    },
    {
      "cell_type": "markdown",
      "metadata": {
        "id": "r6oUtT5GWHyX",
        "colab_type": "text"
      },
      "source": [
        "**Random Forest**"
      ]
    },
    {
      "cell_type": "code",
      "metadata": {
        "id": "vGEmFLHpUvPw",
        "colab_type": "code",
        "outputId": "6a4cf6c3-bfe8-4f49-d194-4718d13884cd",
        "colab": {
          "base_uri": "https://localhost:8080/",
          "height": 136
        }
      },
      "source": [
        "from sklearn.ensemble import RandomForestClassifier\n",
        "model=RandomForestClassifier(n_estimators=60)\n",
        "model.fit(X_train,y_train)"
      ],
      "execution_count": 0,
      "outputs": [
        {
          "output_type": "execute_result",
          "data": {
            "text/plain": [
              "RandomForestClassifier(bootstrap=True, class_weight=None, criterion='gini',\n",
              "                       max_depth=None, max_features='auto', max_leaf_nodes=None,\n",
              "                       min_impurity_decrease=0.0, min_impurity_split=None,\n",
              "                       min_samples_leaf=1, min_samples_split=2,\n",
              "                       min_weight_fraction_leaf=0.0, n_estimators=60,\n",
              "                       n_jobs=None, oob_score=False, random_state=None,\n",
              "                       verbose=0, warm_start=False)"
            ]
          },
          "metadata": {
            "tags": []
          },
          "execution_count": 25
        }
      ]
    },
    {
      "cell_type": "code",
      "metadata": {
        "id": "2Kq_ZQXqV7PX",
        "colab_type": "code",
        "outputId": "9318f7d7-4a4b-4cea-b0d6-d123caea782c",
        "colab": {
          "base_uri": "https://localhost:8080/",
          "height": 34
        }
      },
      "source": [
        "model.score(X_test,y_test)"
      ],
      "execution_count": 0,
      "outputs": [
        {
          "output_type": "execute_result",
          "data": {
            "text/plain": [
              "0.5436507936507936"
            ]
          },
          "metadata": {
            "tags": []
          },
          "execution_count": 26
        }
      ]
    },
    {
      "cell_type": "code",
      "metadata": {
        "id": "ia3CFZS7hITA",
        "colab_type": "code",
        "outputId": "31752f6b-6ab2-405d-edb0-1eb7653d180a",
        "colab": {
          "base_uri": "https://localhost:8080/",
          "height": 187
        }
      },
      "source": [
        "y_predict=model.predict(X_test)\n",
        "from sklearn.metrics import classification_report\n",
        "print(classification_report(y_test,y_predict))"
      ],
      "execution_count": 0,
      "outputs": [
        {
          "output_type": "stream",
          "text": [
            "                   precision    recall  f1-score   support\n",
            "\n",
            "            Maize       0.49      0.49      0.49       174\n",
            "Moong(Green Gram)       0.50      0.48      0.49       147\n",
            "             Rice       0.63      0.64      0.63       183\n",
            "\n",
            "         accuracy                           0.54       504\n",
            "        macro avg       0.54      0.54      0.54       504\n",
            "     weighted avg       0.54      0.54      0.54       504\n",
            "\n"
          ],
          "name": "stdout"
        }
      ]
    },
    {
      "cell_type": "markdown",
      "metadata": {
        "id": "4DYB3yQNXBfZ",
        "colab_type": "text"
      },
      "source": [
        "**Logistic Regression**"
      ]
    },
    {
      "cell_type": "code",
      "metadata": {
        "id": "s17wEpXqXGEY",
        "colab_type": "code",
        "outputId": "64b30eec-5bd1-4cdb-a89a-2e214522a28f",
        "colab": {
          "base_uri": "https://localhost:8080/",
          "height": 122
        }
      },
      "source": [
        "\n",
        "import sklearn.linear_model as sk\n",
        "lr=sk.LogisticRegressionCV()\n",
        "#from sklearn.linear_model import LogisticRegression\n",
        "#lr=LogisticsRegression()\n",
        "lr.fit(X_train,y_train)\n",
        "lr.score(X_test,y_test)"
      ],
      "execution_count": 0,
      "outputs": [
        {
          "output_type": "stream",
          "text": [
            "/usr/local/lib/python3.6/dist-packages/sklearn/linear_model/logistic.py:469: FutureWarning: Default multi_class will be changed to 'auto' in 0.22. Specify the multi_class option to silence this warning.\n",
            "  \"this warning.\", FutureWarning)\n",
            "/usr/local/lib/python3.6/dist-packages/sklearn/model_selection/_split.py:1978: FutureWarning: The default value of cv will change from 3 to 5 in version 0.22. Specify it explicitly to silence this warning.\n",
            "  warnings.warn(CV_WARNING, FutureWarning)\n"
          ],
          "name": "stderr"
        },
        {
          "output_type": "execute_result",
          "data": {
            "text/plain": [
              "0.5059523809523809"
            ]
          },
          "metadata": {
            "tags": []
          },
          "execution_count": 27
        }
      ]
    },
    {
      "cell_type": "markdown",
      "metadata": {
        "id": "lojaU-K9ahl_",
        "colab_type": "text"
      },
      "source": [
        "**SVC**"
      ]
    },
    {
      "cell_type": "code",
      "metadata": {
        "id": "bocx8OkkZdNx",
        "colab_type": "code",
        "outputId": "832bc1bd-d79a-4572-e4a5-60bcde9010e6",
        "colab": {
          "base_uri": "https://localhost:8080/",
          "height": 316
        }
      },
      "source": [
        "# open the cmd shell.\n",
        "# 2- cd c:\\pythonVERSION\\scripts\n",
        "# 3- pip uninstall sklearn\n",
        "# 4- open in the explorer: C:\\pythonVERSION\\Lib\\site-packages\n",
        "# 5- look for the folders that contains sklearn and delete them ..\n",
        "# 6- back to cmd: pip install sklearn\n",
        "from sklearn.svm import svc\n",
        "\n"
      ],
      "execution_count": 0,
      "outputs": [
        {
          "output_type": "error",
          "ename": "ImportError",
          "evalue": "ignored",
          "traceback": [
            "\u001b[0;31m---------------------------------------------------------------------------\u001b[0m",
            "\u001b[0;31mImportError\u001b[0m                               Traceback (most recent call last)",
            "\u001b[0;32m<ipython-input-123-9a813ca3aa11>\u001b[0m in \u001b[0;36m<module>\u001b[0;34m()\u001b[0m\n\u001b[0;32m----> 1\u001b[0;31m \u001b[0;32mfrom\u001b[0m \u001b[0msklearn\u001b[0m\u001b[0;34m.\u001b[0m\u001b[0msvm\u001b[0m \u001b[0;32mimport\u001b[0m \u001b[0msvc\u001b[0m\u001b[0;34m\u001b[0m\u001b[0;34m\u001b[0m\u001b[0m\n\u001b[0m\u001b[1;32m      2\u001b[0m \u001b[0;34m\u001b[0m\u001b[0m\n",
            "\u001b[0;31mImportError\u001b[0m: cannot import name 'svc'",
            "",
            "\u001b[0;31m---------------------------------------------------------------------------\u001b[0;32m\nNOTE: If your import is failing due to a missing package, you can\nmanually install dependencies using either !pip or !apt.\n\nTo view examples of installing some common dependencies, click the\n\"Open Examples\" button below.\n\u001b[0;31m---------------------------------------------------------------------------\u001b[0m\n"
          ]
        }
      ]
    },
    {
      "cell_type": "markdown",
      "metadata": {
        "id": "_7FpCybahovb",
        "colab_type": "text"
      },
      "source": [
        "**Neural Network**"
      ]
    },
    {
      "cell_type": "code",
      "metadata": {
        "id": "MTcYR4Lpbt_o",
        "colab_type": "code",
        "outputId": "173fc250-e62a-4d6f-fcb9-d51c0fd77785",
        "colab": {
          "base_uri": "https://localhost:8080/",
          "height": 97
        }
      },
      "source": [
        "import keras\n",
        "keras.backend.backend()"
      ],
      "execution_count": 0,
      "outputs": [
        {
          "output_type": "stream",
          "text": [
            "Using TensorFlow backend.\n"
          ],
          "name": "stderr"
        },
        {
          "output_type": "display_data",
          "data": {
            "text/html": [
              "<p style=\"color: red;\">\n",
              "The default version of TensorFlow in Colab will soon switch to TensorFlow 2.x.<br>\n",
              "We recommend you <a href=\"https://www.tensorflow.org/guide/migrate\" target=\"_blank\">upgrade</a> now \n",
              "or ensure your notebook will continue to use TensorFlow 1.x via the <code>%tensorflow_version 1.x</code> magic:\n",
              "<a href=\"https://colab.research.google.com/notebooks/tensorflow_version.ipynb\" target=\"_blank\">more info</a>.</p>\n"
            ],
            "text/plain": [
              "<IPython.core.display.HTML object>"
            ]
          },
          "metadata": {
            "tags": []
          }
        },
        {
          "output_type": "execute_result",
          "data": {
            "text/plain": [
              "'tensorflow'"
            ]
          },
          "metadata": {
            "tags": []
          },
          "execution_count": 109
        }
      ]
    },
    {
      "cell_type": "markdown",
      "metadata": {
        "id": "dDXBlH1ah58H",
        "colab_type": "text"
      },
      "source": [
        "**KNN**"
      ]
    },
    {
      "cell_type": "code",
      "metadata": {
        "id": "b7-ATw5IhvqY",
        "colab_type": "code",
        "colab": {}
      },
      "source": [
        "from sklearn.preprocessing import StandardScaler\n",
        "from sklearn.neighbors import KNeighborsClassifier\n",
        "from sklearn.metrics import confusion_matrix\n",
        "from sklearn.metrics import f1_score\n",
        "from sklearn.metrics import accuracy_score\n",
        "\n"
      ],
      "execution_count": 0,
      "outputs": []
    },
    {
      "cell_type": "code",
      "metadata": {
        "id": "HHFBsINMiI-A",
        "colab_type": "code",
        "colab": {}
      },
      "source": [
        "X_train, X_test, y_train, y_test = train_test_split(inputs,target,test_size=0.2,random_state=1)"
      ],
      "execution_count": 0,
      "outputs": []
    },
    {
      "cell_type": "code",
      "metadata": {
        "id": "wqmdZDCbibhE",
        "colab_type": "code",
        "colab": {}
      },
      "source": [
        "\n",
        "scaler = StandardScaler()\n",
        "scaler.fit(X_train)\n",
        "X_train = scaler.transform(X_train)\n",
        "X_test = scaler.transform(X_test)"
      ],
      "execution_count": 0,
      "outputs": []
    },
    {
      "cell_type": "code",
      "metadata": {
        "id": "9G1GG9BEigdn",
        "colab_type": "code",
        "outputId": "0c0da70a-5e72-4ec3-9443-765b694ac2f3",
        "colab": {
          "base_uri": "https://localhost:8080/",
          "height": 68
        }
      },
      "source": [
        "classifier = KNeighborsClassifier(n_neighbors=18)\n",
        "classifier.fit(X_train, y_train)"
      ],
      "execution_count": 0,
      "outputs": [
        {
          "output_type": "execute_result",
          "data": {
            "text/plain": [
              "KNeighborsClassifier(algorithm='auto', leaf_size=30, metric='minkowski',\n",
              "                     metric_params=None, n_jobs=None, n_neighbors=18, p=2,\n",
              "                     weights='uniform')"
            ]
          },
          "metadata": {
            "tags": []
          },
          "execution_count": 39
        }
      ]
    },
    {
      "cell_type": "code",
      "metadata": {
        "id": "Zwb-PBghjR7C",
        "colab_type": "code",
        "colab": {}
      },
      "source": [
        "y_pred = classifier.predict(X_test)"
      ],
      "execution_count": 0,
      "outputs": []
    },
    {
      "cell_type": "code",
      "metadata": {
        "id": "A3MaXV8Vj0B3",
        "colab_type": "code",
        "outputId": "16c4ede6-eb53-4b2e-9517-738d9117ecc7",
        "colab": {
          "base_uri": "https://localhost:8080/",
          "height": 238
        }
      },
      "source": [
        "from sklearn.metrics import confusion_matrix\n",
        "print(confusion_matrix(y_test, y_pred))\n",
        "print(classification_report(y_test, y_pred))"
      ],
      "execution_count": 0,
      "outputs": [
        {
          "output_type": "stream",
          "text": [
            "[[101  39  34]\n",
            " [ 84  46  17]\n",
            " [ 70  15  98]]\n",
            "                   precision    recall  f1-score   support\n",
            "\n",
            "            Maize       0.40      0.58      0.47       174\n",
            "Moong(Green Gram)       0.46      0.31      0.37       147\n",
            "             Rice       0.66      0.54      0.59       183\n",
            "\n",
            "         accuracy                           0.49       504\n",
            "        macro avg       0.50      0.48      0.48       504\n",
            "     weighted avg       0.51      0.49      0.49       504\n",
            "\n"
          ],
          "name": "stdout"
        }
      ]
    },
    {
      "cell_type": "code",
      "metadata": {
        "id": "i9XP9Ob1jbj0",
        "colab_type": "code",
        "colab": {}
      },
      "source": [
        "import numpy as np\n",
        "import matplotlib.pyplot as plt\n",
        "\n",
        "error = []\n",
        "\n",
        "# Calculating error for K values between 1 and 40\n",
        "for i in range(15,20 ):\n",
        "    knn = KNeighborsClassifier(n_neighbors=i)\n",
        "    knn.fit(X_train, y_train)\n",
        "    pred_i = knn.predict(X_test)\n",
        "    error.append(np.mean(pred_i != y_test))"
      ],
      "execution_count": 0,
      "outputs": []
    },
    {
      "cell_type": "code",
      "metadata": {
        "id": "nizvbr8Ejo2Y",
        "colab_type": "code",
        "outputId": "037fde92-847c-4924-a026-08a71bbb3eac",
        "colab": {
          "base_uri": "https://localhost:8080/",
          "height": 421
        }
      },
      "source": [
        "plt.figure(figsize=(12, 6))\n",
        "plt.plot(range(15, 20), error, color='red', linestyle='dashed', marker='o',\n",
        "         markerfacecolor='blue', markersize=10)\n",
        "plt.title('Error Rate K Value')\n",
        "plt.xlabel('K Value')\n",
        "plt.ylabel('Mean Error')"
      ],
      "execution_count": 0,
      "outputs": [
        {
          "output_type": "execute_result",
          "data": {
            "text/plain": [
              "Text(0, 0.5, 'Mean Error')"
            ]
          },
          "metadata": {
            "tags": []
          },
          "execution_count": 44
        },
        {
          "output_type": "display_data",
          "data": {
            "image/png": "[encoded data removed]",
            "text/plain": [
              "<Figure size 864x432 with 1 Axes>"
            ]
          },
          "metadata": {
            "tags": []
          }
        }
      ]
    },
    {
      "cell_type": "code",
      "metadata": {
        "id": "Aqkhs_7sjv81",
        "colab_type": "code",
        "outputId": "77f743e4-9c91-4db4-a690-1a3b98d5b8a4",
        "colab": {
          "base_uri": "https://localhost:8080/",
          "height": 34
        }
      },
      "source": [
        "from sklearn.metrics import accuracy_score\n",
        "accuracy_score(y_test, y_pred)"
      ],
      "execution_count": 0,
      "outputs": [
        {
          "output_type": "execute_result",
          "data": {
            "text/plain": [
              "0.4861111111111111"
            ]
          },
          "metadata": {
            "tags": []
          },
          "execution_count": 45
        }
      ]
    }
  ]
}